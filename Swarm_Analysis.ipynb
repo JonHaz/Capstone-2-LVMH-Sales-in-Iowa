{
  "nbformat": 4,
  "nbformat_minor": 0,
  "metadata": {
    "colab": {
      "name": "Swarm Analysis",
      "provenance": [],
      "authorship_tag": "ABX9TyMfUrKjjuIRIjF5CcztcPll",
      "include_colab_link": true
    },
    "kernelspec": {
      "name": "python3",
      "display_name": "Python 3"
    },
    "language_info": {
      "name": "python"
    }
  },
  "cells": [
    {
      "cell_type": "markdown",
      "metadata": {
        "id": "view-in-github",
        "colab_type": "text"
      },
      "source": [
        "<a href=\"https://colab.research.google.com/github/JonHaz/Capstone-2-LVMH-Sales-in-Iowa/blob/main/Swarm_Analysis.ipynb\" target=\"_parent\"><img src=\"https://colab.research.google.com/assets/colab-badge.svg\" alt=\"Open In Colab\"/></a>"
      ]
    },
    {
      "cell_type": "code",
      "metadata": {
        "id": "h0YQGdrG7jWc"
      },
      "source": [
        "import numpy as np\n",
        "import pandas as pd\n",
        "\n",
        "# data visualization\n",
        "import matplotlib.pyplot as plt\n",
        "import seaborn as sns "
      ],
      "execution_count": 12,
      "outputs": []
    },
    {
      "cell_type": "code",
      "metadata": {
        "colab": {
          "base_uri": "https://localhost:8080/"
        },
        "id": "iAbM6heG7uUE",
        "outputId": "7ded8cc0-c94f-440b-c576-115bbf32749f"
      },
      "source": [
        "from google.colab import drive\n",
        "drive.mount('/content/drive')"
      ],
      "execution_count": 2,
      "outputs": [
        {
          "output_type": "stream",
          "name": "stdout",
          "text": [
            "Mounted at /content/drive\n"
          ]
        }
      ]
    },
    {
      "cell_type": "code",
      "metadata": {
        "colab": {
          "base_uri": "https://localhost:8080/"
        },
        "id": "lzOMqXwJ79oe",
        "outputId": "42fba9f0-439f-40a7-d84f-6b931807c1f7"
      },
      "source": [
        "path = \"/content/drive/MyDrive/Aligned.csv\"\n",
        "aligned = pd.read_csv(path,low_memory=False)\n",
        "print(aligned.head())\n",
        "print(aligned.describe())"
      ],
      "execution_count": 13,
      "outputs": [
        {
          "output_type": "stream",
          "name": "stdout",
          "text": [
            "        x1      y1  xVel1  yVel1   xA1  ...  xC200  yC200  nAC200  nS200  Class\n",
            "0 -1414.14 -535.22 -17.88  -7.23  0.00  ...   0.00   0.00      29      0      0\n",
            "1 -1412.93  597.54 -13.55  -5.48  0.00  ...   0.00   0.00      44      0      0\n",
            "2 -1407.38   70.72 -14.37  -5.81  0.00  ...   0.00   0.00      40      0      0\n",
            "3 -1407.00 -759.80  -7.59  -1.27 -0.98  ...  -0.52   0.86       3      0      1\n",
            "4 -1406.36  698.39 -16.54  -6.95 -1.00  ...   0.00   0.00      13      0      0\n",
            "\n",
            "[5 rows x 2401 columns]\n",
            "                 x1            y1  ...        nS200         Class\n",
            "count  24016.000000  24016.000000  ...  24016.00000  24016.000000\n",
            "mean     108.310513    -73.077114  ...      2.14736      0.312500\n",
            "std      842.175333    572.552115  ...      7.53273      0.463522\n",
            "min    -1414.140000  -1012.180000  ...      0.00000      0.000000\n",
            "25%     -539.662500   -609.352500  ...      0.00000      0.000000\n",
            "50%      156.085000   -156.685000  ...      0.00000      0.000000\n",
            "75%      898.112500    424.445000  ...      1.00000      1.000000\n",
            "max     1406.080000   1015.800000  ...     65.00000      1.000000\n",
            "\n",
            "[8 rows x 2401 columns]\n"
          ]
        }
      ]
    },
    {
      "cell_type": "code",
      "metadata": {
        "colab": {
          "base_uri": "https://localhost:8080/"
        },
        "id": "hPpIxaCS7-cU",
        "outputId": "bfd74647-acee-4ff2-d695-a20f783dd26f"
      },
      "source": [
        "path = \"/content/drive/MyDrive/Flocking.csv\"\n",
        "flock = pd.read_csv(path,low_memory=False)\n",
        "print(flock.head())\n",
        "print(flock.describe())"
      ],
      "execution_count": 14,
      "outputs": [
        {
          "output_type": "stream",
          "name": "stdout",
          "text": [
            "         x1      y1  xVel1  yVel1   xA1  ...  xC200  yC200  nAC200  nS200  Class \n",
            "0  -1414.14 -535.22 -17.88  -7.23  0.00  ...   0.00   0.00      29      0       0\n",
            "1  -1412.93  597.54 -13.55  -5.48  0.00  ...   0.00   0.00      44      0       0\n",
            "2  -1407.38   70.72 -14.37  -5.81  0.00  ...   0.00   0.00      40      0       0\n",
            "3     -1407 -759.80  -7.59  -1.27 -0.98  ...  -0.52   0.86       3      0       1\n",
            "4  -1406.36  698.39 -16.54  -6.95 -1.00  ...   0.00   0.00      13      0       0\n",
            "\n",
            "[5 rows x 2401 columns]\n",
            "                 y1         xVel1  ...        nS200       Class \n",
            "count  24016.000000  24016.000000  ...  24016.00000  24016.00000\n",
            "mean     -73.077114     -0.737331  ...      2.14736      0.50000\n",
            "std      572.552115      6.445250  ...      7.53273      0.50001\n",
            "min    -1012.180000    -18.590000  ...      0.00000      0.00000\n",
            "25%     -609.352500     -5.520000  ...      0.00000      0.00000\n",
            "50%     -156.685000     -0.460000  ...      0.00000      0.50000\n",
            "75%      424.445000      3.820000  ...      1.00000      1.00000\n",
            "max     1015.800000     18.470000  ...     65.00000      1.00000\n",
            "\n",
            "[8 rows x 2400 columns]\n"
          ]
        }
      ]
    },
    {
      "cell_type": "code",
      "metadata": {
        "colab": {
          "base_uri": "https://localhost:8080/"
        },
        "id": "CGIqU44I7_PM",
        "outputId": "f8425967-27fc-4f48-dc61-a1926b13f22b"
      },
      "source": [
        "path = \"/content/drive/MyDrive/Grouped.csv\"\n",
        "group = pd.read_csv(path,low_memory=False)\n",
        "print(group.head())\n",
        "print(group.describe())"
      ],
      "execution_count": 16,
      "outputs": [
        {
          "output_type": "stream",
          "name": "stdout",
          "text": [
            "        x1      y1  xVel1  yVel1   xA1  ...  xC200  yC200  nAC200  nS200  Class\n",
            "0 -1414.14 -535.22 -17.88  -7.23  0.00  ...   0.00   0.00      29      0      0\n",
            "1 -1412.93  597.54 -13.55  -5.48  0.00  ...   0.00   0.00      44      0      0\n",
            "2 -1407.38   70.72 -14.37  -5.81  0.00  ...   0.00   0.00      40      0      0\n",
            "3 -1407.00 -759.80  -7.59  -1.27 -0.98  ...  -0.52   0.86       3      0      1\n",
            "4 -1406.36  698.39 -16.54  -6.95 -1.00  ...   0.00   0.00      13      0      0\n",
            "\n",
            "[5 rows x 2401 columns]\n",
            "                 x1            y1  ...        nS200         Class\n",
            "count  24016.000000  24016.000000  ...  24016.00000  24016.000000\n",
            "mean     108.310513    -73.077114  ...      2.14736      0.375000\n",
            "std      842.175333    572.552115  ...      7.53273      0.484133\n",
            "min    -1414.140000  -1012.180000  ...      0.00000      0.000000\n",
            "25%     -539.662500   -609.352500  ...      0.00000      0.000000\n",
            "50%      156.085000   -156.685000  ...      0.00000      0.000000\n",
            "75%      898.112500    424.445000  ...      1.00000      1.000000\n",
            "max     1406.080000   1015.800000  ...     65.00000      1.000000\n",
            "\n",
            "[8 rows x 2401 columns]\n"
          ]
        }
      ]
    }
  ]
}