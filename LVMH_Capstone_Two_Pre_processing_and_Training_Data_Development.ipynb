{
  "nbformat": 4,
  "nbformat_minor": 0,
  "metadata": {
    "colab": {
      "name": "LVMH Capstone Two - Pre-processing and Training Data Development",
      "provenance": [],
      "authorship_tag": "ABX9TyPK7xM61xaIFfeZ0qMFG2ZZ",
      "include_colab_link": true
    },
    "kernelspec": {
      "name": "python3",
      "display_name": "Python 3"
    },
    "language_info": {
      "name": "python"
    }
  },
  "cells": [
    {
      "cell_type": "markdown",
      "metadata": {
        "id": "view-in-github",
        "colab_type": "text"
      },
      "source": [
        "<a href=\"https://colab.research.google.com/github/JonHaz/Capstone-2-LVMH-Sales-in-Iowa/blob/main/LVMH_Capstone_Two_Pre_processing_and_Training_Data_Development.ipynb\" target=\"_parent\"><img src=\"https://colab.research.google.com/assets/colab-badge.svg\" alt=\"Open In Colab\"/></a>"
      ]
    },
    {
      "cell_type": "code",
      "metadata": {
        "id": "HjGoR4xBdOn-"
      },
      "source": [
        "import pandas as pd\n",
        "from sklearn.preprocessing import StandardScaler\n",
        "from datetime import datetime,timedelta"
      ],
      "execution_count": 1,
      "outputs": []
    },
    {
      "cell_type": "code",
      "metadata": {
        "colab": {
          "base_uri": "https://localhost:8080/"
        },
        "id": "fXKBnRUCjZN9",
        "outputId": "10abd677-7734-4308-86ea-de27a2fd8e04"
      },
      "source": [
        "# I am establishing a connection to my Sandbox within BigQuery so that I can run SQL queries to interact with the data here within Google Collab\n",
        "from google.colab import auth\n",
        "auth.authenticate_user()\n",
        "print('Authenticated')\n"
      ],
      "execution_count": 2,
      "outputs": [
        {
          "output_type": "stream",
          "text": [
            "Authenticated\n"
          ],
          "name": "stdout"
        }
      ]
    },
    {
      "cell_type": "code",
      "metadata": {
        "id": "pF7krILojwpB"
      },
      "source": [
        "# Save output in a variable `df`\n",
        "%%bigquery --project storied-sound-253213 df\n",
        "SELECT *\n",
        "FROM `bigquery-public-data.iowa_liquor_sales.sales`\n",
        "WHERE vendor_name LIKE '%HENNESSY%'"
      ],
      "execution_count": 3,
      "outputs": []
    },
    {
      "cell_type": "code",
      "metadata": {
        "colab": {
          "base_uri": "https://localhost:8080/"
        },
        "id": "c8EE5X3acPP8",
        "outputId": "42158eb4-21a3-47cc-d198-7cbb961c9122"
      },
      "source": [
        "df.dtypes"
      ],
      "execution_count": 4,
      "outputs": [
        {
          "output_type": "execute_result",
          "data": {
            "text/plain": [
              "invoice_and_item_number     object\n",
              "date                        object\n",
              "store_number                object\n",
              "store_name                  object\n",
              "address                     object\n",
              "city                        object\n",
              "zip_code                    object\n",
              "store_location              object\n",
              "county_number               object\n",
              "county                      object\n",
              "category                    object\n",
              "category_name               object\n",
              "vendor_number               object\n",
              "vendor_name                 object\n",
              "item_number                 object\n",
              "item_description            object\n",
              "pack                         int64\n",
              "bottle_volume_ml             int64\n",
              "state_bottle_cost          float64\n",
              "state_bottle_retail        float64\n",
              "bottles_sold                 int64\n",
              "sale_dollars               float64\n",
              "volume_sold_liters         float64\n",
              "volume_sold_gallons        float64\n",
              "dtype: object"
            ]
          },
          "metadata": {
            "tags": []
          },
          "execution_count": 4
        }
      ]
    },
    {
      "cell_type": "markdown",
      "metadata": {
        "id": "vfuFWeMekz-o"
      },
      "source": [
        "Step 1 : Create dummy or indicator features for categorical variables"
      ]
    },
    {
      "cell_type": "code",
      "metadata": {
        "colab": {
          "base_uri": "https://localhost:8080/"
        },
        "id": "Sv-N9x3pgiKa",
        "outputId": "31477eb3-d100-4cdd-80ca-90eda83970d4"
      },
      "source": [
        "df.nunique()"
      ],
      "execution_count": 5,
      "outputs": [
        {
          "output_type": "execute_result",
          "data": {
            "text/plain": [
              "invoice_and_item_number    175379\n",
              "date                         1256\n",
              "store_number                 1952\n",
              "store_name                   2027\n",
              "address                      1898\n",
              "city                          397\n",
              "zip_code                      434\n",
              "store_location               1678\n",
              "county_number                  99\n",
              "county                        129\n",
              "category                       10\n",
              "category_name                  10\n",
              "vendor_number                   1\n",
              "vendor_name                     1\n",
              "item_number                   120\n",
              "item_description              121\n",
              "pack                            9\n",
              "bottle_volume_ml               11\n",
              "state_bottle_cost              86\n",
              "state_bottle_retail            86\n",
              "bottles_sold                   91\n",
              "sale_dollars                 1112\n",
              "volume_sold_liters            176\n",
              "volume_sold_gallons           222\n",
              "dtype: int64"
            ]
          },
          "metadata": {
            "tags": []
          },
          "execution_count": 5
        }
      ]
    },
    {
      "cell_type": "markdown",
      "metadata": {
        "id": "KMfhgQvGk-GO"
      },
      "source": [
        "So just by looking we can see that there are a ton of unique entries per column, since computing resources are finite I am going to cut down the number of features."
      ]
    },
    {
      "cell_type": "code",
      "metadata": {
        "colab": {
          "base_uri": "https://localhost:8080/"
        },
        "id": "fiRhs4iqj2Un",
        "outputId": "5734f7ae-360b-4d7e-b74c-2235582384d2"
      },
      "source": [
        "#applying a little data cleaning\n",
        "#changing data types for 'date', 'pack', 'bottle_volume_ml'\n",
        "df['date'] = pd.to_datetime(df['date'])\n",
        "add_cat = ['pack', 'bottle_volume_ml']\n",
        "df[add_cat] = df[add_cat].astype(str)\n",
        "#removing fields that are unique identifiers, are redundant, or have more than 100 unique options\n",
        "# ['invoice_and_item_number' , 'vendor_number','vendor_name', 'store_name', 'address','item_description', 'item_number', 'store_number', 'city', 'zip_code', 'store_location', 'county_number', 'county']\n",
        "remove_cat = ['invoice_and_item_number' , 'vendor_number','vendor_name', 'store_name', 'address','item_description', 'item_number', 'store_number', 'city', 'zip_code', 'store_location', 'county_number', 'county']\n",
        "df_cat = df.drop(columns=remove_cat)\n",
        "df_cat.info()"
      ],
      "execution_count": 6,
      "outputs": [
        {
          "output_type": "stream",
          "text": [
            "<class 'pandas.core.frame.DataFrame'>\n",
            "RangeIndex: 175379 entries, 0 to 175378\n",
            "Data columns (total 11 columns):\n",
            " #   Column               Non-Null Count   Dtype         \n",
            "---  ------               --------------   -----         \n",
            " 0   date                 175379 non-null  datetime64[ns]\n",
            " 1   category             174978 non-null  object        \n",
            " 2   category_name        174978 non-null  object        \n",
            " 3   pack                 175379 non-null  object        \n",
            " 4   bottle_volume_ml     175379 non-null  object        \n",
            " 5   state_bottle_cost    175379 non-null  float64       \n",
            " 6   state_bottle_retail  175379 non-null  float64       \n",
            " 7   bottles_sold         175379 non-null  int64         \n",
            " 8   sale_dollars         175379 non-null  float64       \n",
            " 9   volume_sold_liters   175379 non-null  float64       \n",
            " 10  volume_sold_gallons  175379 non-null  float64       \n",
            "dtypes: datetime64[ns](1), float64(5), int64(1), object(4)\n",
            "memory usage: 14.7+ MB\n"
          ],
          "name": "stdout"
        }
      ]
    },
    {
      "cell_type": "markdown",
      "metadata": {
        "id": "5qXNDQOLdslJ"
      },
      "source": [
        "First, we select all the columns that are categorical which are those with the data type = ‘object’, creating a data frame subset named ‘dfo’. Next, we concatenate the original data frame df while dropping those columns selected in the dfo, df.drop(dfo,axis=1), with the pandas.get_dummies(dfo) command, creating only indicator columns for the selected object data type columns and collating it with other numeric data frame columns.\n"
      ]
    },
    {
      "cell_type": "code",
      "metadata": {
        "id": "s9akWUppdwZ_"
      },
      "source": [
        "# select object type columns\n",
        "dfo=df_cat.select_dtypes(include=['object']) \n",
        "df = pd.concat([df.drop(dfo, axis=1), pd.get_dummies(dfo)], axis=1)"
      ],
      "execution_count": 7,
      "outputs": []
    },
    {
      "cell_type": "code",
      "metadata": {
        "colab": {
          "base_uri": "https://localhost:8080/"
        },
        "id": "7lk_DDoAj8dM",
        "outputId": "ad452e56-b8fd-401b-8ede-af1faae886dc"
      },
      "source": [
        "# lets move the field 'invoice_and_item_number' to the index\n",
        "df = df.set_index('invoice_and_item_number')\n",
        "\n",
        "# creating a series of dates\n",
        "df_date = df['date']\n",
        "\n",
        "# dropping columns so that the data can be scaled\n",
        "cat = ['date','store_number',\t'store_name',\t'address',\t'city',\t'zip_code',\t'store_location',\t'county_number',\t'county',\t'vendor_number',\t'vendor_name',\t'item_number',\t'item_description']\n",
        "df_scaled = df.drop(columns=cat)\n",
        "print(df_scaled.head())\n",
        "print(df_date)"
      ],
      "execution_count": 8,
      "outputs": [
        {
          "output_type": "stream",
          "text": [
            "                         state_bottle_cost  ...  bottle_volume_ml_850\n",
            "invoice_and_item_number                     ...                      \n",
            "INV-30752900191                      34.99  ...                     0\n",
            "INV-20918000010                      49.99  ...                     0\n",
            "INV-10472100006                      49.99  ...                     0\n",
            "INV-07182900001                      35.49  ...                     0\n",
            "INV-06905200006                       5.99  ...                     0\n",
            "\n",
            "[5 rows x 46 columns]\n",
            "invoice_and_item_number\n",
            "INV-30752900191   2020-10-05\n",
            "INV-20918000010   2019-07-30\n",
            "INV-10472100006   2018-02-19\n",
            "INV-07182900001   2017-09-12\n",
            "INV-06905200006   2017-08-28\n",
            "                     ...    \n",
            "INV-36711500140   2021-05-18\n",
            "INV-35226700010   2021-03-23\n",
            "INV-34178300020   2021-02-10\n",
            "INV-37120400022   2021-06-02\n",
            "INV-37409700059   2021-06-11\n",
            "Name: date, Length: 175379, dtype: datetime64[ns]\n"
          ],
          "name": "stdout"
        }
      ]
    },
    {
      "cell_type": "markdown",
      "metadata": {
        "id": "vVchxlJjmp1r"
      },
      "source": [
        "Step 2. Standardize the magnitude of numeric features"
      ]
    },
    {
      "cell_type": "code",
      "metadata": {
        "colab": {
          "base_uri": "https://localhost:8080/"
        },
        "id": "N143AtqsmquX",
        "outputId": "b9ff686a-336c-4e98-f43e-1d1691cad452"
      },
      "source": [
        "#Using StandardScaler to normalize my data\n",
        "scaler = StandardScaler()\n",
        "scaler.fit(df_scaled)"
      ],
      "execution_count": 26,
      "outputs": [
        {
          "output_type": "execute_result",
          "data": {
            "text/plain": [
              "StandardScaler(copy=True, with_mean=True, with_std=True)"
            ]
          },
          "metadata": {
            "tags": []
          },
          "execution_count": 26
        }
      ]
    },
    {
      "cell_type": "markdown",
      "metadata": {
        "id": "knhYA-bbsItf"
      },
      "source": [
        "Since I have time data I need to appropriately split it into training and testing data for an optimal model outcome."
      ]
    },
    {
      "cell_type": "code",
      "metadata": {
        "id": "BHm10AW57Jbs"
      },
      "source": [
        "#joining df_scaled to df_date on their indexes which is \"invoice_and_item_number\"\n",
        "df = df_scaled.join(df_date, lsuffix='_df_scaled', rsuffix='_df_date')\n",
        "\n",
        "#ordering the data by date\n",
        "df = df.sort_values(by='date')\n"
      ],
      "execution_count": 27,
      "outputs": []
    },
    {
      "cell_type": "code",
      "metadata": {
        "id": "7uwoQobogqQ3"
      },
      "source": [
        "#establishing what my independent and dependent variable should be\n",
        "X = df.loc[:,df.columns!=\"sale_dollars\"]\n",
        "y = df['sale_dollars']\n",
        "test_size = 0.2\n",
        "date_col = df.date"
      ],
      "execution_count": 28,
      "outputs": []
    },
    {
      "cell_type": "code",
      "metadata": {
        "id": "jQK5T9EusNJ8"
      },
      "source": [
        "# using train_test_split making sure that my data is not shuffled since it is time series\n",
        "from sklearn.model_selection import train_test_split\n",
        "X_train, X_test, y_train, y_test = train_test_split(X, y,test_size=test_size, shuffle= False)"
      ],
      "execution_count": 29,
      "outputs": []
    }
  ]
}