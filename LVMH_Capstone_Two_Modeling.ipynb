{
  "nbformat": 4,
  "nbformat_minor": 0,
  "metadata": {
    "colab": {
      "name": "LVMH Capstone Two - Modeling",
      "provenance": [],
      "mount_file_id": "1m9Gcr1SUo1XvEbGjsJSsEkU5UUr4cNRn",
      "authorship_tag": "ABX9TyMnkoXu+GZWLjbVOCoX6hYO",
      "include_colab_link": true
    },
    "kernelspec": {
      "name": "python3",
      "display_name": "Python 3"
    },
    "language_info": {
      "name": "python"
    }
  },
  "cells": [
    {
      "cell_type": "markdown",
      "metadata": {
        "id": "view-in-github",
        "colab_type": "text"
      },
      "source": [
        "<a href=\"https://colab.research.google.com/github/JonHaz/Capstone-2-LVMH-Sales-in-Iowa/blob/main/LVMH_Capstone_Two_Modeling.ipynb\" target=\"_parent\"><img src=\"https://colab.research.google.com/assets/colab-badge.svg\" alt=\"Open In Colab\"/></a>"
      ]
    },
    {
      "cell_type": "markdown",
      "metadata": {
        "id": "VwmZqIj0aZ41"
      },
      "source": [
        "In this notebook I will be testing out different machine learning models to predict sales\n",
        "\n",
        "*   ARIMA\n",
        "*   Linear Regression\n",
        "*   Random Forest Regression\n",
        "*   XGBoost\n",
        "*   Long Short Term Memory\n",
        "\n",
        "My game plan is to\n",
        "\n",
        "\n",
        "*   split the data into train and test\n",
        "*   create a pipeline\n",
        "*   perform 5 fold cross validation\n",
        "*   use gradient boosting to determine what learning rate has the best accuracy\n",
        "*   Random Search to determine what is a good enough parameter"
      ]
    },
    {
      "cell_type": "markdown",
      "metadata": {
        "id": "iHTaXV3FLXJD"
      },
      "source": [
        "Limit the number of unique values in my dataset by grouping them\n",
        "\n",
        "Replace a category with the average "
      ]
    },
    {
      "cell_type": "code",
      "metadata": {
        "id": "Qt41gVgqaNoM",
        "colab": {
          "base_uri": "https://localhost:8080/"
        },
        "outputId": "f5bd40d5-c621-4648-92d5-c48e2739d6ee"
      },
      "source": [
        "#Packages I will be using\n",
        "import pandas as pd\n",
        "from datetime import datetime, timedelta\n",
        "from scipy import stats\n",
        "\n",
        "import matplotlib.pyplot as plt\n",
        "import seaborn as sns\n",
        "\n",
        "from sklearn.preprocessing import StandardScaler\n",
        "from sklearn.datasets import make_classification\n",
        "from sklearn.model_selection import train_test_split\n",
        "from sklearn.pipeline import Pipeline\n",
        "from sklearn.model_selection import cross_val_score\n",
        "\n",
        "from statsmodels.tsa.arima_model import ARMA\n",
        "from sklearn.metrics import mean_squared_error\n",
        "\n",
        "from sklearn.linear_model import Ridge\n",
        "from sklearn.preprocessing import PolynomialFeatures\n",
        "#https://github.com/srpraveen97/Electrical_Demand_Toronto/blob/main/Jupyter%20Notebooks/LinearModel_TimeSeries.ipynb\n",
        "\n",
        "from sklearn.model_selection import cross_val_score\n",
        "from sklearn.ensemble import RandomForestClassifier"
      ],
      "execution_count": 1,
      "outputs": [
        {
          "output_type": "stream",
          "text": [
            "/usr/local/lib/python3.7/dist-packages/statsmodels/tools/_testing.py:19: FutureWarning: pandas.util.testing is deprecated. Use the functions in the public API at pandas.testing instead.\n",
            "  import pandas.util.testing as tm\n"
          ],
          "name": "stderr"
        }
      ]
    },
    {
      "cell_type": "code",
      "metadata": {
        "id": "HSsa7uYSapp0",
        "colab": {
          "base_uri": "https://localhost:8080/"
        },
        "outputId": "76b5f7fa-9541-4582-ecef-b1bb86f44249"
      },
      "source": [
        "# I am establishing a connection to my Sandbox within BigQuery so that I can run SQL queries to interact with the data here within Google Collab\n",
        "from google.colab import auth\n",
        "auth.authenticate_user()\n",
        "print('Authenticated')\n"
      ],
      "execution_count": 3,
      "outputs": [
        {
          "output_type": "stream",
          "text": [
            "Authenticated\n"
          ],
          "name": "stdout"
        }
      ]
    },
    {
      "cell_type": "code",
      "metadata": {
        "id": "xbrj131xa3je"
      },
      "source": [
        "# Save output in a variable `df`\n",
        "%%bigquery --project storied-sound-253213 df\n",
        "SELECT *\n",
        "FROM `bigquery-public-data.iowa_liquor_sales.sales`\n",
        "WHERE vendor_number = '420'"
      ],
      "execution_count": 4,
      "outputs": []
    },
    {
      "cell_type": "code",
      "metadata": {
        "colab": {
          "base_uri": "https://localhost:8080/"
        },
        "id": "jPsjJojmJpmQ",
        "outputId": "13eaf757-7fa4-4472-f26c-d024df799212"
      },
      "source": [
        "df.nunique()"
      ],
      "execution_count": 5,
      "outputs": [
        {
          "output_type": "execute_result",
          "data": {
            "text/plain": [
              "invoice_and_item_number    260666\n",
              "date                         2011\n",
              "store_number                 2185\n",
              "store_name                   2314\n",
              "address                      3183\n",
              "city                          722\n",
              "zip_code                      452\n",
              "store_location               1772\n",
              "county_number                 108\n",
              "county                        199\n",
              "category                       17\n",
              "category_name                  19\n",
              "vendor_number                   1\n",
              "vendor_name                     2\n",
              "item_number                   181\n",
              "item_description              166\n",
              "pack                           11\n",
              "bottle_volume_ml               17\n",
              "state_bottle_cost             174\n",
              "state_bottle_retail           179\n",
              "bottles_sold                   97\n",
              "sale_dollars                 1859\n",
              "volume_sold_liters            210\n",
              "volume_sold_gallons           253\n",
              "dtype: int64"
            ]
          },
          "metadata": {
            "tags": []
          },
          "execution_count": 5
        }
      ]
    },
    {
      "cell_type": "code",
      "metadata": {
        "id": "gMz0XcD0a4ko"
      },
      "source": [
        "#applying a little data cleaning\n",
        "#changing data types for 'date', 'pack', 'bottle_volume_ml'\n",
        "df['date'] = pd.to_datetime(df['date'])\n",
        "add_cat = ['pack', 'bottle_volume_ml']\n",
        "df[add_cat] = df[add_cat].astype(str)\n",
        "#removing fields that are unique identifiers, are redundant, or have more than 100 unique options\n",
        "# ['invoice_and_item_number' , 'vendor_number','vendor_name', 'store_name', 'address','item_description', 'item_number', 'store_number', 'city', 'zip_code', 'store_location', 'county_number', 'county']\n",
        "remove_cat = ['invoice_and_item_number' , 'vendor_number','vendor_name', 'store_name', 'address','item_description', 'item_number', 'store_number', 'city', 'zip_code', 'store_location', 'county_number', 'county']\n",
        "df_cat = df.drop(columns=remove_cat)"
      ],
      "execution_count": 6,
      "outputs": []
    },
    {
      "cell_type": "code",
      "metadata": {
        "id": "A7SQSwKma-8Q"
      },
      "source": [
        "# select object type columns\n",
        "dfo=df_cat.select_dtypes(include=['object']) \n",
        "df = pd.concat([df.drop(dfo, axis=1), pd.get_dummies(dfo)], axis=1)"
      ],
      "execution_count": 7,
      "outputs": []
    },
    {
      "cell_type": "code",
      "metadata": {
        "id": "oGPRorx-bDFL"
      },
      "source": [
        "# lets move the field 'invoice_and_item_number' to the index\n",
        "df = df.set_index('invoice_and_item_number')\n",
        "\n",
        "# creating a series of dates\n",
        "df_date = df['date']\n",
        "\n",
        "# dropping columns so that the data can be scaled\n",
        "cat = ['date','store_number',\t'store_name',\t'address',\t'city',\t'zip_code',\t'store_location',\t'county_number',\t'county',\t'vendor_number',\t'vendor_name',\t'item_number',\t'item_description']\n",
        "df_scaled = df.drop(columns=cat)"
      ],
      "execution_count": 8,
      "outputs": []
    },
    {
      "cell_type": "code",
      "metadata": {
        "colab": {
          "base_uri": "https://localhost:8080/"
        },
        "id": "fu27mGcHUjt7",
        "outputId": "89a44c88-43e0-49ee-c715-6d50dea0deb0"
      },
      "source": [
        "print(df.nunique())\n",
        "print(df['county_number'].unique())"
      ],
      "execution_count": 9,
      "outputs": [
        {
          "output_type": "stream",
          "text": [
            "date                    2011\n",
            "store_number            2185\n",
            "store_name              2314\n",
            "address                 3183\n",
            "city                     722\n",
            "                        ... \n",
            "bottle_volume_ml_603       2\n",
            "bottle_volume_ml_750       2\n",
            "bottle_volume_ml_800       2\n",
            "bottle_volume_ml_850       2\n",
            "bottle_volume_ml_900       2\n",
            "Length: 83, dtype: int64\n",
            "['77' '82' '51' '85' '62' '4' '57' '07' '25' '52' '7' '06' '96' '31' '86'\n",
            " '91' '71' '64' '29' '97' '08' '17' '11' '78' '24' '14' '50' '34' '30'\n",
            " '63' '92' None '88' '94' '23' '70' '79' '90' '54' '53' '59' '8' '44' '48'\n",
            " '21' '43' '9' '58' '56' '84' '40' '33' '95' '75' '73' '09' '42' '99' '04'\n",
            " '69' '55' '6' '46' '32' '66' '60' '83' '37' '16' '03' '61' '15' '47' '67'\n",
            " '28' '3' '49' '27' '65' '10' '74' '18' '81' '68' '02' '5' '93' '45' '22'\n",
            " '35' '20' '76' '19' '98' '72' '13' '12' '38' '01' '05' '41' '80' '39'\n",
            " '36' '87' '89' '1' '2' '26']\n"
          ],
          "name": "stdout"
        }
      ]
    },
    {
      "cell_type": "code",
      "metadata": {
        "id": "oSxkIaJnlnjc"
      },
      "source": [
        "# I created a lookup table in Google Sheets that grouped county number by district per the Iowa Department of Transportation\n",
        "# I am importing that googlesheet and creating a dataframe\n",
        "\n",
        "!pip install --upgrade -q gspread\n",
        "\n",
        "import gspread\n",
        "import pandas as pd\n",
        "from google.colab import auth\n",
        "from oauth2client.client import GoogleCredentials\n",
        "\n",
        "auth.authenticate_user()\n",
        "gc = gspread.authorize(GoogleCredentials.get_application_default())\n",
        "\n",
        "worksheet = gc.open('Districts Iowa Department of Transportation').sheet1\n",
        "rows = worksheet.get_all_values()\n",
        "district = pd.DataFrame.from_records(rows)"
      ],
      "execution_count": 10,
      "outputs": []
    },
    {
      "cell_type": "code",
      "metadata": {
        "colab": {
          "base_uri": "https://localhost:8080/",
          "height": 206
        },
        "id": "qmNH1XHpkWoE",
        "outputId": "2c11f34d-50a4-4039-98d0-2d231db0757d"
      },
      "source": [
        "#formatting the new data frame\n",
        "column = ['count_number', 'district']\n",
        "district.set_axis(column, axis=1, inplace=True)\n",
        "district = district.drop(0)\n",
        "district.head()"
      ],
      "execution_count": 11,
      "outputs": [
        {
          "output_type": "execute_result",
          "data": {
            "text/html": [
              "<div>\n",
              "<style scoped>\n",
              "    .dataframe tbody tr th:only-of-type {\n",
              "        vertical-align: middle;\n",
              "    }\n",
              "\n",
              "    .dataframe tbody tr th {\n",
              "        vertical-align: top;\n",
              "    }\n",
              "\n",
              "    .dataframe thead th {\n",
              "        text-align: right;\n",
              "    }\n",
              "</style>\n",
              "<table border=\"1\" class=\"dataframe\">\n",
              "  <thead>\n",
              "    <tr style=\"text-align: right;\">\n",
              "      <th></th>\n",
              "      <th>count_number</th>\n",
              "      <th>district</th>\n",
              "    </tr>\n",
              "  </thead>\n",
              "  <tbody>\n",
              "    <tr>\n",
              "      <th>1</th>\n",
              "      <td>1</td>\n",
              "      <td>3</td>\n",
              "    </tr>\n",
              "    <tr>\n",
              "      <th>2</th>\n",
              "      <td>2</td>\n",
              "      <td>3</td>\n",
              "    </tr>\n",
              "    <tr>\n",
              "      <th>3</th>\n",
              "      <td>3</td>\n",
              "      <td>3</td>\n",
              "    </tr>\n",
              "    <tr>\n",
              "      <th>4</th>\n",
              "      <td>4</td>\n",
              "      <td>3</td>\n",
              "    </tr>\n",
              "    <tr>\n",
              "      <th>5</th>\n",
              "      <td>5</td>\n",
              "      <td>2</td>\n",
              "    </tr>\n",
              "  </tbody>\n",
              "</table>\n",
              "</div>"
            ],
            "text/plain": [
              "  count_number district\n",
              "1            1        3\n",
              "2            2        3\n",
              "3            3        3\n",
              "4            4        3\n",
              "5            5        2"
            ]
          },
          "metadata": {
            "tags": []
          },
          "execution_count": 11
        }
      ]
    },
    {
      "cell_type": "code",
      "metadata": {
        "colab": {
          "base_uri": "https://localhost:8080/"
        },
        "id": "bwMySydkolCx",
        "outputId": "b20b51a7-5a17-46a4-aff6-2c4d1393c600"
      },
      "source": [
        "#merged the district df with my existing df\n",
        "new_df =df.merge(district,left_on='county_number', right_on='count_number')\n",
        "\n",
        "new_df.columns"
      ],
      "execution_count": 12,
      "outputs": [
        {
          "output_type": "execute_result",
          "data": {
            "text/plain": [
              "Index(['date', 'store_number', 'store_name', 'address', 'city', 'zip_code',\n",
              "       'store_location', 'county_number', 'county', 'vendor_number',\n",
              "       'vendor_name', 'item_number', 'item_description', 'state_bottle_cost',\n",
              "       'state_bottle_retail', 'bottles_sold', 'sale_dollars',\n",
              "       'volume_sold_liters', 'volume_sold_gallons', 'category_1012200',\n",
              "       'category_1012210', 'category_1012300', 'category_1022200',\n",
              "       'category_1032000', 'category_1032080', 'category_1032100',\n",
              "       'category_1032200', 'category_1052010', 'category_1052100',\n",
              "       'category_1062050', 'category_1062200', 'category_1082100',\n",
              "       'category_1082900', 'category_1700000', 'category_1701100',\n",
              "       'category_1901200', 'category_name_BARBADOS RUM',\n",
              "       'category_name_DECANTERS & SPECIALTY PACKAGES',\n",
              "       'category_name_IMPORTED GRAPE BRANDIES', 'category_name_IMPORTED VODKA',\n",
              "       'category_name_IMPORTED VODKA - MISC', 'category_name_IRISH WHISKIES',\n",
              "       'category_name_Imported Brandies',\n",
              "       'category_name_Imported Flavored Vodka', 'category_name_Imported Vodka',\n",
              "       'category_name_Imported Vodkas',\n",
              "       'category_name_MISC. IMPORTED CORDIALS & LIQUEURS',\n",
              "       'category_name_PUERTO RICO & VIRGIN ISLANDS RUM',\n",
              "       'category_name_SCOTCH WHISKIES', 'category_name_SINGLE MALT SCOTCH',\n",
              "       'category_name_Scotch Whiskies', 'category_name_Single Malt Scotch',\n",
              "       'category_name_Special Order Items',\n",
              "       'category_name_Temporary &  Specialty Packages',\n",
              "       'category_name_Temporary & Specialty Packages', 'pack_1', 'pack_10',\n",
              "       'pack_12', 'pack_2', 'pack_24', 'pack_3', 'pack_4', 'pack_48', 'pack_6',\n",
              "       'pack_8', 'pack_96', 'bottle_volume_ml_100', 'bottle_volume_ml_1000',\n",
              "       'bottle_volume_ml_1200', 'bottle_volume_ml_1500',\n",
              "       'bottle_volume_ml_1750', 'bottle_volume_ml_200',\n",
              "       'bottle_volume_ml_2250', 'bottle_volume_ml_2550',\n",
              "       'bottle_volume_ml_375', 'bottle_volume_ml_400', 'bottle_volume_ml_50',\n",
              "       'bottle_volume_ml_600', 'bottle_volume_ml_603', 'bottle_volume_ml_750',\n",
              "       'bottle_volume_ml_800', 'bottle_volume_ml_850', 'bottle_volume_ml_900',\n",
              "       'count_number', 'district'],\n",
              "      dtype='object')"
            ]
          },
          "metadata": {
            "tags": []
          },
          "execution_count": 12
        }
      ]
    },
    {
      "cell_type": "code",
      "metadata": {
        "colab": {
          "base_uri": "https://localhost:8080/"
        },
        "id": "ldRiSORcqQ4-",
        "outputId": "87e0bafe-6d3b-4f9f-e734-01eda24c83e3"
      },
      "source": [
        "#adding new columns\n",
        "new_df['year'] = pd.DatetimeIndex(new_df['date']).year\n",
        "new_df['month'] = pd.DatetimeIndex(new_df['date']).month\n",
        "new_df['week'] = pd.DatetimeIndex(new_df['date']).week"
      ],
      "execution_count": 13,
      "outputs": [
        {
          "output_type": "stream",
          "text": [
            "/usr/local/lib/python3.7/dist-packages/ipykernel_launcher.py:4: FutureWarning: weekofyear and week have been deprecated, please use DatetimeIndex.isocalendar().week instead, which returns a Series.  To exactly reproduce the behavior of week and weekofyear and return an Index, you may call pd.Int64Index(idx.isocalendar().week)\n",
            "  after removing the cwd from sys.path.\n"
          ],
          "name": "stderr"
        }
      ]
    },
    {
      "cell_type": "code",
      "metadata": {
        "colab": {
          "base_uri": "https://localhost:8080/"
        },
        "id": "3UySrbOI2K3o",
        "outputId": "40917118-d87b-4a07-9f3d-1514215cfbd4"
      },
      "source": [
        "new_df.columns"
      ],
      "execution_count": 14,
      "outputs": [
        {
          "output_type": "execute_result",
          "data": {
            "text/plain": [
              "Index(['date', 'store_number', 'store_name', 'address', 'city', 'zip_code',\n",
              "       'store_location', 'county_number', 'county', 'vendor_number',\n",
              "       'vendor_name', 'item_number', 'item_description', 'state_bottle_cost',\n",
              "       'state_bottle_retail', 'bottles_sold', 'sale_dollars',\n",
              "       'volume_sold_liters', 'volume_sold_gallons', 'category_1012200',\n",
              "       'category_1012210', 'category_1012300', 'category_1022200',\n",
              "       'category_1032000', 'category_1032080', 'category_1032100',\n",
              "       'category_1032200', 'category_1052010', 'category_1052100',\n",
              "       'category_1062050', 'category_1062200', 'category_1082100',\n",
              "       'category_1082900', 'category_1700000', 'category_1701100',\n",
              "       'category_1901200', 'category_name_BARBADOS RUM',\n",
              "       'category_name_DECANTERS & SPECIALTY PACKAGES',\n",
              "       'category_name_IMPORTED GRAPE BRANDIES', 'category_name_IMPORTED VODKA',\n",
              "       'category_name_IMPORTED VODKA - MISC', 'category_name_IRISH WHISKIES',\n",
              "       'category_name_Imported Brandies',\n",
              "       'category_name_Imported Flavored Vodka', 'category_name_Imported Vodka',\n",
              "       'category_name_Imported Vodkas',\n",
              "       'category_name_MISC. IMPORTED CORDIALS & LIQUEURS',\n",
              "       'category_name_PUERTO RICO & VIRGIN ISLANDS RUM',\n",
              "       'category_name_SCOTCH WHISKIES', 'category_name_SINGLE MALT SCOTCH',\n",
              "       'category_name_Scotch Whiskies', 'category_name_Single Malt Scotch',\n",
              "       'category_name_Special Order Items',\n",
              "       'category_name_Temporary &  Specialty Packages',\n",
              "       'category_name_Temporary & Specialty Packages', 'pack_1', 'pack_10',\n",
              "       'pack_12', 'pack_2', 'pack_24', 'pack_3', 'pack_4', 'pack_48', 'pack_6',\n",
              "       'pack_8', 'pack_96', 'bottle_volume_ml_100', 'bottle_volume_ml_1000',\n",
              "       'bottle_volume_ml_1200', 'bottle_volume_ml_1500',\n",
              "       'bottle_volume_ml_1750', 'bottle_volume_ml_200',\n",
              "       'bottle_volume_ml_2250', 'bottle_volume_ml_2550',\n",
              "       'bottle_volume_ml_375', 'bottle_volume_ml_400', 'bottle_volume_ml_50',\n",
              "       'bottle_volume_ml_600', 'bottle_volume_ml_603', 'bottle_volume_ml_750',\n",
              "       'bottle_volume_ml_800', 'bottle_volume_ml_850', 'bottle_volume_ml_900',\n",
              "       'count_number', 'district', 'year', 'month', 'week'],\n",
              "      dtype='object')"
            ]
          },
          "metadata": {
            "tags": []
          },
          "execution_count": 14
        }
      ]
    },
    {
      "cell_type": "code",
      "metadata": {
        "id": "RjrYjoipuTRg"
      },
      "source": [
        "sales_district_year = new_df.groupby(['district','year'])['sale_dollars'].agg('sum')\n",
        "sales_district_month = new_df.groupby(['district','month'])['sale_dollars'].agg('sum')\n",
        "sales_district_week = new_df.groupby(['district','week'])['sale_dollars'].agg('sum')\n",
        "#sales_district.sort_values(ascending=True).head()\n",
        "sales_district_year = sales_district_year.reset_index(level='district')\n",
        "sales_district_month = sales_district_month.reset_index(level='district')\n",
        "sales_district_week = sales_district_week.reset_index(level='district')"
      ],
      "execution_count": 15,
      "outputs": []
    },
    {
      "cell_type": "code",
      "metadata": {
        "colab": {
          "base_uri": "https://localhost:8080/",
          "height": 237
        },
        "id": "sX_JSInPAmwt",
        "outputId": "7625eb83-6771-4516-bd77-ff9c6fb12524"
      },
      "source": [
        "sales_district_week.head()"
      ],
      "execution_count": 16,
      "outputs": [
        {
          "output_type": "execute_result",
          "data": {
            "text/html": [
              "<div>\n",
              "<style scoped>\n",
              "    .dataframe tbody tr th:only-of-type {\n",
              "        vertical-align: middle;\n",
              "    }\n",
              "\n",
              "    .dataframe tbody tr th {\n",
              "        vertical-align: top;\n",
              "    }\n",
              "\n",
              "    .dataframe thead th {\n",
              "        text-align: right;\n",
              "    }\n",
              "</style>\n",
              "<table border=\"1\" class=\"dataframe\">\n",
              "  <thead>\n",
              "    <tr style=\"text-align: right;\">\n",
              "      <th></th>\n",
              "      <th>district</th>\n",
              "      <th>sale_dollars</th>\n",
              "    </tr>\n",
              "    <tr>\n",
              "      <th>week</th>\n",
              "      <th></th>\n",
              "      <th></th>\n",
              "    </tr>\n",
              "  </thead>\n",
              "  <tbody>\n",
              "    <tr>\n",
              "      <th>1</th>\n",
              "      <td>1</td>\n",
              "      <td>5201.05</td>\n",
              "    </tr>\n",
              "    <tr>\n",
              "      <th>2</th>\n",
              "      <td>1</td>\n",
              "      <td>6410.62</td>\n",
              "    </tr>\n",
              "    <tr>\n",
              "      <th>3</th>\n",
              "      <td>1</td>\n",
              "      <td>6130.21</td>\n",
              "    </tr>\n",
              "    <tr>\n",
              "      <th>4</th>\n",
              "      <td>1</td>\n",
              "      <td>6650.12</td>\n",
              "    </tr>\n",
              "    <tr>\n",
              "      <th>5</th>\n",
              "      <td>1</td>\n",
              "      <td>6674.88</td>\n",
              "    </tr>\n",
              "  </tbody>\n",
              "</table>\n",
              "</div>"
            ],
            "text/plain": [
              "     district  sale_dollars\n",
              "week                       \n",
              "1           1       5201.05\n",
              "2           1       6410.62\n",
              "3           1       6130.21\n",
              "4           1       6650.12\n",
              "5           1       6674.88"
            ]
          },
          "metadata": {
            "tags": []
          },
          "execution_count": 16
        }
      ]
    },
    {
      "cell_type": "markdown",
      "metadata": {
        "id": "9mDtvhBsFcfk"
      },
      "source": [
        "Weekly sales throughout a calendar year"
      ]
    },
    {
      "cell_type": "code",
      "metadata": {
        "colab": {
          "base_uri": "https://localhost:8080/",
          "height": 351
        },
        "id": "at4gpGUKpblS",
        "outputId": "df89d1a3-7731-4ee1-bd92-712c3ec2ada5"
      },
      "source": [
        "plt.figure(figsize=(20,5))\n",
        "x = sales_district_week.index\n",
        "y = sales_district_week['sale_dollars']\n",
        "hue = sales_district_week['district']\n",
        "\n",
        "sns.barplot(x=x, y=y)"
      ],
      "execution_count": 17,
      "outputs": [
        {
          "output_type": "execute_result",
          "data": {
            "text/plain": [
              "<matplotlib.axes._subplots.AxesSubplot at 0x7faee8ab1590>"
            ]
          },
          "metadata": {
            "tags": []
          },
          "execution_count": 17
        },
        {
          "output_type": "display_data",
          "data": {
            "image/png": "[encoded data removed]",
            "text/plain": [
              "<Figure size 1440x360 with 1 Axes>"
            ]
          },
          "metadata": {
            "tags": [],
            "needs_background": "light"
          }
        }
      ]
    },
    {
      "cell_type": "code",
      "metadata": {
        "colab": {
          "base_uri": "https://localhost:8080/",
          "height": 237
        },
        "id": "hxmBwq9K35to",
        "outputId": "0f242898-1dd9-4eab-ea63-4cad42fcd353"
      },
      "source": [
        "sales_district_year.head()"
      ],
      "execution_count": 18,
      "outputs": [
        {
          "output_type": "execute_result",
          "data": {
            "text/html": [
              "<div>\n",
              "<style scoped>\n",
              "    .dataframe tbody tr th:only-of-type {\n",
              "        vertical-align: middle;\n",
              "    }\n",
              "\n",
              "    .dataframe tbody tr th {\n",
              "        vertical-align: top;\n",
              "    }\n",
              "\n",
              "    .dataframe thead th {\n",
              "        text-align: right;\n",
              "    }\n",
              "</style>\n",
              "<table border=\"1\" class=\"dataframe\">\n",
              "  <thead>\n",
              "    <tr style=\"text-align: right;\">\n",
              "      <th></th>\n",
              "      <th>district</th>\n",
              "      <th>sale_dollars</th>\n",
              "    </tr>\n",
              "    <tr>\n",
              "      <th>year</th>\n",
              "      <th></th>\n",
              "      <th></th>\n",
              "    </tr>\n",
              "  </thead>\n",
              "  <tbody>\n",
              "    <tr>\n",
              "      <th>2012</th>\n",
              "      <td>1</td>\n",
              "      <td>42745.55</td>\n",
              "    </tr>\n",
              "    <tr>\n",
              "      <th>2013</th>\n",
              "      <td>1</td>\n",
              "      <td>42995.90</td>\n",
              "    </tr>\n",
              "    <tr>\n",
              "      <th>2014</th>\n",
              "      <td>1</td>\n",
              "      <td>45753.00</td>\n",
              "    </tr>\n",
              "    <tr>\n",
              "      <th>2015</th>\n",
              "      <td>1</td>\n",
              "      <td>41908.83</td>\n",
              "    </tr>\n",
              "    <tr>\n",
              "      <th>2016</th>\n",
              "      <td>1</td>\n",
              "      <td>52867.27</td>\n",
              "    </tr>\n",
              "  </tbody>\n",
              "</table>\n",
              "</div>"
            ],
            "text/plain": [
              "     district  sale_dollars\n",
              "year                       \n",
              "2012        1      42745.55\n",
              "2013        1      42995.90\n",
              "2014        1      45753.00\n",
              "2015        1      41908.83\n",
              "2016        1      52867.27"
            ]
          },
          "metadata": {
            "tags": []
          },
          "execution_count": 18
        }
      ]
    },
    {
      "cell_type": "code",
      "metadata": {
        "colab": {
          "base_uri": "https://localhost:8080/",
          "height": 367
        },
        "id": "YsUaPm4isAux",
        "outputId": "1b740879-3423-4cc8-d88d-91e1f266e01b"
      },
      "source": [
        "\n",
        "plt.figure(figsize=(20,5))\n",
        "\n",
        "sns.set_theme(style=\"darkgrid\")\n",
        "x = sales_district_year['district']\n",
        "y = sales_district_year['sale_dollars']\n",
        "hue = sales_district_year.index\n",
        "ax = sns.barplot(y=y, x=x, hue=hue, palette='Blues')\n",
        "\n",
        "ax.set(xlabel='Districts', ylabel='Millions')"
      ],
      "execution_count": 19,
      "outputs": [
        {
          "output_type": "execute_result",
          "data": {
            "text/plain": [
              "[Text(0, 0.5, 'Millions'), Text(0.5, 0, 'Districts')]"
            ]
          },
          "metadata": {
            "tags": []
          },
          "execution_count": 19
        },
        {
          "output_type": "display_data",
          "data": {
            "image/png": "[encoded data removed]",
            "text/plain": [
              "<Figure size 1440x360 with 1 Axes>"
            ]
          },
          "metadata": {
            "tags": [],
            "needs_background": "light"
          }
        }
      ]
    },
    {
      "cell_type": "markdown",
      "metadata": {
        "id": "cJExdmhU9wJe"
      },
      "source": [
        "By plotting sales by ditrict over the years we can see that there is year over year sales growth."
      ]
    },
    {
      "cell_type": "code",
      "metadata": {
        "colab": {
          "base_uri": "https://localhost:8080/",
          "height": 367
        },
        "id": "yajhwmuI8mlF",
        "outputId": "e3edd40a-1c0c-4c2e-d1f2-13a3e2e8e702"
      },
      "source": [
        "plt.figure(figsize=(20,5))\n",
        "\n",
        "sns.set_theme(style=\"darkgrid\")\n",
        "x = sales_district_month['district']\n",
        "y = sales_district_month['sale_dollars']\n",
        "hue = sales_district_month.index\n",
        "ax = sns.barplot(y=y, x=x, hue=hue, palette='Purples')\n",
        "\n",
        "ax.set(xlabel='Districts', ylabel='Millions')"
      ],
      "execution_count": 20,
      "outputs": [
        {
          "output_type": "execute_result",
          "data": {
            "text/plain": [
              "[Text(0, 0.5, 'Millions'), Text(0.5, 0, 'Districts')]"
            ]
          },
          "metadata": {
            "tags": []
          },
          "execution_count": 20
        },
        {
          "output_type": "display_data",
          "data": {
            "image/png": "[encoded data removed]",
            "text/plain": [
              "<Figure size 1440x360 with 1 Axes>"
            ]
          },
          "metadata": {
            "tags": []
          }
        }
      ]
    },
    {
      "cell_type": "markdown",
      "metadata": {
        "id": "CdD6w6QB-AAB"
      },
      "source": [
        "Showing sales by month by distict shows that for some regions there is a seasonal trend"
      ]
    },
    {
      "cell_type": "code",
      "metadata": {
        "id": "PJ6FiH1vbJIY"
      },
      "source": [
        "#Using StandardScaler to normalize my data\n",
        "scaler = StandardScaler()\n",
        "scaler.fit(df_scaled)\n",
        "\n",
        "#joining df_scaled to df_date on their indexes which is \"invoice_and_item_number\"\n",
        "df = df_scaled.join(df_date, lsuffix='_df_scaled', rsuffix='_df_date')\n",
        "\n",
        "#ordering the data by date\n",
        "df = df.sort_values(by='date')\n"
      ],
      "execution_count": 21,
      "outputs": []
    },
    {
      "cell_type": "code",
      "metadata": {
        "id": "i-He9gpxbamR"
      },
      "source": [
        "#establishing what my independent and dependent variable should be\n",
        "X = df.loc[:,df.columns!=\"sale_dollars\"]\n",
        "y = df['sale_dollars']\n",
        "test_size = 0.2\n",
        "date_col = df.date"
      ],
      "execution_count": 22,
      "outputs": []
    },
    {
      "cell_type": "code",
      "metadata": {
        "id": "mNet7sIRbmas"
      },
      "source": [
        "# using train_test_split making sure that my data is not shuffled since it is time series\n",
        "from sklearn.model_selection import train_test_split\n",
        "X_train, X_test, y_train, y_test = train_test_split(X, y,test_size=test_size, shuffle= False)"
      ],
      "execution_count": 23,
      "outputs": []
    },
    {
      "cell_type": "markdown",
      "metadata": {
        "id": "00Ki1CV3jc-i"
      },
      "source": [
        "Now that we have our data training data we can begin applying different models"
      ]
    },
    {
      "cell_type": "markdown",
      "metadata": {
        "id": "cbh0XrkcfVs7"
      },
      "source": [
        "ARIMA Model"
      ]
    },
    {
      "cell_type": "code",
      "metadata": {
        "id": "kJBtHdzmstdp",
        "colab": {
          "base_uri": "https://localhost:8080/",
          "height": 379
        },
        "outputId": "56071b93-f9fd-4a69-ba54-3053198a7a67"
      },
      "source": [
        "# I don not need all of these fields for an ARIMA Model so I going to create a new dataset\n",
        "df.head()\n"
      ],
      "execution_count": 24,
      "outputs": [
        {
          "output_type": "execute_result",
          "data": {
            "text/html": [
              "<div>\n",
              "<style scoped>\n",
              "    .dataframe tbody tr th:only-of-type {\n",
              "        vertical-align: middle;\n",
              "    }\n",
              "\n",
              "    .dataframe tbody tr th {\n",
              "        vertical-align: top;\n",
              "    }\n",
              "\n",
              "    .dataframe thead th {\n",
              "        text-align: right;\n",
              "    }\n",
              "</style>\n",
              "<table border=\"1\" class=\"dataframe\">\n",
              "  <thead>\n",
              "    <tr style=\"text-align: right;\">\n",
              "      <th></th>\n",
              "      <th>state_bottle_cost</th>\n",
              "      <th>state_bottle_retail</th>\n",
              "      <th>bottles_sold</th>\n",
              "      <th>sale_dollars</th>\n",
              "      <th>volume_sold_liters</th>\n",
              "      <th>volume_sold_gallons</th>\n",
              "      <th>category_1012200</th>\n",
              "      <th>category_1012210</th>\n",
              "      <th>category_1012300</th>\n",
              "      <th>category_1022200</th>\n",
              "      <th>category_1032000</th>\n",
              "      <th>category_1032080</th>\n",
              "      <th>category_1032100</th>\n",
              "      <th>category_1032200</th>\n",
              "      <th>category_1052010</th>\n",
              "      <th>category_1052100</th>\n",
              "      <th>category_1062050</th>\n",
              "      <th>category_1062200</th>\n",
              "      <th>category_1082100</th>\n",
              "      <th>category_1082900</th>\n",
              "      <th>category_1700000</th>\n",
              "      <th>category_1701100</th>\n",
              "      <th>category_1901200</th>\n",
              "      <th>category_name_BARBADOS RUM</th>\n",
              "      <th>category_name_DECANTERS &amp; SPECIALTY PACKAGES</th>\n",
              "      <th>category_name_IMPORTED GRAPE BRANDIES</th>\n",
              "      <th>category_name_IMPORTED VODKA</th>\n",
              "      <th>category_name_IMPORTED VODKA - MISC</th>\n",
              "      <th>category_name_IRISH WHISKIES</th>\n",
              "      <th>category_name_Imported Brandies</th>\n",
              "      <th>category_name_Imported Flavored Vodka</th>\n",
              "      <th>category_name_Imported Vodka</th>\n",
              "      <th>category_name_Imported Vodkas</th>\n",
              "      <th>category_name_MISC. IMPORTED CORDIALS &amp; LIQUEURS</th>\n",
              "      <th>category_name_PUERTO RICO &amp; VIRGIN ISLANDS RUM</th>\n",
              "      <th>category_name_SCOTCH WHISKIES</th>\n",
              "      <th>category_name_SINGLE MALT SCOTCH</th>\n",
              "      <th>category_name_Scotch Whiskies</th>\n",
              "      <th>category_name_Single Malt Scotch</th>\n",
              "      <th>category_name_Special Order Items</th>\n",
              "      <th>category_name_Temporary &amp;  Specialty Packages</th>\n",
              "      <th>category_name_Temporary &amp; Specialty Packages</th>\n",
              "      <th>pack_1</th>\n",
              "      <th>pack_10</th>\n",
              "      <th>pack_12</th>\n",
              "      <th>pack_2</th>\n",
              "      <th>pack_24</th>\n",
              "      <th>pack_3</th>\n",
              "      <th>pack_4</th>\n",
              "      <th>pack_48</th>\n",
              "      <th>pack_6</th>\n",
              "      <th>pack_8</th>\n",
              "      <th>pack_96</th>\n",
              "      <th>bottle_volume_ml_100</th>\n",
              "      <th>bottle_volume_ml_1000</th>\n",
              "      <th>bottle_volume_ml_1200</th>\n",
              "      <th>bottle_volume_ml_1500</th>\n",
              "      <th>bottle_volume_ml_1750</th>\n",
              "      <th>bottle_volume_ml_200</th>\n",
              "      <th>bottle_volume_ml_2250</th>\n",
              "      <th>bottle_volume_ml_2550</th>\n",
              "      <th>bottle_volume_ml_375</th>\n",
              "      <th>bottle_volume_ml_400</th>\n",
              "      <th>bottle_volume_ml_50</th>\n",
              "      <th>bottle_volume_ml_600</th>\n",
              "      <th>bottle_volume_ml_603</th>\n",
              "      <th>bottle_volume_ml_750</th>\n",
              "      <th>bottle_volume_ml_800</th>\n",
              "      <th>bottle_volume_ml_850</th>\n",
              "      <th>bottle_volume_ml_900</th>\n",
              "      <th>date</th>\n",
              "    </tr>\n",
              "    <tr>\n",
              "      <th>invoice_and_item_number</th>\n",
              "      <th></th>\n",
              "      <th></th>\n",
              "      <th></th>\n",
              "      <th></th>\n",
              "      <th></th>\n",
              "      <th></th>\n",
              "      <th></th>\n",
              "      <th></th>\n",
              "      <th></th>\n",
              "      <th></th>\n",
              "      <th></th>\n",
              "      <th></th>\n",
              "      <th></th>\n",
              "      <th></th>\n",
              "      <th></th>\n",
              "      <th></th>\n",
              "      <th></th>\n",
              "      <th></th>\n",
              "      <th></th>\n",
              "      <th></th>\n",
              "      <th></th>\n",
              "      <th></th>\n",
              "      <th></th>\n",
              "      <th></th>\n",
              "      <th></th>\n",
              "      <th></th>\n",
              "      <th></th>\n",
              "      <th></th>\n",
              "      <th></th>\n",
              "      <th></th>\n",
              "      <th></th>\n",
              "      <th></th>\n",
              "      <th></th>\n",
              "      <th></th>\n",
              "      <th></th>\n",
              "      <th></th>\n",
              "      <th></th>\n",
              "      <th></th>\n",
              "      <th></th>\n",
              "      <th></th>\n",
              "      <th></th>\n",
              "      <th></th>\n",
              "      <th></th>\n",
              "      <th></th>\n",
              "      <th></th>\n",
              "      <th></th>\n",
              "      <th></th>\n",
              "      <th></th>\n",
              "      <th></th>\n",
              "      <th></th>\n",
              "      <th></th>\n",
              "      <th></th>\n",
              "      <th></th>\n",
              "      <th></th>\n",
              "      <th></th>\n",
              "      <th></th>\n",
              "      <th></th>\n",
              "      <th></th>\n",
              "      <th></th>\n",
              "      <th></th>\n",
              "      <th></th>\n",
              "      <th></th>\n",
              "      <th></th>\n",
              "      <th></th>\n",
              "      <th></th>\n",
              "      <th></th>\n",
              "      <th></th>\n",
              "      <th></th>\n",
              "      <th></th>\n",
              "      <th></th>\n",
              "      <th></th>\n",
              "    </tr>\n",
              "  </thead>\n",
              "  <tbody>\n",
              "    <tr>\n",
              "      <th>S03381400032</th>\n",
              "      <td>23.31</td>\n",
              "      <td>34.96</td>\n",
              "      <td>36</td>\n",
              "      <td>1258.56</td>\n",
              "      <td>27.00</td>\n",
              "      <td>7.13</td>\n",
              "      <td>0</td>\n",
              "      <td>0</td>\n",
              "      <td>0</td>\n",
              "      <td>0</td>\n",
              "      <td>0</td>\n",
              "      <td>0</td>\n",
              "      <td>0</td>\n",
              "      <td>0</td>\n",
              "      <td>0</td>\n",
              "      <td>0</td>\n",
              "      <td>0</td>\n",
              "      <td>0</td>\n",
              "      <td>0</td>\n",
              "      <td>1</td>\n",
              "      <td>0</td>\n",
              "      <td>0</td>\n",
              "      <td>0</td>\n",
              "      <td>0</td>\n",
              "      <td>0</td>\n",
              "      <td>0</td>\n",
              "      <td>0</td>\n",
              "      <td>0</td>\n",
              "      <td>0</td>\n",
              "      <td>0</td>\n",
              "      <td>0</td>\n",
              "      <td>0</td>\n",
              "      <td>0</td>\n",
              "      <td>1</td>\n",
              "      <td>0</td>\n",
              "      <td>0</td>\n",
              "      <td>0</td>\n",
              "      <td>0</td>\n",
              "      <td>0</td>\n",
              "      <td>0</td>\n",
              "      <td>0</td>\n",
              "      <td>0</td>\n",
              "      <td>0</td>\n",
              "      <td>0</td>\n",
              "      <td>1</td>\n",
              "      <td>0</td>\n",
              "      <td>0</td>\n",
              "      <td>0</td>\n",
              "      <td>0</td>\n",
              "      <td>0</td>\n",
              "      <td>0</td>\n",
              "      <td>0</td>\n",
              "      <td>0</td>\n",
              "      <td>0</td>\n",
              "      <td>0</td>\n",
              "      <td>0</td>\n",
              "      <td>0</td>\n",
              "      <td>0</td>\n",
              "      <td>0</td>\n",
              "      <td>0</td>\n",
              "      <td>0</td>\n",
              "      <td>0</td>\n",
              "      <td>0</td>\n",
              "      <td>0</td>\n",
              "      <td>0</td>\n",
              "      <td>0</td>\n",
              "      <td>1</td>\n",
              "      <td>0</td>\n",
              "      <td>0</td>\n",
              "      <td>0</td>\n",
              "      <td>2012-01-03</td>\n",
              "    </tr>\n",
              "    <tr>\n",
              "      <th>S03388500019</th>\n",
              "      <td>17.06</td>\n",
              "      <td>25.59</td>\n",
              "      <td>12</td>\n",
              "      <td>307.08</td>\n",
              "      <td>9.00</td>\n",
              "      <td>2.38</td>\n",
              "      <td>0</td>\n",
              "      <td>0</td>\n",
              "      <td>0</td>\n",
              "      <td>0</td>\n",
              "      <td>0</td>\n",
              "      <td>0</td>\n",
              "      <td>0</td>\n",
              "      <td>0</td>\n",
              "      <td>1</td>\n",
              "      <td>0</td>\n",
              "      <td>0</td>\n",
              "      <td>0</td>\n",
              "      <td>0</td>\n",
              "      <td>0</td>\n",
              "      <td>0</td>\n",
              "      <td>0</td>\n",
              "      <td>0</td>\n",
              "      <td>0</td>\n",
              "      <td>0</td>\n",
              "      <td>1</td>\n",
              "      <td>0</td>\n",
              "      <td>0</td>\n",
              "      <td>0</td>\n",
              "      <td>0</td>\n",
              "      <td>0</td>\n",
              "      <td>0</td>\n",
              "      <td>0</td>\n",
              "      <td>0</td>\n",
              "      <td>0</td>\n",
              "      <td>0</td>\n",
              "      <td>0</td>\n",
              "      <td>0</td>\n",
              "      <td>0</td>\n",
              "      <td>0</td>\n",
              "      <td>0</td>\n",
              "      <td>0</td>\n",
              "      <td>0</td>\n",
              "      <td>0</td>\n",
              "      <td>1</td>\n",
              "      <td>0</td>\n",
              "      <td>0</td>\n",
              "      <td>0</td>\n",
              "      <td>0</td>\n",
              "      <td>0</td>\n",
              "      <td>0</td>\n",
              "      <td>0</td>\n",
              "      <td>0</td>\n",
              "      <td>0</td>\n",
              "      <td>0</td>\n",
              "      <td>0</td>\n",
              "      <td>0</td>\n",
              "      <td>0</td>\n",
              "      <td>0</td>\n",
              "      <td>0</td>\n",
              "      <td>0</td>\n",
              "      <td>0</td>\n",
              "      <td>0</td>\n",
              "      <td>0</td>\n",
              "      <td>0</td>\n",
              "      <td>0</td>\n",
              "      <td>1</td>\n",
              "      <td>0</td>\n",
              "      <td>0</td>\n",
              "      <td>0</td>\n",
              "      <td>2012-01-03</td>\n",
              "    </tr>\n",
              "    <tr>\n",
              "      <th>S03409700050</th>\n",
              "      <td>17.15</td>\n",
              "      <td>25.73</td>\n",
              "      <td>2</td>\n",
              "      <td>51.46</td>\n",
              "      <td>1.50</td>\n",
              "      <td>0.40</td>\n",
              "      <td>0</td>\n",
              "      <td>0</td>\n",
              "      <td>0</td>\n",
              "      <td>0</td>\n",
              "      <td>0</td>\n",
              "      <td>1</td>\n",
              "      <td>0</td>\n",
              "      <td>0</td>\n",
              "      <td>0</td>\n",
              "      <td>0</td>\n",
              "      <td>0</td>\n",
              "      <td>0</td>\n",
              "      <td>0</td>\n",
              "      <td>0</td>\n",
              "      <td>0</td>\n",
              "      <td>0</td>\n",
              "      <td>0</td>\n",
              "      <td>0</td>\n",
              "      <td>0</td>\n",
              "      <td>0</td>\n",
              "      <td>1</td>\n",
              "      <td>0</td>\n",
              "      <td>0</td>\n",
              "      <td>0</td>\n",
              "      <td>0</td>\n",
              "      <td>0</td>\n",
              "      <td>0</td>\n",
              "      <td>0</td>\n",
              "      <td>0</td>\n",
              "      <td>0</td>\n",
              "      <td>0</td>\n",
              "      <td>0</td>\n",
              "      <td>0</td>\n",
              "      <td>0</td>\n",
              "      <td>0</td>\n",
              "      <td>0</td>\n",
              "      <td>0</td>\n",
              "      <td>0</td>\n",
              "      <td>0</td>\n",
              "      <td>0</td>\n",
              "      <td>0</td>\n",
              "      <td>0</td>\n",
              "      <td>0</td>\n",
              "      <td>0</td>\n",
              "      <td>1</td>\n",
              "      <td>0</td>\n",
              "      <td>0</td>\n",
              "      <td>0</td>\n",
              "      <td>0</td>\n",
              "      <td>0</td>\n",
              "      <td>0</td>\n",
              "      <td>0</td>\n",
              "      <td>0</td>\n",
              "      <td>0</td>\n",
              "      <td>0</td>\n",
              "      <td>0</td>\n",
              "      <td>0</td>\n",
              "      <td>0</td>\n",
              "      <td>0</td>\n",
              "      <td>0</td>\n",
              "      <td>1</td>\n",
              "      <td>0</td>\n",
              "      <td>0</td>\n",
              "      <td>0</td>\n",
              "      <td>2012-01-03</td>\n",
              "    </tr>\n",
              "    <tr>\n",
              "      <th>S03393900086</th>\n",
              "      <td>11.49</td>\n",
              "      <td>17.24</td>\n",
              "      <td>1</td>\n",
              "      <td>17.24</td>\n",
              "      <td>0.38</td>\n",
              "      <td>0.10</td>\n",
              "      <td>0</td>\n",
              "      <td>0</td>\n",
              "      <td>0</td>\n",
              "      <td>0</td>\n",
              "      <td>0</td>\n",
              "      <td>0</td>\n",
              "      <td>0</td>\n",
              "      <td>0</td>\n",
              "      <td>1</td>\n",
              "      <td>0</td>\n",
              "      <td>0</td>\n",
              "      <td>0</td>\n",
              "      <td>0</td>\n",
              "      <td>0</td>\n",
              "      <td>0</td>\n",
              "      <td>0</td>\n",
              "      <td>0</td>\n",
              "      <td>0</td>\n",
              "      <td>0</td>\n",
              "      <td>1</td>\n",
              "      <td>0</td>\n",
              "      <td>0</td>\n",
              "      <td>0</td>\n",
              "      <td>0</td>\n",
              "      <td>0</td>\n",
              "      <td>0</td>\n",
              "      <td>0</td>\n",
              "      <td>0</td>\n",
              "      <td>0</td>\n",
              "      <td>0</td>\n",
              "      <td>0</td>\n",
              "      <td>0</td>\n",
              "      <td>0</td>\n",
              "      <td>0</td>\n",
              "      <td>0</td>\n",
              "      <td>0</td>\n",
              "      <td>0</td>\n",
              "      <td>0</td>\n",
              "      <td>1</td>\n",
              "      <td>0</td>\n",
              "      <td>0</td>\n",
              "      <td>0</td>\n",
              "      <td>0</td>\n",
              "      <td>0</td>\n",
              "      <td>0</td>\n",
              "      <td>0</td>\n",
              "      <td>0</td>\n",
              "      <td>0</td>\n",
              "      <td>0</td>\n",
              "      <td>0</td>\n",
              "      <td>0</td>\n",
              "      <td>0</td>\n",
              "      <td>0</td>\n",
              "      <td>0</td>\n",
              "      <td>0</td>\n",
              "      <td>1</td>\n",
              "      <td>0</td>\n",
              "      <td>0</td>\n",
              "      <td>0</td>\n",
              "      <td>0</td>\n",
              "      <td>0</td>\n",
              "      <td>0</td>\n",
              "      <td>0</td>\n",
              "      <td>0</td>\n",
              "      <td>2012-01-03</td>\n",
              "    </tr>\n",
              "    <tr>\n",
              "      <th>S03410400020</th>\n",
              "      <td>17.06</td>\n",
              "      <td>25.59</td>\n",
              "      <td>1</td>\n",
              "      <td>25.59</td>\n",
              "      <td>0.75</td>\n",
              "      <td>0.20</td>\n",
              "      <td>0</td>\n",
              "      <td>0</td>\n",
              "      <td>0</td>\n",
              "      <td>0</td>\n",
              "      <td>0</td>\n",
              "      <td>0</td>\n",
              "      <td>0</td>\n",
              "      <td>0</td>\n",
              "      <td>1</td>\n",
              "      <td>0</td>\n",
              "      <td>0</td>\n",
              "      <td>0</td>\n",
              "      <td>0</td>\n",
              "      <td>0</td>\n",
              "      <td>0</td>\n",
              "      <td>0</td>\n",
              "      <td>0</td>\n",
              "      <td>0</td>\n",
              "      <td>0</td>\n",
              "      <td>1</td>\n",
              "      <td>0</td>\n",
              "      <td>0</td>\n",
              "      <td>0</td>\n",
              "      <td>0</td>\n",
              "      <td>0</td>\n",
              "      <td>0</td>\n",
              "      <td>0</td>\n",
              "      <td>0</td>\n",
              "      <td>0</td>\n",
              "      <td>0</td>\n",
              "      <td>0</td>\n",
              "      <td>0</td>\n",
              "      <td>0</td>\n",
              "      <td>0</td>\n",
              "      <td>0</td>\n",
              "      <td>0</td>\n",
              "      <td>0</td>\n",
              "      <td>0</td>\n",
              "      <td>1</td>\n",
              "      <td>0</td>\n",
              "      <td>0</td>\n",
              "      <td>0</td>\n",
              "      <td>0</td>\n",
              "      <td>0</td>\n",
              "      <td>0</td>\n",
              "      <td>0</td>\n",
              "      <td>0</td>\n",
              "      <td>0</td>\n",
              "      <td>0</td>\n",
              "      <td>0</td>\n",
              "      <td>0</td>\n",
              "      <td>0</td>\n",
              "      <td>0</td>\n",
              "      <td>0</td>\n",
              "      <td>0</td>\n",
              "      <td>0</td>\n",
              "      <td>0</td>\n",
              "      <td>0</td>\n",
              "      <td>0</td>\n",
              "      <td>0</td>\n",
              "      <td>1</td>\n",
              "      <td>0</td>\n",
              "      <td>0</td>\n",
              "      <td>0</td>\n",
              "      <td>2012-01-03</td>\n",
              "    </tr>\n",
              "  </tbody>\n",
              "</table>\n",
              "</div>"
            ],
            "text/plain": [
              "                         state_bottle_cost  ...       date\n",
              "invoice_and_item_number                     ...           \n",
              "S03381400032                         23.31  ... 2012-01-03\n",
              "S03388500019                         17.06  ... 2012-01-03\n",
              "S03409700050                         17.15  ... 2012-01-03\n",
              "S03393900086                         11.49  ... 2012-01-03\n",
              "S03410400020                         17.06  ... 2012-01-03\n",
              "\n",
              "[5 rows x 71 columns]"
            ]
          },
          "metadata": {
            "tags": []
          },
          "execution_count": 24
        }
      ]
    },
    {
      "cell_type": "code",
      "metadata": {
        "colab": {
          "base_uri": "https://localhost:8080/",
          "height": 455
        },
        "id": "2Yffz694rgcX",
        "outputId": "b94355ba-6c14-4f5e-a8ad-c62b36c0ce5f"
      },
      "source": [
        "df_arima = df.reset_index()[['date','sale_dollars','volume_sold_liters']].groupby('date')[['sale_dollars','volume_sold_liters']].sum()\n",
        "\n",
        "df_arima"
      ],
      "execution_count": 27,
      "outputs": [
        {
          "output_type": "execute_result",
          "data": {
            "text/html": [
              "<div>\n",
              "<style scoped>\n",
              "    .dataframe tbody tr th:only-of-type {\n",
              "        vertical-align: middle;\n",
              "    }\n",
              "\n",
              "    .dataframe tbody tr th {\n",
              "        vertical-align: top;\n",
              "    }\n",
              "\n",
              "    .dataframe thead th {\n",
              "        text-align: right;\n",
              "    }\n",
              "</style>\n",
              "<table border=\"1\" class=\"dataframe\">\n",
              "  <thead>\n",
              "    <tr style=\"text-align: right;\">\n",
              "      <th></th>\n",
              "      <th>sale_dollars</th>\n",
              "      <th>volume_sold_liters</th>\n",
              "    </tr>\n",
              "    <tr>\n",
              "      <th>date</th>\n",
              "      <th></th>\n",
              "      <th></th>\n",
              "    </tr>\n",
              "  </thead>\n",
              "  <tbody>\n",
              "    <tr>\n",
              "      <th>2012-01-03</th>\n",
              "      <td>15105.42</td>\n",
              "      <td>403.23</td>\n",
              "    </tr>\n",
              "    <tr>\n",
              "      <th>2012-01-04</th>\n",
              "      <td>8984.70</td>\n",
              "      <td>251.53</td>\n",
              "    </tr>\n",
              "    <tr>\n",
              "      <th>2012-01-05</th>\n",
              "      <td>18980.12</td>\n",
              "      <td>511.03</td>\n",
              "    </tr>\n",
              "    <tr>\n",
              "      <th>2012-01-09</th>\n",
              "      <td>12762.83</td>\n",
              "      <td>341.10</td>\n",
              "    </tr>\n",
              "    <tr>\n",
              "      <th>2012-01-10</th>\n",
              "      <td>8932.77</td>\n",
              "      <td>239.97</td>\n",
              "    </tr>\n",
              "    <tr>\n",
              "      <th>...</th>\n",
              "      <td>...</td>\n",
              "      <td>...</td>\n",
              "    </tr>\n",
              "    <tr>\n",
              "      <th>2020-11-24</th>\n",
              "      <td>64408.16</td>\n",
              "      <td>1486.42</td>\n",
              "    </tr>\n",
              "    <tr>\n",
              "      <th>2020-11-25</th>\n",
              "      <td>14321.38</td>\n",
              "      <td>324.33</td>\n",
              "    </tr>\n",
              "    <tr>\n",
              "      <th>2020-11-27</th>\n",
              "      <td>41238.41</td>\n",
              "      <td>959.99</td>\n",
              "    </tr>\n",
              "    <tr>\n",
              "      <th>2020-11-28</th>\n",
              "      <td>671.39</td>\n",
              "      <td>15.37</td>\n",
              "    </tr>\n",
              "    <tr>\n",
              "      <th>2020-11-30</th>\n",
              "      <td>42990.03</td>\n",
              "      <td>967.34</td>\n",
              "    </tr>\n",
              "  </tbody>\n",
              "</table>\n",
              "<p>2011 rows × 2 columns</p>\n",
              "</div>"
            ],
            "text/plain": [
              "            sale_dollars  volume_sold_liters\n",
              "date                                        \n",
              "2012-01-03      15105.42              403.23\n",
              "2012-01-04       8984.70              251.53\n",
              "2012-01-05      18980.12              511.03\n",
              "2012-01-09      12762.83              341.10\n",
              "2012-01-10       8932.77              239.97\n",
              "...                  ...                 ...\n",
              "2020-11-24      64408.16             1486.42\n",
              "2020-11-25      14321.38              324.33\n",
              "2020-11-27      41238.41              959.99\n",
              "2020-11-28        671.39               15.37\n",
              "2020-11-30      42990.03              967.34\n",
              "\n",
              "[2011 rows x 2 columns]"
            ]
          },
          "metadata": {
            "tags": []
          },
          "execution_count": 27
        }
      ]
    },
    {
      "cell_type": "code",
      "metadata": {
        "colab": {
          "base_uri": "https://localhost:8080/"
        },
        "id": "hK8_axarnU2q",
        "outputId": "7ad1778f-ff34-462c-e388-db084dd27b20"
      },
      "source": [
        "#Testing if my data is trend stationary using the Dicky Fuller Statistical Test\n",
        "from statsmodels.tsa.stattools import adfuller\n",
        "results = adfuller(df_arima['sale_dollars'])\n",
        "print(results)"
      ],
      "execution_count": 29,
      "outputs": [
        {
          "output_type": "stream",
          "text": [
            "(-3.0012966088207875, 0.034773490619154475, 24, 1986, {'1%': -3.4336469649065298, '5%': -2.862996415949189, '10%': -2.5675453345421984}, 42848.40868224585)\n"
          ],
          "name": "stdout"
        }
      ]
    },
    {
      "cell_type": "markdown",
      "metadata": {
        "id": "YlBWVZx8vmUr"
      },
      "source": [
        "Dicky Fuller Test tells us a few things\n",
        "1. There is a high likelyhood that the data is stationary because the test statistic (0th value) of the tuple is negative\n",
        "2. The p value (1st value) of the tuple is less than 0.05 meaning we can safely reject the null hypothesis, reject the notion that the data is not stationary\n",
        "3. The critical values contained within the dictionary within the tuple further support that the data is stationary given that I am using a test statisti of 5%"
      ]
    },
    {
      "cell_type": "code",
      "metadata": {
        "id": "lJOSzYkUAcyS"
      },
      "source": [
        "# using train_test_split making sure that my data is not shuffled since it is time series\n",
        "from sklearn.model_selection import train_test_split\n",
        "X = df_arima.index\n",
        "y= df_arima\n",
        "\n",
        "X_train, X_test, y_train, y_test = train_test_split(X, y,test_size=test_size, shuffle= False)"
      ],
      "execution_count": 30,
      "outputs": []
    },
    {
      "cell_type": "code",
      "metadata": {
        "id": "yvydV3UwfVSC",
        "colab": {
          "base_uri": "https://localhost:8080/"
        },
        "outputId": "760f92f5-7121-4853-9588-e67d4582ffe9"
      },
      "source": [
        "# Fit an ARMA model to the data\n",
        "model = ARMA(y_train['sale_dollars'], order=(1,1), exog=y_train['volume_sold_liters'])\n",
        "res = model.fit()\n",
        "\n",
        "# Print out summary information on the fit\n",
        "print(res.summary())\n",
        "\n",
        "# Print out the estimate for the constant and for theta\n",
        "print(\"When the true theta=-0.9, the estimate of theta (and the constant) are:\")\n",
        "print(res.params)"
      ],
      "execution_count": 31,
      "outputs": [
        {
          "output_type": "stream",
          "text": [
            "/usr/local/lib/python3.7/dist-packages/statsmodels/tsa/base/tsa_model.py:219: ValueWarning: A date index has been provided, but it has no associated frequency information and so will be ignored when e.g. forecasting.\n",
            "  ' ignored when e.g. forecasting.', ValueWarning)\n"
          ],
          "name": "stderr"
        },
        {
          "output_type": "stream",
          "text": [
            "                              ARMA Model Results                              \n",
            "==============================================================================\n",
            "Dep. Variable:           sale_dollars   No. Observations:                 1608\n",
            "Model:                     ARMA(1, 1)   Log Likelihood              -13890.976\n",
            "Method:                       css-mle   S.D. of innovations           1364.948\n",
            "Date:                Fri, 06 Aug 2021   AIC                          27791.953\n",
            "Time:                        11:13:47   BIC                          27818.867\n",
            "Sample:                             0   HQIC                         27801.944\n",
            "                                                                              \n",
            "======================================================================================\n",
            "                         coef    std err          z      P>|z|      [0.025      0.975]\n",
            "--------------------------------------------------------------------------------------\n",
            "const                495.3105   1404.127      0.353      0.724   -2256.727    3247.348\n",
            "volume_sold_liters    40.6084      0.115    353.686      0.000      40.383      40.833\n",
            "ar.L1.sale_dollars     0.9988      0.001    680.274      0.000       0.996       1.002\n",
            "ma.L1.sale_dollars    -0.9322      0.018    -51.386      0.000      -0.968      -0.897\n",
            "                                    Roots                                    \n",
            "=============================================================================\n",
            "                  Real          Imaginary           Modulus         Frequency\n",
            "-----------------------------------------------------------------------------\n",
            "AR.1            1.0012           +0.0000j            1.0012            0.0000\n",
            "MA.1            1.0727           +0.0000j            1.0727            0.0000\n",
            "-----------------------------------------------------------------------------\n",
            "When the true theta=-0.9, the estimate of theta (and the constant) are:\n",
            "const                 495.310530\n",
            "volume_sold_liters     40.608361\n",
            "ar.L1.sale_dollars      0.998849\n",
            "ma.L1.sale_dollars     -0.932205\n",
            "dtype: float64\n"
          ],
          "name": "stdout"
        }
      ]
    },
    {
      "cell_type": "code",
      "metadata": {
        "colab": {
          "base_uri": "https://localhost:8080/"
        },
        "id": "i6vDZt8XhA_E",
        "outputId": "20d7349c-2e84-4530-f022-a1463bdf9eeb"
      },
      "source": [
        "from statsmodels.tsa.statespace.sarimax import SARIMAX\n",
        "# Fit an SARIMA model to the data\n",
        "model = SARIMAX(y_train['sale_dollars'], order=(1,0,1), trend = 'c')\n",
        "                #,exog=y_train['volume_sold_liters'])\n",
        "results = model.fit()\n",
        "\n",
        "# Print out summary information on the fit\n",
        "print(results.summary())\n",
        "\n",
        "# Print out the estimate for the constant and for theta\n",
        "print(\"When the true theta=-0.9, the estimate of theta (and the constant) are:\")\n",
        "print(results.params)\n",
        "\n"
      ],
      "execution_count": 53,
      "outputs": [
        {
          "output_type": "stream",
          "text": [
            "/usr/local/lib/python3.7/dist-packages/statsmodels/tsa/base/tsa_model.py:219: ValueWarning: A date index has been provided, but it has no associated frequency information and so will be ignored when e.g. forecasting.\n",
            "  ' ignored when e.g. forecasting.', ValueWarning)\n"
          ],
          "name": "stderr"
        },
        {
          "output_type": "stream",
          "text": [
            "                           Statespace Model Results                           \n",
            "==============================================================================\n",
            "Dep. Variable:           sale_dollars   No. Observations:                 1608\n",
            "Model:               SARIMAX(1, 0, 1)   Log Likelihood              -17399.500\n",
            "Date:                Fri, 06 Aug 2021   AIC                          34807.000\n",
            "Time:                        11:36:10   BIC                          34828.531\n",
            "Sample:                             0   HQIC                         34814.993\n",
            "                               - 1608                                         \n",
            "Covariance Type:                  opg                                         \n",
            "==============================================================================\n",
            "                 coef    std err          z      P>|z|      [0.025      0.975]\n",
            "------------------------------------------------------------------------------\n",
            "intercept   1.206e+04   1127.265     10.701      0.000    9853.329    1.43e+04\n",
            "ar.L1          0.5260      0.042     12.466      0.000       0.443       0.609\n",
            "ma.L1         -0.2416      0.048     -5.017      0.000      -0.336      -0.147\n",
            "sigma2       1.44e+08      0.026   5.63e+09      0.000    1.44e+08    1.44e+08\n",
            "===================================================================================\n",
            "Ljung-Box (Q):                      753.21   Jarque-Bera (JB):               749.51\n",
            "Prob(Q):                              0.00   Prob(JB):                         0.00\n",
            "Heteroskedasticity (H):               2.37   Skew:                             0.82\n",
            "Prob(H) (two-sided):                  0.00   Kurtosis:                         5.91\n",
            "===================================================================================\n",
            "\n",
            "Warnings:\n",
            "[1] Covariance matrix calculated using the outer product of gradients (complex-step).\n",
            "[2] Covariance matrix is singular or near-singular, with condition number 2.55e+25. Standard errors may be unstable.\n",
            "When the true theta=-0.9, the estimate of theta (and the constant) are:\n",
            "intercept    1.206273e+04\n",
            "ar.L1        5.260112e-01\n",
            "ma.L1       -2.415613e-01\n",
            "sigma2       1.440049e+08\n",
            "dtype: float64\n"
          ],
          "name": "stdout"
        }
      ]
    },
    {
      "cell_type": "code",
      "metadata": {
        "colab": {
          "base_uri": "https://localhost:8080/",
          "height": 268
        },
        "id": "MjqwCdEwjPjF",
        "outputId": "ca3c27b1-69d9-4116-fd2d-a9deb2e879dc"
      },
      "source": [
        "# make an insample prediction of last 30 days\n",
        "forecast = results.get_prediction(start=-30)\n",
        "mean_forecast = forecast.predicted_mean\n",
        "confidence_intervals = forecast.conf_int()\n",
        "#print(confidence_intervals)\n",
        "lower_limits = confidence_intervals.loc[:,'lower sale_dollars']\n",
        "upper_limits = confidence_intervals.loc[:,'upper sale_dollars']\n",
        "\n",
        "#plot values\n",
        "plt.figure()\n",
        "#plt.plot(y_train.index, y_train['sale_dollars'])\n",
        "#plot prediction\n",
        "\n",
        "plt.plot(mean_forecast.index,mean_forecast.values, color ='red',label='forecast')\n",
        "\n",
        "#fill uncertainty area\n",
        "plt.fill_between(lower_limits.index, lower_limits, upper_limits, color='pink')\n",
        "plt.show()"
      ],
      "execution_count": 54,
      "outputs": [
        {
          "output_type": "display_data",
          "data": {
            "image/png": "[encoded data removed]",
            "text/plain": [
              "<Figure size 432x288 with 1 Axes>"
            ]
          },
          "metadata": {
            "tags": []
          }
        }
      ]
    },
    {
      "cell_type": "code",
      "metadata": {
        "colab": {
          "base_uri": "https://localhost:8080/",
          "height": 303
        },
        "id": "KoZ3ifKxkXMS",
        "outputId": "e374f7b2-b41c-4614-c791-7c799538a624"
      },
      "source": [
        "#Creating a 30 day forecast\n",
        "forecast =results.get_forecast(steps=30)\n",
        "mean_forecast = forecast.predicted_mean\n",
        "confidence_intervals = forecast.conf_int()\n",
        "lower_limits = confidence_intervals.loc[:,'lower sale_dollars']\n",
        "upper_limits = confidence_intervals.loc[:,'upper sale_dollars']\n",
        "\n",
        "#plot prediction\n",
        "plt.figure()\n",
        "plt.plot(mean_forecast.index,mean_forecast.values, color ='purple',label='forecast')\n",
        "\n",
        "#fill uncertainty area\n",
        "plt.fill_between(lower_limits.index, lower_limits, upper_limits, color='blue')\n",
        "plt.show()"
      ],
      "execution_count": 56,
      "outputs": [
        {
          "output_type": "stream",
          "text": [
            "/usr/local/lib/python3.7/dist-packages/statsmodels/tsa/base/tsa_model.py:576: ValueWarning: No supported index is available. Prediction results will be given with an integer index beginning at `start`.\n",
            "  ValueWarning)\n"
          ],
          "name": "stderr"
        },
        {
          "output_type": "display_data",
          "data": {
            "image/png": "[encoded data removed]",
            "text/plain": [
              "<Figure size 432x288 with 1 Axes>"
            ]
          },
          "metadata": {
            "tags": []
          }
        }
      ]
    }
  ]
}