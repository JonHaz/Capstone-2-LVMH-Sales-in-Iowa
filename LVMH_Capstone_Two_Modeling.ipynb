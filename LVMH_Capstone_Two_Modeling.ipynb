{
  "nbformat": 4,
  "nbformat_minor": 0,
  "metadata": {
    "colab": {
      "name": "LVMH Capstone Two - Modeling",
      "provenance": [],
      "mount_file_id": "1m9Gcr1SUo1XvEbGjsJSsEkU5UUr4cNRn",
      "authorship_tag": "ABX9TyN6sBWZvLL4Ch2xxSGXHxUs",
      "include_colab_link": true
    },
    "kernelspec": {
      "name": "python3",
      "display_name": "Python 3"
    },
    "language_info": {
      "name": "python"
    }
  },
  "cells": [
    {
      "cell_type": "markdown",
      "metadata": {
        "id": "view-in-github",
        "colab_type": "text"
      },
      "source": [
        "<a href=\"https://colab.research.google.com/github/JonHaz/Capstone-2-LVMH-Sales-in-Iowa/blob/main/LVMH_Capstone_Two_Modeling.ipynb\" target=\"_parent\"><img src=\"https://colab.research.google.com/assets/colab-badge.svg\" alt=\"Open In Colab\"/></a>"
      ]
    },
    {
      "cell_type": "markdown",
      "metadata": {
        "id": "VwmZqIj0aZ41"
      },
      "source": [
        "In this notebook I will be testing out different machine learning models to predict sales\n",
        "\n",
        "*   ARIMA\n",
        "*   Linear Regression\n",
        "*   Random Forest Regression\n",
        "*   XGBoost\n",
        "*   Long Short Term Memory\n",
        "\n",
        "My game plan is to\n",
        "\n",
        "\n",
        "*   split the data into train and test\n",
        "*   create a pipeline\n",
        "*   perform 5 fold cross validation\n",
        "*   use gradient boosting to determine what learning rate has the best accuracy\n",
        "*   Random Search to determine what is a good enough parameter"
      ]
    },
    {
      "cell_type": "markdown",
      "metadata": {
        "id": "iHTaXV3FLXJD"
      },
      "source": [
        "Limit the number of unique values in my dataset by grouping them\n",
        "\n",
        "Replace a category with the average "
      ]
    },
    {
      "cell_type": "code",
      "metadata": {
        "id": "Qt41gVgqaNoM",
        "colab": {
          "base_uri": "https://localhost:8080/"
        },
        "outputId": "5fbaf583-4eed-4516-d16d-734698abd8c9"
      },
      "source": [
        "#Packages I will be using\n",
        "import pandas as pd\n",
        "from datetime import datetime, timedelta\n",
        "from scipy import stats\n",
        "\n",
        "import matplotlib.pyplot as plt\n",
        "import seaborn as sns\n",
        "\n",
        "from sklearn.preprocessing import StandardScaler\n",
        "from sklearn.datasets import make_classification\n",
        "from sklearn.model_selection import train_test_split\n",
        "from sklearn.pipeline import Pipeline\n",
        "from sklearn.model_selection import cross_val_score\n",
        "\n",
        "from statsmodels.tsa.arima_model import ARMA\n",
        "from sklearn.metrics import mean_squared_error\n",
        "\n",
        "from sklearn.linear_model import Ridge\n",
        "from sklearn.preprocessing import PolynomialFeatures\n",
        "#https://github.com/srpraveen97/Electrical_Demand_Toronto/blob/main/Jupyter%20Notebooks/LinearModel_TimeSeries.ipynb\n",
        "\n",
        "from sklearn.model_selection import cross_val_score\n",
        "from sklearn.ensemble import RandomForestClassifier"
      ],
      "execution_count": 1,
      "outputs": [
        {
          "output_type": "stream",
          "text": [
            "/usr/local/lib/python3.7/dist-packages/statsmodels/tools/_testing.py:19: FutureWarning: pandas.util.testing is deprecated. Use the functions in the public API at pandas.testing instead.\n",
            "  import pandas.util.testing as tm\n"
          ],
          "name": "stderr"
        }
      ]
    },
    {
      "cell_type": "code",
      "metadata": {
        "id": "HSsa7uYSapp0",
        "colab": {
          "base_uri": "https://localhost:8080/"
        },
        "outputId": "20b3bb79-73cb-4412-f7bc-79345b6adead"
      },
      "source": [
        "# I am establishing a connection to my Sandbox within BigQuery so that I can run SQL queries to interact with the data here within Google Collab\n",
        "from google.colab import auth\n",
        "auth.authenticate_user()\n",
        "print('Authenticated')\n"
      ],
      "execution_count": 2,
      "outputs": [
        {
          "output_type": "stream",
          "text": [
            "Authenticated\n"
          ],
          "name": "stdout"
        }
      ]
    },
    {
      "cell_type": "code",
      "metadata": {
        "id": "xbrj131xa3je"
      },
      "source": [
        "# Save output in a variable `df`\n",
        "%%bigquery --project storied-sound-253213 df\n",
        "SELECT *\n",
        "FROM `bigquery-public-data.iowa_liquor_sales.sales`\n",
        "WHERE vendor_number = '420'"
      ],
      "execution_count": 3,
      "outputs": []
    },
    {
      "cell_type": "code",
      "metadata": {
        "colab": {
          "base_uri": "https://localhost:8080/"
        },
        "id": "jPsjJojmJpmQ",
        "outputId": "323b086b-201d-4bdc-b04d-81b6e8b66a43"
      },
      "source": [
        "df.nunique()"
      ],
      "execution_count": 5,
      "outputs": [
        {
          "output_type": "execute_result",
          "data": {
            "text/plain": [
              "invoice_and_item_number    298945\n",
              "date                         2275\n",
              "store_number                 2314\n",
              "store_name                   2448\n",
              "address                      3300\n",
              "city                          735\n",
              "zip_code                      459\n",
              "store_location               1853\n",
              "county_number                 108\n",
              "county                        199\n",
              "category                       18\n",
              "category_name                  20\n",
              "vendor_number                   1\n",
              "vendor_name                     2\n",
              "item_number                   196\n",
              "item_description              185\n",
              "pack                           11\n",
              "bottle_volume_ml               17\n",
              "state_bottle_cost             180\n",
              "state_bottle_retail           185\n",
              "bottles_sold                  103\n",
              "sale_dollars                 1999\n",
              "volume_sold_liters            221\n",
              "volume_sold_gallons           272\n",
              "dtype: int64"
            ]
          },
          "metadata": {
            "tags": []
          },
          "execution_count": 5
        }
      ]
    },
    {
      "cell_type": "code",
      "metadata": {
        "id": "gMz0XcD0a4ko"
      },
      "source": [
        "#applying a little data cleaning\n",
        "#changing data types for 'date', 'pack', 'bottle_volume_ml'\n",
        "df['date'] = pd.to_datetime(df['date'])\n",
        "add_cat = ['pack', 'bottle_volume_ml']\n",
        "df[add_cat] = df[add_cat].astype(str)\n",
        "#removing fields that are unique identifiers, are redundant, or have more than 100 unique options\n",
        "# ['invoice_and_item_number' , 'vendor_number','vendor_name', 'store_name', 'address','item_description', 'item_number', 'store_number', 'city', 'zip_code', 'store_location', 'county_number', 'county']\n",
        "remove_cat = ['invoice_and_item_number' , 'vendor_number','vendor_name', 'store_name', 'address','item_description', 'item_number', 'store_number', 'city', 'zip_code', 'store_location', 'county_number', 'county']\n",
        "df_cat = df.drop(columns=remove_cat)"
      ],
      "execution_count": 24,
      "outputs": []
    },
    {
      "cell_type": "code",
      "metadata": {
        "id": "A7SQSwKma-8Q"
      },
      "source": [
        "# select object type columns\n",
        "dfo=df_cat.select_dtypes(include=['object']) \n",
        "df = pd.concat([df.drop(dfo, axis=1), pd.get_dummies(dfo)], axis=1)"
      ],
      "execution_count": 27,
      "outputs": []
    },
    {
      "cell_type": "code",
      "metadata": {
        "id": "oGPRorx-bDFL"
      },
      "source": [
        "# lets move the field 'invoice_and_item_number' to the index\n",
        "df = df.set_index('invoice_and_item_number')\n",
        "\n",
        "# creating a series of dates\n",
        "df_date = df['date']\n",
        "\n",
        "# dropping columns so that the data can be scaled\n",
        "cat = ['date','store_number',\t'store_name',\t'address',\t'city',\t'zip_code',\t'store_location',\t'county_number',\t'county',\t'vendor_number',\t'vendor_name',\t'item_number',\t'item_description']\n",
        "df_scaled = df.drop(columns=cat)"
      ],
      "execution_count": 25,
      "outputs": []
    },
    {
      "cell_type": "code",
      "metadata": {
        "colab": {
          "base_uri": "https://localhost:8080/"
        },
        "id": "fu27mGcHUjt7",
        "outputId": "2ff12d01-1789-41dc-979e-5f0c28bbea8d"
      },
      "source": [
        "print(df.nunique())\n",
        "print(df['county_number'].unique())"
      ],
      "execution_count": 26,
      "outputs": [
        {
          "output_type": "stream",
          "text": [
            "date                   2275\n",
            "store_number           2314\n",
            "store_name             2448\n",
            "address                3300\n",
            "city                    735\n",
            "zip_code                459\n",
            "store_location         1853\n",
            "county_number           108\n",
            "county                  199\n",
            "category                 18\n",
            "category_name            20\n",
            "vendor_number             1\n",
            "vendor_name               2\n",
            "item_number             196\n",
            "item_description        185\n",
            "pack                     11\n",
            "bottle_volume_ml         17\n",
            "state_bottle_cost       180\n",
            "state_bottle_retail     185\n",
            "bottles_sold            103\n",
            "sale_dollars           1999\n",
            "volume_sold_liters      221\n",
            "volume_sold_gallons     272\n",
            "dtype: int64\n",
            "['77' '07' '52' '17' '70' '64' '85' '82' '86' '57' '25' '24' '97' '31'\n",
            " '44' None '7' '20' '78' '96' '14' '92' '48' '71' '59' '50' '09' '90' '51'\n",
            " '94' '88' '55' '23' '53' '9' '11' '47' '30' '62' '18' '58' '79' '93' '61'\n",
            " '29' '56' '73' '43' '42' '21' '75' '63' '65' '91' '8' '08' '46' '13' '34'\n",
            " '66' '32' '49' '28' '33' '6' '15' '27' '69' '45' '60' '04' '40' '16' '4'\n",
            " '84' '19' '74' '37' '06' '83' '3' '67' '81' '68' '99' '10' '76' '95' '38'\n",
            " '22' '35' '03' '72' '01' '98' '54' '5' '02' '12' '41' '39' '05' '80' '36'\n",
            " '87' '89' '2' '1' '26']\n"
          ],
          "name": "stdout"
        }
      ]
    },
    {
      "cell_type": "code",
      "metadata": {
        "id": "oSxkIaJnlnjc"
      },
      "source": [
        "# I created a lookup table in Google Sheets that grouped county number by district per the Iowa Department of Transportation\n",
        "# I am importing that googlesheet and creating a dataframe\n",
        "\n",
        "!pip install --upgrade -q gspread\n",
        "\n",
        "import gspread\n",
        "import pandas as pd\n",
        "from google.colab import auth\n",
        "from oauth2client.client import GoogleCredentials\n",
        "\n",
        "auth.authenticate_user()\n",
        "gc = gspread.authorize(GoogleCredentials.get_application_default())\n",
        "\n",
        "worksheet = gc.open('Districts Iowa Department of Transportation').sheet1\n",
        "rows = worksheet.get_all_values()\n",
        "district = pd.DataFrame.from_records(rows)"
      ],
      "execution_count": 27,
      "outputs": []
    },
    {
      "cell_type": "code",
      "metadata": {
        "colab": {
          "base_uri": "https://localhost:8080/",
          "height": 206
        },
        "id": "qmNH1XHpkWoE",
        "outputId": "0f3a3c7b-fbf3-4d6b-b4b7-8c9cdeb68a16"
      },
      "source": [
        "#formatting the new dat frame\n",
        "column = ['count_number', 'district']\n",
        "district.set_axis(column, axis=1, inplace=True)\n",
        "district = district.drop(0)\n",
        "district.head()"
      ],
      "execution_count": 28,
      "outputs": [
        {
          "output_type": "execute_result",
          "data": {
            "text/html": [
              "<div>\n",
              "<style scoped>\n",
              "    .dataframe tbody tr th:only-of-type {\n",
              "        vertical-align: middle;\n",
              "    }\n",
              "\n",
              "    .dataframe tbody tr th {\n",
              "        vertical-align: top;\n",
              "    }\n",
              "\n",
              "    .dataframe thead th {\n",
              "        text-align: right;\n",
              "    }\n",
              "</style>\n",
              "<table border=\"1\" class=\"dataframe\">\n",
              "  <thead>\n",
              "    <tr style=\"text-align: right;\">\n",
              "      <th></th>\n",
              "      <th>count_number</th>\n",
              "      <th>district</th>\n",
              "    </tr>\n",
              "  </thead>\n",
              "  <tbody>\n",
              "    <tr>\n",
              "      <th>1</th>\n",
              "      <td>1</td>\n",
              "      <td>3</td>\n",
              "    </tr>\n",
              "    <tr>\n",
              "      <th>2</th>\n",
              "      <td>2</td>\n",
              "      <td>3</td>\n",
              "    </tr>\n",
              "    <tr>\n",
              "      <th>3</th>\n",
              "      <td>3</td>\n",
              "      <td>3</td>\n",
              "    </tr>\n",
              "    <tr>\n",
              "      <th>4</th>\n",
              "      <td>4</td>\n",
              "      <td>3</td>\n",
              "    </tr>\n",
              "    <tr>\n",
              "      <th>5</th>\n",
              "      <td>5</td>\n",
              "      <td>2</td>\n",
              "    </tr>\n",
              "  </tbody>\n",
              "</table>\n",
              "</div>"
            ],
            "text/plain": [
              "  count_number district\n",
              "1            1        3\n",
              "2            2        3\n",
              "3            3        3\n",
              "4            4        3\n",
              "5            5        2"
            ]
          },
          "metadata": {
            "tags": []
          },
          "execution_count": 28
        }
      ]
    },
    {
      "cell_type": "code",
      "metadata": {
        "colab": {
          "base_uri": "https://localhost:8080/"
        },
        "id": "bwMySydkolCx",
        "outputId": "029fc254-a494-4901-c7ad-cdbf16f99e06"
      },
      "source": [
        "#merged the district df with my existing df\n",
        "new_df =df.merge(district,left_on='county_number', right_on='count_number')\n",
        "\n",
        "new_df.columns"
      ],
      "execution_count": 29,
      "outputs": [
        {
          "output_type": "execute_result",
          "data": {
            "text/plain": [
              "Index(['date', 'store_number', 'store_name', 'address', 'city', 'zip_code',\n",
              "       'store_location', 'county_number', 'county', 'category',\n",
              "       'category_name', 'vendor_number', 'vendor_name', 'item_number',\n",
              "       'item_description', 'pack', 'bottle_volume_ml', 'state_bottle_cost',\n",
              "       'state_bottle_retail', 'bottles_sold', 'sale_dollars',\n",
              "       'volume_sold_liters', 'volume_sold_gallons', 'count_number',\n",
              "       'district'],\n",
              "      dtype='object')"
            ]
          },
          "metadata": {
            "tags": []
          },
          "execution_count": 29
        }
      ]
    },
    {
      "cell_type": "code",
      "metadata": {
        "colab": {
          "base_uri": "https://localhost:8080/"
        },
        "id": "ldRiSORcqQ4-",
        "outputId": "c0a457d2-efbf-40f9-ba17-58686d89bcea"
      },
      "source": [
        "#adding new columns\n",
        "new_df['year'] = pd.DatetimeIndex(new_df['date']).year\n",
        "new_df['month'] = pd.DatetimeIndex(new_df['date']).month\n",
        "new_df['week'] = pd.DatetimeIndex(new_df['date']).week"
      ],
      "execution_count": 172,
      "outputs": [
        {
          "output_type": "stream",
          "text": [
            "/usr/local/lib/python3.7/dist-packages/ipykernel_launcher.py:4: FutureWarning: weekofyear and week have been deprecated, please use DatetimeIndex.isocalendar().week instead, which returns a Series.  To exactly reproduce the behavior of week and weekofyear and return an Index, you may call pd.Int64Index(idx.isocalendar().week)\n",
            "  after removing the cwd from sys.path.\n"
          ],
          "name": "stderr"
        }
      ]
    },
    {
      "cell_type": "code",
      "metadata": {
        "colab": {
          "base_uri": "https://localhost:8080/"
        },
        "id": "3UySrbOI2K3o",
        "outputId": "a198ea84-8eee-448e-87ce-b305f576ee12"
      },
      "source": [
        "new_df.columns"
      ],
      "execution_count": 173,
      "outputs": [
        {
          "output_type": "execute_result",
          "data": {
            "text/plain": [
              "Index(['date', 'store_number', 'store_name', 'address', 'city', 'zip_code',\n",
              "       'store_location', 'county_number', 'county', 'category',\n",
              "       'category_name', 'vendor_number', 'vendor_name', 'item_number',\n",
              "       'item_description', 'pack', 'bottle_volume_ml', 'state_bottle_cost',\n",
              "       'state_bottle_retail', 'bottles_sold', 'sale_dollars',\n",
              "       'volume_sold_liters', 'volume_sold_gallons', 'count_number', 'district',\n",
              "       'year', 'month', 'ym', 'week'],\n",
              "      dtype='object')"
            ]
          },
          "metadata": {
            "tags": []
          },
          "execution_count": 173
        }
      ]
    },
    {
      "cell_type": "code",
      "metadata": {
        "id": "RjrYjoipuTRg"
      },
      "source": [
        "sales_district_year = new_df.groupby(['district','year'])['sale_dollars'].agg('sum')\n",
        "sales_district_month = new_df.groupby(['district','month'])['sale_dollars'].agg('sum')\n",
        "sales_district_week = new_df.groupby(['district','ym'])['sale_dollars'].agg('sum')\n",
        "#sales_district.sort_values(ascending=True).head()\n",
        "sales_district_year = sales_district_year.reset_index(level='district')\n",
        "sales_district_month = sales_district_month.reset_index(level='district')\n",
        "sales_district_week = sales_district_week.reset_index(level='district')"
      ],
      "execution_count": 175,
      "outputs": []
    },
    {
      "cell_type": "code",
      "metadata": {
        "colab": {
          "base_uri": "https://localhost:8080/",
          "height": 237
        },
        "id": "sX_JSInPAmwt",
        "outputId": "7d93352d-ea1a-401b-8fa7-d57f5f6d729c"
      },
      "source": [
        "sales_district_week.head()"
      ],
      "execution_count": 176,
      "outputs": [
        {
          "output_type": "execute_result",
          "data": {
            "text/html": [
              "<div>\n",
              "<style scoped>\n",
              "    .dataframe tbody tr th:only-of-type {\n",
              "        vertical-align: middle;\n",
              "    }\n",
              "\n",
              "    .dataframe tbody tr th {\n",
              "        vertical-align: top;\n",
              "    }\n",
              "\n",
              "    .dataframe thead th {\n",
              "        text-align: right;\n",
              "    }\n",
              "</style>\n",
              "<table border=\"1\" class=\"dataframe\">\n",
              "  <thead>\n",
              "    <tr style=\"text-align: right;\">\n",
              "      <th></th>\n",
              "      <th>district</th>\n",
              "      <th>sale_dollars</th>\n",
              "    </tr>\n",
              "    <tr>\n",
              "      <th>ym</th>\n",
              "      <th></th>\n",
              "      <th></th>\n",
              "    </tr>\n",
              "  </thead>\n",
              "  <tbody>\n",
              "    <tr>\n",
              "      <th>1</th>\n",
              "      <td>1</td>\n",
              "      <td>9006.01</td>\n",
              "    </tr>\n",
              "    <tr>\n",
              "      <th>2</th>\n",
              "      <td>1</td>\n",
              "      <td>7608.23</td>\n",
              "    </tr>\n",
              "    <tr>\n",
              "      <th>3</th>\n",
              "      <td>1</td>\n",
              "      <td>14605.84</td>\n",
              "    </tr>\n",
              "    <tr>\n",
              "      <th>4</th>\n",
              "      <td>1</td>\n",
              "      <td>21974.64</td>\n",
              "    </tr>\n",
              "    <tr>\n",
              "      <th>5</th>\n",
              "      <td>1</td>\n",
              "      <td>9518.58</td>\n",
              "    </tr>\n",
              "  </tbody>\n",
              "</table>\n",
              "</div>"
            ],
            "text/plain": [
              "   district  sale_dollars\n",
              "ym                       \n",
              "1         1       9006.01\n",
              "2         1       7608.23\n",
              "3         1      14605.84\n",
              "4         1      21974.64\n",
              "5         1       9518.58"
            ]
          },
          "metadata": {
            "tags": []
          },
          "execution_count": 176
        }
      ]
    },
    {
      "cell_type": "markdown",
      "metadata": {
        "id": "9mDtvhBsFcfk"
      },
      "source": [
        "Weekly sales throughout a calendar year"
      ]
    },
    {
      "cell_type": "code",
      "metadata": {
        "colab": {
          "base_uri": "https://localhost:8080/",
          "height": 357
        },
        "id": "at4gpGUKpblS",
        "outputId": "dca3be56-8324-4202-8e95-32e69a10ae97"
      },
      "source": [
        "plt.figure(figsize=(20,5))\n",
        "x = sales_district_week.index\n",
        "y = sales_district_week['sale_dollars']\n",
        "hue = sales_district_week['district']\n",
        "\n",
        "sns.barplot(x=x, y=y)"
      ],
      "execution_count": 180,
      "outputs": [
        {
          "output_type": "execute_result",
          "data": {
            "text/plain": [
              "<matplotlib.axes._subplots.AxesSubplot at 0x7f6f4b5fe910>"
            ]
          },
          "metadata": {
            "tags": []
          },
          "execution_count": 180
        },
        {
          "output_type": "display_data",
          "data": {
            "image/png": "[encoded data removed]",
            "text/plain": [
              "<Figure size 1440x360 with 1 Axes>"
            ]
          },
          "metadata": {
            "tags": []
          }
        }
      ]
    },
    {
      "cell_type": "code",
      "metadata": {
        "id": "kJBtHdzmstdp"
      },
      "source": [
        "\n"
      ],
      "execution_count": 145,
      "outputs": []
    },
    {
      "cell_type": "code",
      "metadata": {
        "colab": {
          "base_uri": "https://localhost:8080/",
          "height": 237
        },
        "id": "hxmBwq9K35to",
        "outputId": "dc45da81-6c99-4fb6-bde0-40b44a36f251"
      },
      "source": [
        "sales_district_year.head()"
      ],
      "execution_count": 141,
      "outputs": [
        {
          "output_type": "execute_result",
          "data": {
            "text/html": [
              "<div>\n",
              "<style scoped>\n",
              "    .dataframe tbody tr th:only-of-type {\n",
              "        vertical-align: middle;\n",
              "    }\n",
              "\n",
              "    .dataframe tbody tr th {\n",
              "        vertical-align: top;\n",
              "    }\n",
              "\n",
              "    .dataframe thead th {\n",
              "        text-align: right;\n",
              "    }\n",
              "</style>\n",
              "<table border=\"1\" class=\"dataframe\">\n",
              "  <thead>\n",
              "    <tr style=\"text-align: right;\">\n",
              "      <th></th>\n",
              "      <th>district</th>\n",
              "      <th>sale_dollars</th>\n",
              "    </tr>\n",
              "    <tr>\n",
              "      <th>year</th>\n",
              "      <th></th>\n",
              "      <th></th>\n",
              "    </tr>\n",
              "  </thead>\n",
              "  <tbody>\n",
              "    <tr>\n",
              "      <th>2012</th>\n",
              "      <td>1</td>\n",
              "      <td>42745.55</td>\n",
              "    </tr>\n",
              "    <tr>\n",
              "      <th>2013</th>\n",
              "      <td>1</td>\n",
              "      <td>42995.90</td>\n",
              "    </tr>\n",
              "    <tr>\n",
              "      <th>2014</th>\n",
              "      <td>1</td>\n",
              "      <td>45753.00</td>\n",
              "    </tr>\n",
              "    <tr>\n",
              "      <th>2015</th>\n",
              "      <td>1</td>\n",
              "      <td>41908.83</td>\n",
              "    </tr>\n",
              "    <tr>\n",
              "      <th>2016</th>\n",
              "      <td>1</td>\n",
              "      <td>52867.27</td>\n",
              "    </tr>\n",
              "  </tbody>\n",
              "</table>\n",
              "</div>"
            ],
            "text/plain": [
              "     district  sale_dollars\n",
              "year                       \n",
              "2012        1      42745.55\n",
              "2013        1      42995.90\n",
              "2014        1      45753.00\n",
              "2015        1      41908.83\n",
              "2016        1      52867.27"
            ]
          },
          "metadata": {
            "tags": []
          },
          "execution_count": 141
        }
      ]
    },
    {
      "cell_type": "code",
      "metadata": {
        "colab": {
          "base_uri": "https://localhost:8080/",
          "height": 367
        },
        "id": "YsUaPm4isAux",
        "outputId": "9d9944ff-0eb4-4b46-e15f-06e1f0437d3b"
      },
      "source": [
        "\n",
        "plt.figure(figsize=(20,5))\n",
        "\n",
        "sns.set_theme(style=\"darkgrid\")\n",
        "x = sales_district_year['district']\n",
        "y = sales_district_year['sale_dollars']\n",
        "hue = sales_district_year.index\n",
        "ax = sns.barplot(y=y, x=x, hue=hue, palette='Blues')\n",
        "\n",
        "ax.set(xlabel='Districts', ylabel='Millions')"
      ],
      "execution_count": 142,
      "outputs": [
        {
          "output_type": "execute_result",
          "data": {
            "text/plain": [
              "[Text(0, 0.5, 'Millions'), Text(0.5, 0, 'Districts')]"
            ]
          },
          "metadata": {
            "tags": []
          },
          "execution_count": 142
        },
        {
          "output_type": "display_data",
          "data": {
            "image/png": "[encoded data removed]",
            "text/plain": [
              "<Figure size 1440x360 with 1 Axes>"
            ]
          },
          "metadata": {
            "tags": []
          }
        }
      ]
    },
    {
      "cell_type": "markdown",
      "metadata": {
        "id": "cJExdmhU9wJe"
      },
      "source": [
        "By plotting sales by ditrict over the years we can see that there is year over year sales growth."
      ]
    },
    {
      "cell_type": "code",
      "metadata": {
        "colab": {
          "base_uri": "https://localhost:8080/",
          "height": 367
        },
        "id": "yajhwmuI8mlF",
        "outputId": "b14cda2d-d583-4b6a-d008-28589157ba50"
      },
      "source": [
        "plt.figure(figsize=(20,5))\n",
        "\n",
        "sns.set_theme(style=\"darkgrid\")\n",
        "x = sales_district_month['district']\n",
        "y = sales_district_month['sale_dollars']\n",
        "hue = sales_district_month.index\n",
        "ax = sns.barplot(y=y, x=x, hue=hue, palette='Purples')\n",
        "\n",
        "ax.set(xlabel='Districts', ylabel='Millions')"
      ],
      "execution_count": 144,
      "outputs": [
        {
          "output_type": "execute_result",
          "data": {
            "text/plain": [
              "[Text(0, 0.5, 'Millions'), Text(0.5, 0, 'Districts')]"
            ]
          },
          "metadata": {
            "tags": []
          },
          "execution_count": 144
        },
        {
          "output_type": "display_data",
          "data": {
            "image/png": "[encoded data removed]",
            "text/plain": [
              "<Figure size 1440x360 with 1 Axes>"
            ]
          },
          "metadata": {
            "tags": []
          }
        }
      ]
    },
    {
      "cell_type": "markdown",
      "metadata": {
        "id": "CdD6w6QB-AAB"
      },
      "source": [
        "Showing sales by month by distict shows that for some regions there is a seasonal trend"
      ]
    },
    {
      "cell_type": "code",
      "metadata": {
        "id": "PJ6FiH1vbJIY"
      },
      "source": [
        "#Using StandardScaler to normalize my data\n",
        "scaler = StandardScaler()\n",
        "scaler.fit(df_scaled)\n",
        "\n",
        "#joining df_scaled to df_date on their indexes which is \"invoice_and_item_number\"\n",
        "df = df_scaled.join(df_date, lsuffix='_df_scaled', rsuffix='_df_date')\n",
        "\n",
        "#ordering the data by date\n",
        "df = df.sort_values(by='date')\n"
      ],
      "execution_count": null,
      "outputs": []
    },
    {
      "cell_type": "code",
      "metadata": {
        "id": "i-He9gpxbamR"
      },
      "source": [
        "#establishing what my independent and dependent variable should be\n",
        "X = df.loc[:,df.columns!=\"sale_dollars\"]\n",
        "y = df['sale_dollars']\n",
        "test_size = 0.2\n",
        "date_col = df.date"
      ],
      "execution_count": null,
      "outputs": []
    },
    {
      "cell_type": "code",
      "metadata": {
        "id": "mNet7sIRbmas"
      },
      "source": [
        "# using train_test_split making sure that my data is not shuffled since it is time series\n",
        "from sklearn.model_selection import train_test_split\n",
        "X_train, X_test, y_train, y_test = train_test_split(X, y,test_size=test_size, shuffle= False)"
      ],
      "execution_count": null,
      "outputs": []
    },
    {
      "cell_type": "markdown",
      "metadata": {
        "id": "00Ki1CV3jc-i"
      },
      "source": [
        "Now that we have our data training data we can begin applying different models"
      ]
    },
    {
      "cell_type": "markdown",
      "metadata": {
        "id": "cbh0XrkcfVs7"
      },
      "source": [
        "ARMA Model"
      ]
    },
    {
      "cell_type": "code",
      "metadata": {
        "id": "yvydV3UwfVSC"
      },
      "source": [
        "# Fit an MA model to the first simulated data\n",
        "mod = ARMA(simulated_data_1, order=(0,1))\n",
        "res = mod.fit()\n",
        "\n",
        "# Print out summary information on the fit\n",
        "print(res.summary())\n",
        "\n",
        "# Print out the estimate for the constant and for theta\n",
        "print(\"When the true theta=-0.9, the estimate of theta (and the constant) are:\")\n",
        "print(res.params)"
      ],
      "execution_count": null,
      "outputs": []
    }
  ]
}