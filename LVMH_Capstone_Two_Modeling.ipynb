{
  "nbformat": 4,
  "nbformat_minor": 0,
  "metadata": {
    "colab": {
      "name": "LVMH Capstone Two - Modeling",
      "provenance": [],
      "mount_file_id": "1m9Gcr1SUo1XvEbGjsJSsEkU5UUr4cNRn",
      "authorship_tag": "ABX9TyOqbMSCrJlyIkpDMOqdQMIx",
      "include_colab_link": true
    },
    "kernelspec": {
      "name": "python3",
      "display_name": "Python 3"
    },
    "language_info": {
      "name": "python"
    }
  },
  "cells": [
    {
      "cell_type": "markdown",
      "metadata": {
        "id": "view-in-github",
        "colab_type": "text"
      },
      "source": [
        "<a href=\"https://colab.research.google.com/github/JonHaz/Capstone-2-LVMH-Sales-in-Iowa/blob/main/LVMH_Capstone_Two_Modeling.ipynb\" target=\"_parent\"><img src=\"https://colab.research.google.com/assets/colab-badge.svg\" alt=\"Open In Colab\"/></a>"
      ]
    },
    {
      "cell_type": "markdown",
      "metadata": {
        "id": "VwmZqIj0aZ41"
      },
      "source": [
        "In this notebook I will be testing out different machine learning models to predict sales\n",
        "\n",
        "*   ARIMA\n",
        "*   Linear Regression\n",
        "*   Random Forest Regression\n",
        "*   XGBoost\n",
        "*   Long Short Term Memory\n",
        "\n",
        "My game plan is to\n",
        "\n",
        "\n",
        "*   split the data into train and test\n",
        "*   create a pipeline\n",
        "*   perform 5 fold cross validation\n",
        "*   use gradient boosting to determine what learning rate has the best accuracy\n",
        "*   Random Search to determine what is a good enough parameter"
      ]
    },
    {
      "cell_type": "markdown",
      "metadata": {
        "id": "iHTaXV3FLXJD"
      },
      "source": [
        "Limit the number of unique values in my dataset by grouping them\n",
        "\n",
        "Replace a category with the average "
      ]
    },
    {
      "cell_type": "code",
      "metadata": {
        "id": "Qt41gVgqaNoM",
        "colab": {
          "base_uri": "https://localhost:8080/"
        },
        "outputId": "f5bd40d5-c621-4648-92d5-c48e2739d6ee"
      },
      "source": [
        "#Packages I will be using\n",
        "import pandas as pd\n",
        "from datetime import datetime, timedelta\n",
        "from scipy import stats\n",
        "\n",
        "import matplotlib.pyplot as plt\n",
        "import seaborn as sns\n",
        "\n",
        "from sklearn.preprocessing import StandardScaler\n",
        "from sklearn.datasets import make_classification\n",
        "from sklearn.model_selection import train_test_split\n",
        "from sklearn.pipeline import Pipeline\n",
        "from sklearn.model_selection import cross_val_score\n",
        "\n",
        "from statsmodels.tsa.arima_model import ARMA\n",
        "from sklearn.metrics import mean_squared_error\n",
        "\n",
        "from sklearn.linear_model import Ridge\n",
        "from sklearn.preprocessing import PolynomialFeatures\n",
        "#https://github.com/srpraveen97/Electrical_Demand_Toronto/blob/main/Jupyter%20Notebooks/LinearModel_TimeSeries.ipynb\n",
        "\n",
        "from sklearn.model_selection import cross_val_score\n",
        "from sklearn.ensemble import RandomForestClassifier"
      ],
      "execution_count": 1,
      "outputs": [
        {
          "output_type": "stream",
          "text": [
            "/usr/local/lib/python3.7/dist-packages/statsmodels/tools/_testing.py:19: FutureWarning: pandas.util.testing is deprecated. Use the functions in the public API at pandas.testing instead.\n",
            "  import pandas.util.testing as tm\n"
          ],
          "name": "stderr"
        }
      ]
    },
    {
      "cell_type": "code",
      "metadata": {
        "id": "HSsa7uYSapp0",
        "colab": {
          "base_uri": "https://localhost:8080/"
        },
        "outputId": "76b5f7fa-9541-4582-ecef-b1bb86f44249"
      },
      "source": [
        "# I am establishing a connection to my Sandbox within BigQuery so that I can run SQL queries to interact with the data here within Google Collab\n",
        "from google.colab import auth\n",
        "auth.authenticate_user()\n",
        "print('Authenticated')\n"
      ],
      "execution_count": 3,
      "outputs": [
        {
          "output_type": "stream",
          "text": [
            "Authenticated\n"
          ],
          "name": "stdout"
        }
      ]
    },
    {
      "cell_type": "code",
      "metadata": {
        "id": "xbrj131xa3je"
      },
      "source": [
        "# Save output in a variable `df`\n",
        "%%bigquery --project storied-sound-253213 df\n",
        "SELECT *\n",
        "FROM `bigquery-public-data.iowa_liquor_sales.sales`\n",
        "WHERE vendor_number = '420'"
      ],
      "execution_count": 4,
      "outputs": []
    },
    {
      "cell_type": "code",
      "metadata": {
        "colab": {
          "base_uri": "https://localhost:8080/"
        },
        "id": "jPsjJojmJpmQ",
        "outputId": "13eaf757-7fa4-4472-f26c-d024df799212"
      },
      "source": [
        "df.nunique()"
      ],
      "execution_count": 5,
      "outputs": [
        {
          "output_type": "execute_result",
          "data": {
            "text/plain": [
              "invoice_and_item_number    260666\n",
              "date                         2011\n",
              "store_number                 2185\n",
              "store_name                   2314\n",
              "address                      3183\n",
              "city                          722\n",
              "zip_code                      452\n",
              "store_location               1772\n",
              "county_number                 108\n",
              "county                        199\n",
              "category                       17\n",
              "category_name                  19\n",
              "vendor_number                   1\n",
              "vendor_name                     2\n",
              "item_number                   181\n",
              "item_description              166\n",
              "pack                           11\n",
              "bottle_volume_ml               17\n",
              "state_bottle_cost             174\n",
              "state_bottle_retail           179\n",
              "bottles_sold                   97\n",
              "sale_dollars                 1859\n",
              "volume_sold_liters            210\n",
              "volume_sold_gallons           253\n",
              "dtype: int64"
            ]
          },
          "metadata": {
            "tags": []
          },
          "execution_count": 5
        }
      ]
    },
    {
      "cell_type": "code",
      "metadata": {
        "id": "gMz0XcD0a4ko"
      },
      "source": [
        "#applying a little data cleaning\n",
        "#changing data types for 'date', 'pack', 'bottle_volume_ml'\n",
        "df['date'] = pd.to_datetime(df['date'])\n",
        "add_cat = ['pack', 'bottle_volume_ml']\n",
        "df[add_cat] = df[add_cat].astype(str)\n",
        "#removing fields that are unique identifiers, are redundant, or have more than 100 unique options\n",
        "# ['invoice_and_item_number' , 'vendor_number','vendor_name', 'store_name', 'address','item_description', 'item_number', 'store_number', 'city', 'zip_code', 'store_location', 'county_number', 'county']\n",
        "remove_cat = ['invoice_and_item_number' , 'vendor_number','vendor_name', 'store_name', 'address','item_description', 'item_number', 'store_number', 'city', 'zip_code', 'store_location', 'county_number', 'county']\n",
        "df_cat = df.drop(columns=remove_cat)"
      ],
      "execution_count": 6,
      "outputs": []
    },
    {
      "cell_type": "code",
      "metadata": {
        "id": "A7SQSwKma-8Q"
      },
      "source": [
        "# select object type columns\n",
        "dfo=df_cat.select_dtypes(include=['object']) \n",
        "df = pd.concat([df.drop(dfo, axis=1), pd.get_dummies(dfo)], axis=1)"
      ],
      "execution_count": 7,
      "outputs": []
    },
    {
      "cell_type": "code",
      "metadata": {
        "id": "oGPRorx-bDFL"
      },
      "source": [
        "# lets move the field 'invoice_and_item_number' to the index\n",
        "df = df.set_index('invoice_and_item_number')\n",
        "\n",
        "# creating a series of dates\n",
        "df_date = df['date']\n",
        "\n",
        "# dropping columns so that the data can be scaled\n",
        "cat = ['date','store_number',\t'store_name',\t'address',\t'city',\t'zip_code',\t'store_location',\t'county_number',\t'county',\t'vendor_number',\t'vendor_name',\t'item_number',\t'item_description']\n",
        "df_scaled = df.drop(columns=cat)"
      ],
      "execution_count": 8,
      "outputs": []
    },
    {
      "cell_type": "code",
      "metadata": {
        "colab": {
          "base_uri": "https://localhost:8080/"
        },
        "id": "fu27mGcHUjt7",
        "outputId": "89a44c88-43e0-49ee-c715-6d50dea0deb0"
      },
      "source": [
        "print(df.nunique())\n",
        "print(df['county_number'].unique())"
      ],
      "execution_count": 9,
      "outputs": [
        {
          "output_type": "stream",
          "text": [
            "date                    2011\n",
            "store_number            2185\n",
            "store_name              2314\n",
            "address                 3183\n",
            "city                     722\n",
            "                        ... \n",
            "bottle_volume_ml_603       2\n",
            "bottle_volume_ml_750       2\n",
            "bottle_volume_ml_800       2\n",
            "bottle_volume_ml_850       2\n",
            "bottle_volume_ml_900       2\n",
            "Length: 83, dtype: int64\n",
            "['77' '82' '51' '85' '62' '4' '57' '07' '25' '52' '7' '06' '96' '31' '86'\n",
            " '91' '71' '64' '29' '97' '08' '17' '11' '78' '24' '14' '50' '34' '30'\n",
            " '63' '92' None '88' '94' '23' '70' '79' '90' '54' '53' '59' '8' '44' '48'\n",
            " '21' '43' '9' '58' '56' '84' '40' '33' '95' '75' '73' '09' '42' '99' '04'\n",
            " '69' '55' '6' '46' '32' '66' '60' '83' '37' '16' '03' '61' '15' '47' '67'\n",
            " '28' '3' '49' '27' '65' '10' '74' '18' '81' '68' '02' '5' '93' '45' '22'\n",
            " '35' '20' '76' '19' '98' '72' '13' '12' '38' '01' '05' '41' '80' '39'\n",
            " '36' '87' '89' '1' '2' '26']\n"
          ],
          "name": "stdout"
        }
      ]
    },
    {
      "cell_type": "code",
      "metadata": {
        "id": "oSxkIaJnlnjc"
      },
      "source": [
        "# I created a lookup table in Google Sheets that grouped county number by district per the Iowa Department of Transportation\n",
        "# I am importing that googlesheet and creating a dataframe\n",
        "\n",
        "!pip install --upgrade -q gspread\n",
        "\n",
        "import gspread\n",
        "import pandas as pd\n",
        "from google.colab import auth\n",
        "from oauth2client.client import GoogleCredentials\n",
        "\n",
        "auth.authenticate_user()\n",
        "gc = gspread.authorize(GoogleCredentials.get_application_default())\n",
        "\n",
        "worksheet = gc.open('Districts Iowa Department of Transportation').sheet1\n",
        "rows = worksheet.get_all_values()\n",
        "district = pd.DataFrame.from_records(rows)"
      ],
      "execution_count": 10,
      "outputs": []
    },
    {
      "cell_type": "code",
      "metadata": {
        "colab": {
          "base_uri": "https://localhost:8080/",
          "height": 206
        },
        "id": "qmNH1XHpkWoE",
        "outputId": "2c11f34d-50a4-4039-98d0-2d231db0757d"
      },
      "source": [
        "#formatting the new data frame\n",
        "column = ['count_number', 'district']\n",
        "district.set_axis(column, axis=1, inplace=True)\n",
        "district = district.drop(0)\n",
        "district.head()"
      ],
      "execution_count": 11,
      "outputs": [
        {
          "output_type": "execute_result",
          "data": {
            "text/html": [
              "<div>\n",
              "<style scoped>\n",
              "    .dataframe tbody tr th:only-of-type {\n",
              "        vertical-align: middle;\n",
              "    }\n",
              "\n",
              "    .dataframe tbody tr th {\n",
              "        vertical-align: top;\n",
              "    }\n",
              "\n",
              "    .dataframe thead th {\n",
              "        text-align: right;\n",
              "    }\n",
              "</style>\n",
              "<table border=\"1\" class=\"dataframe\">\n",
              "  <thead>\n",
              "    <tr style=\"text-align: right;\">\n",
              "      <th></th>\n",
              "      <th>count_number</th>\n",
              "      <th>district</th>\n",
              "    </tr>\n",
              "  </thead>\n",
              "  <tbody>\n",
              "    <tr>\n",
              "      <th>1</th>\n",
              "      <td>1</td>\n",
              "      <td>3</td>\n",
              "    </tr>\n",
              "    <tr>\n",
              "      <th>2</th>\n",
              "      <td>2</td>\n",
              "      <td>3</td>\n",
              "    </tr>\n",
              "    <tr>\n",
              "      <th>3</th>\n",
              "      <td>3</td>\n",
              "      <td>3</td>\n",
              "    </tr>\n",
              "    <tr>\n",
              "      <th>4</th>\n",
              "      <td>4</td>\n",
              "      <td>3</td>\n",
              "    </tr>\n",
              "    <tr>\n",
              "      <th>5</th>\n",
              "      <td>5</td>\n",
              "      <td>2</td>\n",
              "    </tr>\n",
              "  </tbody>\n",
              "</table>\n",
              "</div>"
            ],
            "text/plain": [
              "  count_number district\n",
              "1            1        3\n",
              "2            2        3\n",
              "3            3        3\n",
              "4            4        3\n",
              "5            5        2"
            ]
          },
          "metadata": {
            "tags": []
          },
          "execution_count": 11
        }
      ]
    },
    {
      "cell_type": "code",
      "metadata": {
        "colab": {
          "base_uri": "https://localhost:8080/"
        },
        "id": "bwMySydkolCx",
        "outputId": "b20b51a7-5a17-46a4-aff6-2c4d1393c600"
      },
      "source": [
        "#merged the district df with my existing df\n",
        "new_df =df.merge(district,left_on='county_number', right_on='count_number')\n",
        "\n",
        "new_df.columns"
      ],
      "execution_count": 12,
      "outputs": [
        {
          "output_type": "execute_result",
          "data": {
            "text/plain": [
              "Index(['date', 'store_number', 'store_name', 'address', 'city', 'zip_code',\n",
              "       'store_location', 'county_number', 'county', 'vendor_number',\n",
              "       'vendor_name', 'item_number', 'item_description', 'state_bottle_cost',\n",
              "       'state_bottle_retail', 'bottles_sold', 'sale_dollars',\n",
              "       'volume_sold_liters', 'volume_sold_gallons', 'category_1012200',\n",
              "       'category_1012210', 'category_1012300', 'category_1022200',\n",
              "       'category_1032000', 'category_1032080', 'category_1032100',\n",
              "       'category_1032200', 'category_1052010', 'category_1052100',\n",
              "       'category_1062050', 'category_1062200', 'category_1082100',\n",
              "       'category_1082900', 'category_1700000', 'category_1701100',\n",
              "       'category_1901200', 'category_name_BARBADOS RUM',\n",
              "       'category_name_DECANTERS & SPECIALTY PACKAGES',\n",
              "       'category_name_IMPORTED GRAPE BRANDIES', 'category_name_IMPORTED VODKA',\n",
              "       'category_name_IMPORTED VODKA - MISC', 'category_name_IRISH WHISKIES',\n",
              "       'category_name_Imported Brandies',\n",
              "       'category_name_Imported Flavored Vodka', 'category_name_Imported Vodka',\n",
              "       'category_name_Imported Vodkas',\n",
              "       'category_name_MISC. IMPORTED CORDIALS & LIQUEURS',\n",
              "       'category_name_PUERTO RICO & VIRGIN ISLANDS RUM',\n",
              "       'category_name_SCOTCH WHISKIES', 'category_name_SINGLE MALT SCOTCH',\n",
              "       'category_name_Scotch Whiskies', 'category_name_Single Malt Scotch',\n",
              "       'category_name_Special Order Items',\n",
              "       'category_name_Temporary &  Specialty Packages',\n",
              "       'category_name_Temporary & Specialty Packages', 'pack_1', 'pack_10',\n",
              "       'pack_12', 'pack_2', 'pack_24', 'pack_3', 'pack_4', 'pack_48', 'pack_6',\n",
              "       'pack_8', 'pack_96', 'bottle_volume_ml_100', 'bottle_volume_ml_1000',\n",
              "       'bottle_volume_ml_1200', 'bottle_volume_ml_1500',\n",
              "       'bottle_volume_ml_1750', 'bottle_volume_ml_200',\n",
              "       'bottle_volume_ml_2250', 'bottle_volume_ml_2550',\n",
              "       'bottle_volume_ml_375', 'bottle_volume_ml_400', 'bottle_volume_ml_50',\n",
              "       'bottle_volume_ml_600', 'bottle_volume_ml_603', 'bottle_volume_ml_750',\n",
              "       'bottle_volume_ml_800', 'bottle_volume_ml_850', 'bottle_volume_ml_900',\n",
              "       'count_number', 'district'],\n",
              "      dtype='object')"
            ]
          },
          "metadata": {
            "tags": []
          },
          "execution_count": 12
        }
      ]
    },
    {
      "cell_type": "code",
      "metadata": {
        "colab": {
          "base_uri": "https://localhost:8080/"
        },
        "id": "ldRiSORcqQ4-",
        "outputId": "87e0bafe-6d3b-4f9f-e734-01eda24c83e3"
      },
      "source": [
        "#adding new columns\n",
        "new_df['year'] = pd.DatetimeIndex(new_df['date']).year\n",
        "new_df['month'] = pd.DatetimeIndex(new_df['date']).month\n",
        "new_df['week'] = pd.DatetimeIndex(new_df['date']).week"
      ],
      "execution_count": 13,
      "outputs": [
        {
          "output_type": "stream",
          "text": [
            "/usr/local/lib/python3.7/dist-packages/ipykernel_launcher.py:4: FutureWarning: weekofyear and week have been deprecated, please use DatetimeIndex.isocalendar().week instead, which returns a Series.  To exactly reproduce the behavior of week and weekofyear and return an Index, you may call pd.Int64Index(idx.isocalendar().week)\n",
            "  after removing the cwd from sys.path.\n"
          ],
          "name": "stderr"
        }
      ]
    },
    {
      "cell_type": "code",
      "metadata": {
        "colab": {
          "base_uri": "https://localhost:8080/"
        },
        "id": "3UySrbOI2K3o",
        "outputId": "40917118-d87b-4a07-9f3d-1514215cfbd4"
      },
      "source": [
        "new_df.columns"
      ],
      "execution_count": 14,
      "outputs": [
        {
          "output_type": "execute_result",
          "data": {
            "text/plain": [
              "Index(['date', 'store_number', 'store_name', 'address', 'city', 'zip_code',\n",
              "       'store_location', 'county_number', 'county', 'vendor_number',\n",
              "       'vendor_name', 'item_number', 'item_description', 'state_bottle_cost',\n",
              "       'state_bottle_retail', 'bottles_sold', 'sale_dollars',\n",
              "       'volume_sold_liters', 'volume_sold_gallons', 'category_1012200',\n",
              "       'category_1012210', 'category_1012300', 'category_1022200',\n",
              "       'category_1032000', 'category_1032080', 'category_1032100',\n",
              "       'category_1032200', 'category_1052010', 'category_1052100',\n",
              "       'category_1062050', 'category_1062200', 'category_1082100',\n",
              "       'category_1082900', 'category_1700000', 'category_1701100',\n",
              "       'category_1901200', 'category_name_BARBADOS RUM',\n",
              "       'category_name_DECANTERS & SPECIALTY PACKAGES',\n",
              "       'category_name_IMPORTED GRAPE BRANDIES', 'category_name_IMPORTED VODKA',\n",
              "       'category_name_IMPORTED VODKA - MISC', 'category_name_IRISH WHISKIES',\n",
              "       'category_name_Imported Brandies',\n",
              "       'category_name_Imported Flavored Vodka', 'category_name_Imported Vodka',\n",
              "       'category_name_Imported Vodkas',\n",
              "       'category_name_MISC. IMPORTED CORDIALS & LIQUEURS',\n",
              "       'category_name_PUERTO RICO & VIRGIN ISLANDS RUM',\n",
              "       'category_name_SCOTCH WHISKIES', 'category_name_SINGLE MALT SCOTCH',\n",
              "       'category_name_Scotch Whiskies', 'category_name_Single Malt Scotch',\n",
              "       'category_name_Special Order Items',\n",
              "       'category_name_Temporary &  Specialty Packages',\n",
              "       'category_name_Temporary & Specialty Packages', 'pack_1', 'pack_10',\n",
              "       'pack_12', 'pack_2', 'pack_24', 'pack_3', 'pack_4', 'pack_48', 'pack_6',\n",
              "       'pack_8', 'pack_96', 'bottle_volume_ml_100', 'bottle_volume_ml_1000',\n",
              "       'bottle_volume_ml_1200', 'bottle_volume_ml_1500',\n",
              "       'bottle_volume_ml_1750', 'bottle_volume_ml_200',\n",
              "       'bottle_volume_ml_2250', 'bottle_volume_ml_2550',\n",
              "       'bottle_volume_ml_375', 'bottle_volume_ml_400', 'bottle_volume_ml_50',\n",
              "       'bottle_volume_ml_600', 'bottle_volume_ml_603', 'bottle_volume_ml_750',\n",
              "       'bottle_volume_ml_800', 'bottle_volume_ml_850', 'bottle_volume_ml_900',\n",
              "       'count_number', 'district', 'year', 'month', 'week'],\n",
              "      dtype='object')"
            ]
          },
          "metadata": {
            "tags": []
          },
          "execution_count": 14
        }
      ]
    },
    {
      "cell_type": "code",
      "metadata": {
        "id": "RjrYjoipuTRg"
      },
      "source": [
        "sales_district_year = new_df.groupby(['district','year'])['sale_dollars'].agg('sum')\n",
        "sales_district_month = new_df.groupby(['district','month'])['sale_dollars'].agg('sum')\n",
        "sales_district_week = new_df.groupby(['district','week'])['sale_dollars'].agg('sum')\n",
        "#sales_district.sort_values(ascending=True).head()\n",
        "sales_district_year = sales_district_year.reset_index(level='district')\n",
        "sales_district_month = sales_district_month.reset_index(level='district')\n",
        "sales_district_week = sales_district_week.reset_index(level='district')"
      ],
      "execution_count": 15,
      "outputs": []
    },
    {
      "cell_type": "code",
      "metadata": {
        "colab": {
          "base_uri": "https://localhost:8080/",
          "height": 237
        },
        "id": "sX_JSInPAmwt",
        "outputId": "7625eb83-6771-4516-bd77-ff9c6fb12524"
      },
      "source": [
        "sales_district_week.head()"
      ],
      "execution_count": 16,
      "outputs": [
        {
          "output_type": "execute_result",
          "data": {
            "text/html": [
              "<div>\n",
              "<style scoped>\n",
              "    .dataframe tbody tr th:only-of-type {\n",
              "        vertical-align: middle;\n",
              "    }\n",
              "\n",
              "    .dataframe tbody tr th {\n",
              "        vertical-align: top;\n",
              "    }\n",
              "\n",
              "    .dataframe thead th {\n",
              "        text-align: right;\n",
              "    }\n",
              "</style>\n",
              "<table border=\"1\" class=\"dataframe\">\n",
              "  <thead>\n",
              "    <tr style=\"text-align: right;\">\n",
              "      <th></th>\n",
              "      <th>district</th>\n",
              "      <th>sale_dollars</th>\n",
              "    </tr>\n",
              "    <tr>\n",
              "      <th>week</th>\n",
              "      <th></th>\n",
              "      <th></th>\n",
              "    </tr>\n",
              "  </thead>\n",
              "  <tbody>\n",
              "    <tr>\n",
              "      <th>1</th>\n",
              "      <td>1</td>\n",
              "      <td>5201.05</td>\n",
              "    </tr>\n",
              "    <tr>\n",
              "      <th>2</th>\n",
              "      <td>1</td>\n",
              "      <td>6410.62</td>\n",
              "    </tr>\n",
              "    <tr>\n",
              "      <th>3</th>\n",
              "      <td>1</td>\n",
              "      <td>6130.21</td>\n",
              "    </tr>\n",
              "    <tr>\n",
              "      <th>4</th>\n",
              "      <td>1</td>\n",
              "      <td>6650.12</td>\n",
              "    </tr>\n",
              "    <tr>\n",
              "      <th>5</th>\n",
              "      <td>1</td>\n",
              "      <td>6674.88</td>\n",
              "    </tr>\n",
              "  </tbody>\n",
              "</table>\n",
              "</div>"
            ],
            "text/plain": [
              "     district  sale_dollars\n",
              "week                       \n",
              "1           1       5201.05\n",
              "2           1       6410.62\n",
              "3           1       6130.21\n",
              "4           1       6650.12\n",
              "5           1       6674.88"
            ]
          },
          "metadata": {
            "tags": []
          },
          "execution_count": 16
        }
      ]
    },
    {
      "cell_type": "markdown",
      "metadata": {
        "id": "9mDtvhBsFcfk"
      },
      "source": [
        "Weekly sales throughout a calendar year"
      ]
    },
    {
      "cell_type": "code",
      "metadata": {
        "colab": {
          "base_uri": "https://localhost:8080/",
          "height": 351
        },
        "id": "at4gpGUKpblS",
        "outputId": "df89d1a3-7731-4ee1-bd92-712c3ec2ada5"
      },
      "source": [
        "plt.figure(figsize=(20,5))\n",
        "x = sales_district_week.index\n",
        "y = sales_district_week['sale_dollars']\n",
        "hue = sales_district_week['district']\n",
        "\n",
        "sns.barplot(x=x, y=y)"
      ],
      "execution_count": 17,
      "outputs": [
        {
          "output_type": "execute_result",
          "data": {
            "text/plain": [
              "<matplotlib.axes._subplots.AxesSubplot at 0x7faee8ab1590>"
            ]
          },
          "metadata": {
            "tags": []
          },
          "execution_count": 17
        },
        {
          "output_type": "display_data",
          "data": {
            "image/png": "[encoded data removed]",
            "text/plain": [
              "<Figure size 1440x360 with 1 Axes>"
            ]
          },
          "metadata": {
            "tags": [],
            "needs_background": "light"
          }
        }
      ]
    },
    {
      "cell_type": "code",
      "metadata": {
        "colab": {
          "base_uri": "https://localhost:8080/",
          "height": 237
        },
        "id": "hxmBwq9K35to",
        "outputId": "0f242898-1dd9-4eab-ea63-4cad42fcd353"
      },
      "source": [
        "sales_district_year.head()"
      ],
      "execution_count": 18,
      "outputs": [
        {
          "output_type": "execute_result",
          "data": {
            "text/html": [
              "<div>\n",
              "<style scoped>\n",
              "    .dataframe tbody tr th:only-of-type {\n",
              "        vertical-align: middle;\n",
              "    }\n",
              "\n",
              "    .dataframe tbody tr th {\n",
              "        vertical-align: top;\n",
              "    }\n",
              "\n",
              "    .dataframe thead th {\n",
              "        text-align: right;\n",
              "    }\n",
              "</style>\n",
              "<table border=\"1\" class=\"dataframe\">\n",
              "  <thead>\n",
              "    <tr style=\"text-align: right;\">\n",
              "      <th></th>\n",
              "      <th>district</th>\n",
              "      <th>sale_dollars</th>\n",
              "    </tr>\n",
              "    <tr>\n",
              "      <th>year</th>\n",
              "      <th></th>\n",
              "      <th></th>\n",
              "    </tr>\n",
              "  </thead>\n",
              "  <tbody>\n",
              "    <tr>\n",
              "      <th>2012</th>\n",
              "      <td>1</td>\n",
              "      <td>42745.55</td>\n",
              "    </tr>\n",
              "    <tr>\n",
              "      <th>2013</th>\n",
              "      <td>1</td>\n",
              "      <td>42995.90</td>\n",
              "    </tr>\n",
              "    <tr>\n",
              "      <th>2014</th>\n",
              "      <td>1</td>\n",
              "      <td>45753.00</td>\n",
              "    </tr>\n",
              "    <tr>\n",
              "      <th>2015</th>\n",
              "      <td>1</td>\n",
              "      <td>41908.83</td>\n",
              "    </tr>\n",
              "    <tr>\n",
              "      <th>2016</th>\n",
              "      <td>1</td>\n",
              "      <td>52867.27</td>\n",
              "    </tr>\n",
              "  </tbody>\n",
              "</table>\n",
              "</div>"
            ],
            "text/plain": [
              "     district  sale_dollars\n",
              "year                       \n",
              "2012        1      42745.55\n",
              "2013        1      42995.90\n",
              "2014        1      45753.00\n",
              "2015        1      41908.83\n",
              "2016        1      52867.27"
            ]
          },
          "metadata": {
            "tags": []
          },
          "execution_count": 18
        }
      ]
    },
    {
      "cell_type": "code",
      "metadata": {
        "colab": {
          "base_uri": "https://localhost:8080/",
          "height": 367
        },
        "id": "YsUaPm4isAux",
        "outputId": "1b740879-3423-4cc8-d88d-91e1f266e01b"
      },
      "source": [
        "\n",
        "plt.figure(figsize=(20,5))\n",
        "\n",
        "sns.set_theme(style=\"darkgrid\")\n",
        "x = sales_district_year['district']\n",
        "y = sales_district_year['sale_dollars']\n",
        "hue = sales_district_year.index\n",
        "ax = sns.barplot(y=y, x=x, hue=hue, palette='Blues')\n",
        "\n",
        "ax.set(xlabel='Districts', ylabel='Millions')"
      ],
      "execution_count": 19,
      "outputs": [
        {
          "output_type": "execute_result",
          "data": {
            "text/plain": [
              "[Text(0, 0.5, 'Millions'), Text(0.5, 0, 'Districts')]"
            ]
          },
          "metadata": {
            "tags": []
          },
          "execution_count": 19
        },
        {
          "output_type": "display_data",
          "data": {
            "image/png": "[encoded data removed]",
            "text/plain": [
              "<Figure size 1440x360 with 1 Axes>"
            ]
          },
          "metadata": {
            "tags": [],
            "needs_background": "light"
          }
        }
      ]
    },
    {
      "cell_type": "markdown",
      "metadata": {
        "id": "cJExdmhU9wJe"
      },
      "source": [
        "By plotting sales by ditrict over the years we can see that there is year over year sales growth."
      ]
    },
    {
      "cell_type": "code",
      "metadata": {
        "colab": {
          "base_uri": "https://localhost:8080/",
          "height": 367
        },
        "id": "yajhwmuI8mlF",
        "outputId": "e3edd40a-1c0c-4c2e-d1f2-13a3e2e8e702"
      },
      "source": [
        "plt.figure(figsize=(20,5))\n",
        "\n",
        "sns.set_theme(style=\"darkgrid\")\n",
        "x = sales_district_month['district']\n",
        "y = sales_district_month['sale_dollars']\n",
        "hue = sales_district_month.index\n",
        "ax = sns.barplot(y=y, x=x, hue=hue, palette='Purples')\n",
        "\n",
        "ax.set(xlabel='Districts', ylabel='Millions')"
      ],
      "execution_count": 20,
      "outputs": [
        {
          "output_type": "execute_result",
          "data": {
            "text/plain": [
              "[Text(0, 0.5, 'Millions'), Text(0.5, 0, 'Districts')]"
            ]
          },
          "metadata": {
            "tags": []
          },
          "execution_count": 20
        },
        {
          "output_type": "display_data",
          "data": {
            "image/png": "[encoded data removed]",
            "text/plain": [
              "<Figure size 1440x360 with 1 Axes>"
            ]
          },
          "metadata": {
            "tags": []
          }
        }
      ]
    },
    {
      "cell_type": "markdown",
      "metadata": {
        "id": "CdD6w6QB-AAB"
      },
      "source": [
        "Showing sales by month by distict shows that for some regions there is a seasonal trend"
      ]
    },
    {
      "cell_type": "code",
      "metadata": {
        "id": "PJ6FiH1vbJIY"
      },
      "source": [
        "#Using StandardScaler to normalize my data\n",
        "scaler = StandardScaler()\n",
        "scaler.fit(df_scaled)\n",
        "\n",
        "#joining df_scaled to df_date on their indexes which is \"invoice_and_item_number\"\n",
        "df = df_scaled.join(df_date, lsuffix='_df_scaled', rsuffix='_df_date')\n",
        "\n",
        "#ordering the data by date\n",
        "df = df.sort_values(by='date')\n"
      ],
      "execution_count": 21,
      "outputs": []
    },
    {
      "cell_type": "code",
      "metadata": {
        "id": "i-He9gpxbamR"
      },
      "source": [
        "#establishing what my independent and dependent variable should be\n",
        "X = df.loc[:,df.columns!=\"sale_dollars\"]\n",
        "y = df['sale_dollars']\n",
        "test_size = 0.2\n",
        "date_col = df.date"
      ],
      "execution_count": 22,
      "outputs": []
    },
    {
      "cell_type": "code",
      "metadata": {
        "id": "mNet7sIRbmas"
      },
      "source": [
        "# using train_test_split making sure that my data is not shuffled since it is time series\n",
        "from sklearn.model_selection import train_test_split\n",
        "X_train, X_test, y_train, y_test = train_test_split(X, y,test_size=test_size, shuffle= False)"
      ],
      "execution_count": 23,
      "outputs": []
    },
    {
      "cell_type": "markdown",
      "metadata": {
        "id": "00Ki1CV3jc-i"
      },
      "source": [
        "Now that we have our data training data we can begin applying different models"
      ]
    },
    {
      "cell_type": "markdown",
      "metadata": {
        "id": "cbh0XrkcfVs7"
      },
      "source": [
        "ARIMA Model"
      ]
    },
    {
      "cell_type": "code",
      "metadata": {
        "id": "kJBtHdzmstdp",
        "colab": {
          "base_uri": "https://localhost:8080/",
          "height": 379
        },
        "outputId": "56071b93-f9fd-4a69-ba54-3053198a7a67"
      },
      "source": [
        "# I don not need all of these fields for an ARIMA Model so I going to create a new dataset\n",
        "df.head()\n"
      ],
      "execution_count": 24,
      "outputs": [
        {
          "output_type": "execute_result",
          "data": {
            "text/html": [
              "<div>\n",
              "<style scoped>\n",
              "    .dataframe tbody tr th:only-of-type {\n",
              "        vertical-align: middle;\n",
              "    }\n",
              "\n",
              "    .dataframe tbody tr th {\n",
              "        vertical-align: top;\n",
              "    }\n",
              "\n",
              "    .dataframe thead th {\n",
              "        text-align: right;\n",
              "    }\n",
              "</style>\n",
              "<table border=\"1\" class=\"dataframe\">\n",
              "  <thead>\n",
              "    <tr style=\"text-align: right;\">\n",
              "      <th></th>\n",
              "      <th>state_bottle_cost</th>\n",
              "      <th>state_bottle_retail</th>\n",
              "      <th>bottles_sold</th>\n",
              "      <th>sale_dollars</th>\n",
              "      <th>volume_sold_liters</th>\n",
              "      <th>volume_sold_gallons</th>\n",
              "      <th>category_1012200</th>\n",
              "      <th>category_1012210</th>\n",
              "      <th>category_1012300</th>\n",
              "      <th>category_1022200</th>\n",
              "      <th>category_1032000</th>\n",
              "      <th>category_1032080</th>\n",
              "      <th>category_1032100</th>\n",
              "      <th>category_1032200</th>\n",
              "      <th>category_1052010</th>\n",
              "      <th>category_1052100</th>\n",
              "      <th>category_1062050</th>\n",
              "      <th>category_1062200</th>\n",
              "      <th>category_1082100</th>\n",
              "      <th>category_1082900</th>\n",
              "      <th>category_1700000</th>\n",
              "      <th>category_1701100</th>\n",
              "      <th>category_1901200</th>\n",
              "      <th>category_name_BARBADOS RUM</th>\n",
              "      <th>category_name_DECANTERS &amp; SPECIALTY PACKAGES</th>\n",
              "      <th>category_name_IMPORTED GRAPE BRANDIES</th>\n",
              "      <th>category_name_IMPORTED VODKA</th>\n",
              "      <th>category_name_IMPORTED VODKA - MISC</th>\n",
              "      <th>category_name_IRISH WHISKIES</th>\n",
              "      <th>category_name_Imported Brandies</th>\n",
              "      <th>category_name_Imported Flavored Vodka</th>\n",
              "      <th>category_name_Imported Vodka</th>\n",
              "      <th>category_name_Imported Vodkas</th>\n",
              "      <th>category_name_MISC. IMPORTED CORDIALS &amp; LIQUEURS</th>\n",
              "      <th>category_name_PUERTO RICO &amp; VIRGIN ISLANDS RUM</th>\n",
              "      <th>category_name_SCOTCH WHISKIES</th>\n",
              "      <th>category_name_SINGLE MALT SCOTCH</th>\n",
              "      <th>category_name_Scotch Whiskies</th>\n",
              "      <th>category_name_Single Malt Scotch</th>\n",
              "      <th>category_name_Special Order Items</th>\n",
              "      <th>category_name_Temporary &amp;  Specialty Packages</th>\n",
              "      <th>category_name_Temporary &amp; Specialty Packages</th>\n",
              "      <th>pack_1</th>\n",
              "      <th>pack_10</th>\n",
              "      <th>pack_12</th>\n",
              "      <th>pack_2</th>\n",
              "      <th>pack_24</th>\n",
              "      <th>pack_3</th>\n",
              "      <th>pack_4</th>\n",
              "      <th>pack_48</th>\n",
              "      <th>pack_6</th>\n",
              "      <th>pack_8</th>\n",
              "      <th>pack_96</th>\n",
              "      <th>bottle_volume_ml_100</th>\n",
              "      <th>bottle_volume_ml_1000</th>\n",
              "      <th>bottle_volume_ml_1200</th>\n",
              "      <th>bottle_volume_ml_1500</th>\n",
              "      <th>bottle_volume_ml_1750</th>\n",
              "      <th>bottle_volume_ml_200</th>\n",
              "      <th>bottle_volume_ml_2250</th>\n",
              "      <th>bottle_volume_ml_2550</th>\n",
              "      <th>bottle_volume_ml_375</th>\n",
              "      <th>bottle_volume_ml_400</th>\n",
              "      <th>bottle_volume_ml_50</th>\n",
              "      <th>bottle_volume_ml_600</th>\n",
              "      <th>bottle_volume_ml_603</th>\n",
              "      <th>bottle_volume_ml_750</th>\n",
              "      <th>bottle_volume_ml_800</th>\n",
              "      <th>bottle_volume_ml_850</th>\n",
              "      <th>bottle_volume_ml_900</th>\n",
              "      <th>date</th>\n",
              "    </tr>\n",
              "    <tr>\n",
              "      <th>invoice_and_item_number</th>\n",
              "      <th></th>\n",
              "      <th></th>\n",
              "      <th></th>\n",
              "      <th></th>\n",
              "      <th></th>\n",
              "      <th></th>\n",
              "      <th></th>\n",
              "      <th></th>\n",
              "      <th></th>\n",
              "      <th></th>\n",
              "      <th></th>\n",
              "      <th></th>\n",
              "      <th></th>\n",
              "      <th></th>\n",
              "      <th></th>\n",
              "      <th></th>\n",
              "      <th></th>\n",
              "      <th></th>\n",
              "      <th></th>\n",
              "      <th></th>\n",
              "      <th></th>\n",
              "      <th></th>\n",
              "      <th></th>\n",
              "      <th></th>\n",
              "      <th></th>\n",
              "      <th></th>\n",
              "      <th></th>\n",
              "      <th></th>\n",
              "      <th></th>\n",
              "      <th></th>\n",
              "      <th></th>\n",
              "      <th></th>\n",
              "      <th></th>\n",
              "      <th></th>\n",
              "      <th></th>\n",
              "      <th></th>\n",
              "      <th></th>\n",
              "      <th></th>\n",
              "      <th></th>\n",
              "      <th></th>\n",
              "      <th></th>\n",
              "      <th></th>\n",
              "      <th></th>\n",
              "      <th></th>\n",
              "      <th></th>\n",
              "      <th></th>\n",
              "      <th></th>\n",
              "      <th></th>\n",
              "      <th></th>\n",
              "      <th></th>\n",
              "      <th></th>\n",
              "      <th></th>\n",
              "      <th></th>\n",
              "      <th></th>\n",
              "      <th></th>\n",
              "      <th></th>\n",
              "      <th></th>\n",
              "      <th></th>\n",
              "      <th></th>\n",
              "      <th></th>\n",
              "      <th></th>\n",
              "      <th></th>\n",
              "      <th></th>\n",
              "      <th></th>\n",
              "      <th></th>\n",
              "      <th></th>\n",
              "      <th></th>\n",
              "      <th></th>\n",
              "      <th></th>\n",
              "      <th></th>\n",
              "      <th></th>\n",
              "    </tr>\n",
              "  </thead>\n",
              "  <tbody>\n",
              "    <tr>\n",
              "      <th>S03381400032</th>\n",
              "      <td>23.31</td>\n",
              "      <td>34.96</td>\n",
              "      <td>36</td>\n",
              "      <td>1258.56</td>\n",
              "      <td>27.00</td>\n",
              "      <td>7.13</td>\n",
              "      <td>0</td>\n",
              "      <td>0</td>\n",
              "      <td>0</td>\n",
              "      <td>0</td>\n",
              "      <td>0</td>\n",
              "      <td>0</td>\n",
              "      <td>0</td>\n",
              "      <td>0</td>\n",
              "      <td>0</td>\n",
              "      <td>0</td>\n",
              "      <td>0</td>\n",
              "      <td>0</td>\n",
              "      <td>0</td>\n",
              "      <td>1</td>\n",
              "      <td>0</td>\n",
              "      <td>0</td>\n",
              "      <td>0</td>\n",
              "      <td>0</td>\n",
              "      <td>0</td>\n",
              "      <td>0</td>\n",
              "      <td>0</td>\n",
              "      <td>0</td>\n",
              "      <td>0</td>\n",
              "      <td>0</td>\n",
              "      <td>0</td>\n",
              "      <td>0</td>\n",
              "      <td>0</td>\n",
              "      <td>1</td>\n",
              "      <td>0</td>\n",
              "      <td>0</td>\n",
              "      <td>0</td>\n",
              "      <td>0</td>\n",
              "      <td>0</td>\n",
              "      <td>0</td>\n",
              "      <td>0</td>\n",
              "      <td>0</td>\n",
              "      <td>0</td>\n",
              "      <td>0</td>\n",
              "      <td>1</td>\n",
              "      <td>0</td>\n",
              "      <td>0</td>\n",
              "      <td>0</td>\n",
              "      <td>0</td>\n",
              "      <td>0</td>\n",
              "      <td>0</td>\n",
              "      <td>0</td>\n",
              "      <td>0</td>\n",
              "      <td>0</td>\n",
              "      <td>0</td>\n",
              "      <td>0</td>\n",
              "      <td>0</td>\n",
              "      <td>0</td>\n",
              "      <td>0</td>\n",
              "      <td>0</td>\n",
              "      <td>0</td>\n",
              "      <td>0</td>\n",
              "      <td>0</td>\n",
              "      <td>0</td>\n",
              "      <td>0</td>\n",
              "      <td>0</td>\n",
              "      <td>1</td>\n",
              "      <td>0</td>\n",
              "      <td>0</td>\n",
              "      <td>0</td>\n",
              "      <td>2012-01-03</td>\n",
              "    </tr>\n",
              "    <tr>\n",
              "      <th>S03388500019</th>\n",
              "      <td>17.06</td>\n",
              "      <td>25.59</td>\n",
              "      <td>12</td>\n",
              "      <td>307.08</td>\n",
              "      <td>9.00</td>\n",
              "      <td>2.38</td>\n",
              "      <td>0</td>\n",
              "      <td>0</td>\n",
              "      <td>0</td>\n",
              "      <td>0</td>\n",
              "      <td>0</td>\n",
              "      <td>0</td>\n",
              "      <td>0</td>\n",
              "      <td>0</td>\n",
              "      <td>1</td>\n",
              "      <td>0</td>\n",
              "      <td>0</td>\n",
              "      <td>0</td>\n",
              "      <td>0</td>\n",
              "      <td>0</td>\n",
              "      <td>0</td>\n",
              "      <td>0</td>\n",
              "      <td>0</td>\n",
              "      <td>0</td>\n",
              "      <td>0</td>\n",
              "      <td>1</td>\n",
              "      <td>0</td>\n",
              "      <td>0</td>\n",
              "      <td>0</td>\n",
              "      <td>0</td>\n",
              "      <td>0</td>\n",
              "      <td>0</td>\n",
              "      <td>0</td>\n",
              "      <td>0</td>\n",
              "      <td>0</td>\n",
              "      <td>0</td>\n",
              "      <td>0</td>\n",
              "      <td>0</td>\n",
              "      <td>0</td>\n",
              "      <td>0</td>\n",
              "      <td>0</td>\n",
              "      <td>0</td>\n",
              "      <td>0</td>\n",
              "      <td>0</td>\n",
              "      <td>1</td>\n",
              "      <td>0</td>\n",
              "      <td>0</td>\n",
              "      <td>0</td>\n",
              "      <td>0</td>\n",
              "      <td>0</td>\n",
              "      <td>0</td>\n",
              "      <td>0</td>\n",
              "      <td>0</td>\n",
              "      <td>0</td>\n",
              "      <td>0</td>\n",
              "      <td>0</td>\n",
              "      <td>0</td>\n",
              "      <td>0</td>\n",
              "      <td>0</td>\n",
              "      <td>0</td>\n",
              "      <td>0</td>\n",
              "      <td>0</td>\n",
              "      <td>0</td>\n",
              "      <td>0</td>\n",
              "      <td>0</td>\n",
              "      <td>0</td>\n",
              "      <td>1</td>\n",
              "      <td>0</td>\n",
              "      <td>0</td>\n",
              "      <td>0</td>\n",
              "      <td>2012-01-03</td>\n",
              "    </tr>\n",
              "    <tr>\n",
              "      <th>S03409700050</th>\n",
              "      <td>17.15</td>\n",
              "      <td>25.73</td>\n",
              "      <td>2</td>\n",
              "      <td>51.46</td>\n",
              "      <td>1.50</td>\n",
              "      <td>0.40</td>\n",
              "      <td>0</td>\n",
              "      <td>0</td>\n",
              "      <td>0</td>\n",
              "      <td>0</td>\n",
              "      <td>0</td>\n",
              "      <td>1</td>\n",
              "      <td>0</td>\n",
              "      <td>0</td>\n",
              "      <td>0</td>\n",
              "      <td>0</td>\n",
              "      <td>0</td>\n",
              "      <td>0</td>\n",
              "      <td>0</td>\n",
              "      <td>0</td>\n",
              "      <td>0</td>\n",
              "      <td>0</td>\n",
              "      <td>0</td>\n",
              "      <td>0</td>\n",
              "      <td>0</td>\n",
              "      <td>0</td>\n",
              "      <td>1</td>\n",
              "      <td>0</td>\n",
              "      <td>0</td>\n",
              "      <td>0</td>\n",
              "      <td>0</td>\n",
              "      <td>0</td>\n",
              "      <td>0</td>\n",
              "      <td>0</td>\n",
              "      <td>0</td>\n",
              "      <td>0</td>\n",
              "      <td>0</td>\n",
              "      <td>0</td>\n",
              "      <td>0</td>\n",
              "      <td>0</td>\n",
              "      <td>0</td>\n",
              "      <td>0</td>\n",
              "      <td>0</td>\n",
              "      <td>0</td>\n",
              "      <td>0</td>\n",
              "      <td>0</td>\n",
              "      <td>0</td>\n",
              "      <td>0</td>\n",
              "      <td>0</td>\n",
              "      <td>0</td>\n",
              "      <td>1</td>\n",
              "      <td>0</td>\n",
              "      <td>0</td>\n",
              "      <td>0</td>\n",
              "      <td>0</td>\n",
              "      <td>0</td>\n",
              "      <td>0</td>\n",
              "      <td>0</td>\n",
              "      <td>0</td>\n",
              "      <td>0</td>\n",
              "      <td>0</td>\n",
              "      <td>0</td>\n",
              "      <td>0</td>\n",
              "      <td>0</td>\n",
              "      <td>0</td>\n",
              "      <td>0</td>\n",
              "      <td>1</td>\n",
              "      <td>0</td>\n",
              "      <td>0</td>\n",
              "      <td>0</td>\n",
              "      <td>2012-01-03</td>\n",
              "    </tr>\n",
              "    <tr>\n",
              "      <th>S03393900086</th>\n",
              "      <td>11.49</td>\n",
              "      <td>17.24</td>\n",
              "      <td>1</td>\n",
              "      <td>17.24</td>\n",
              "      <td>0.38</td>\n",
              "      <td>0.10</td>\n",
              "      <td>0</td>\n",
              "      <td>0</td>\n",
              "      <td>0</td>\n",
              "      <td>0</td>\n",
              "      <td>0</td>\n",
              "      <td>0</td>\n",
              "      <td>0</td>\n",
              "      <td>0</td>\n",
              "      <td>1</td>\n",
              "      <td>0</td>\n",
              "      <td>0</td>\n",
              "      <td>0</td>\n",
              "      <td>0</td>\n",
              "      <td>0</td>\n",
              "      <td>0</td>\n",
              "      <td>0</td>\n",
              "      <td>0</td>\n",
              "      <td>0</td>\n",
              "      <td>0</td>\n",
              "      <td>1</td>\n",
              "      <td>0</td>\n",
              "      <td>0</td>\n",
              "      <td>0</td>\n",
              "      <td>0</td>\n",
              "      <td>0</td>\n",
              "      <td>0</td>\n",
              "      <td>0</td>\n",
              "      <td>0</td>\n",
              "      <td>0</td>\n",
              "      <td>0</td>\n",
              "      <td>0</td>\n",
              "      <td>0</td>\n",
              "      <td>0</td>\n",
              "      <td>0</td>\n",
              "      <td>0</td>\n",
              "      <td>0</td>\n",
              "      <td>0</td>\n",
              "      <td>0</td>\n",
              "      <td>1</td>\n",
              "      <td>0</td>\n",
              "      <td>0</td>\n",
              "      <td>0</td>\n",
              "      <td>0</td>\n",
              "      <td>0</td>\n",
              "      <td>0</td>\n",
              "      <td>0</td>\n",
              "      <td>0</td>\n",
              "      <td>0</td>\n",
              "      <td>0</td>\n",
              "      <td>0</td>\n",
              "      <td>0</td>\n",
              "      <td>0</td>\n",
              "      <td>0</td>\n",
              "      <td>0</td>\n",
              "      <td>0</td>\n",
              "      <td>1</td>\n",
              "      <td>0</td>\n",
              "      <td>0</td>\n",
              "      <td>0</td>\n",
              "      <td>0</td>\n",
              "      <td>0</td>\n",
              "      <td>0</td>\n",
              "      <td>0</td>\n",
              "      <td>0</td>\n",
              "      <td>2012-01-03</td>\n",
              "    </tr>\n",
              "    <tr>\n",
              "      <th>S03410400020</th>\n",
              "      <td>17.06</td>\n",
              "      <td>25.59</td>\n",
              "      <td>1</td>\n",
              "      <td>25.59</td>\n",
              "      <td>0.75</td>\n",
              "      <td>0.20</td>\n",
              "      <td>0</td>\n",
              "      <td>0</td>\n",
              "      <td>0</td>\n",
              "      <td>0</td>\n",
              "      <td>0</td>\n",
              "      <td>0</td>\n",
              "      <td>0</td>\n",
              "      <td>0</td>\n",
              "      <td>1</td>\n",
              "      <td>0</td>\n",
              "      <td>0</td>\n",
              "      <td>0</td>\n",
              "      <td>0</td>\n",
              "      <td>0</td>\n",
              "      <td>0</td>\n",
              "      <td>0</td>\n",
              "      <td>0</td>\n",
              "      <td>0</td>\n",
              "      <td>0</td>\n",
              "      <td>1</td>\n",
              "      <td>0</td>\n",
              "      <td>0</td>\n",
              "      <td>0</td>\n",
              "      <td>0</td>\n",
              "      <td>0</td>\n",
              "      <td>0</td>\n",
              "      <td>0</td>\n",
              "      <td>0</td>\n",
              "      <td>0</td>\n",
              "      <td>0</td>\n",
              "      <td>0</td>\n",
              "      <td>0</td>\n",
              "      <td>0</td>\n",
              "      <td>0</td>\n",
              "      <td>0</td>\n",
              "      <td>0</td>\n",
              "      <td>0</td>\n",
              "      <td>0</td>\n",
              "      <td>1</td>\n",
              "      <td>0</td>\n",
              "      <td>0</td>\n",
              "      <td>0</td>\n",
              "      <td>0</td>\n",
              "      <td>0</td>\n",
              "      <td>0</td>\n",
              "      <td>0</td>\n",
              "      <td>0</td>\n",
              "      <td>0</td>\n",
              "      <td>0</td>\n",
              "      <td>0</td>\n",
              "      <td>0</td>\n",
              "      <td>0</td>\n",
              "      <td>0</td>\n",
              "      <td>0</td>\n",
              "      <td>0</td>\n",
              "      <td>0</td>\n",
              "      <td>0</td>\n",
              "      <td>0</td>\n",
              "      <td>0</td>\n",
              "      <td>0</td>\n",
              "      <td>1</td>\n",
              "      <td>0</td>\n",
              "      <td>0</td>\n",
              "      <td>0</td>\n",
              "      <td>2012-01-03</td>\n",
              "    </tr>\n",
              "  </tbody>\n",
              "</table>\n",
              "</div>"
            ],
            "text/plain": [
              "                         state_bottle_cost  ...       date\n",
              "invoice_and_item_number                     ...           \n",
              "S03381400032                         23.31  ... 2012-01-03\n",
              "S03388500019                         17.06  ... 2012-01-03\n",
              "S03409700050                         17.15  ... 2012-01-03\n",
              "S03393900086                         11.49  ... 2012-01-03\n",
              "S03410400020                         17.06  ... 2012-01-03\n",
              "\n",
              "[5 rows x 71 columns]"
            ]
          },
          "metadata": {
            "tags": []
          },
          "execution_count": 24
        }
      ]
    },
    {
      "cell_type": "code",
      "metadata": {
        "colab": {
          "base_uri": "https://localhost:8080/",
          "height": 455
        },
        "id": "2Yffz694rgcX",
        "outputId": "b94355ba-6c14-4f5e-a8ad-c62b36c0ce5f"
      },
      "source": [
        "df_arima = df.reset_index()[['date','sale_dollars','volume_sold_liters']].groupby('date')[['sale_dollars','volume_sold_liters']].sum()\n",
        "\n",
        "df_arima"
      ],
      "execution_count": 27,
      "outputs": [
        {
          "output_type": "execute_result",
          "data": {
            "text/html": [
              "<div>\n",
              "<style scoped>\n",
              "    .dataframe tbody tr th:only-of-type {\n",
              "        vertical-align: middle;\n",
              "    }\n",
              "\n",
              "    .dataframe tbody tr th {\n",
              "        vertical-align: top;\n",
              "    }\n",
              "\n",
              "    .dataframe thead th {\n",
              "        text-align: right;\n",
              "    }\n",
              "</style>\n",
              "<table border=\"1\" class=\"dataframe\">\n",
              "  <thead>\n",
              "    <tr style=\"text-align: right;\">\n",
              "      <th></th>\n",
              "      <th>sale_dollars</th>\n",
              "      <th>volume_sold_liters</th>\n",
              "    </tr>\n",
              "    <tr>\n",
              "      <th>date</th>\n",
              "      <th></th>\n",
              "      <th></th>\n",
              "    </tr>\n",
              "  </thead>\n",
              "  <tbody>\n",
              "    <tr>\n",
              "      <th>2012-01-03</th>\n",
              "      <td>15105.42</td>\n",
              "      <td>403.23</td>\n",
              "    </tr>\n",
              "    <tr>\n",
              "      <th>2012-01-04</th>\n",
              "      <td>8984.70</td>\n",
              "      <td>251.53</td>\n",
              "    </tr>\n",
              "    <tr>\n",
              "      <th>2012-01-05</th>\n",
              "      <td>18980.12</td>\n",
              "      <td>511.03</td>\n",
              "    </tr>\n",
              "    <tr>\n",
              "      <th>2012-01-09</th>\n",
              "      <td>12762.83</td>\n",
              "      <td>341.10</td>\n",
              "    </tr>\n",
              "    <tr>\n",
              "      <th>2012-01-10</th>\n",
              "      <td>8932.77</td>\n",
              "      <td>239.97</td>\n",
              "    </tr>\n",
              "    <tr>\n",
              "      <th>...</th>\n",
              "      <td>...</td>\n",
              "      <td>...</td>\n",
              "    </tr>\n",
              "    <tr>\n",
              "      <th>2020-11-24</th>\n",
              "      <td>64408.16</td>\n",
              "      <td>1486.42</td>\n",
              "    </tr>\n",
              "    <tr>\n",
              "      <th>2020-11-25</th>\n",
              "      <td>14321.38</td>\n",
              "      <td>324.33</td>\n",
              "    </tr>\n",
              "    <tr>\n",
              "      <th>2020-11-27</th>\n",
              "      <td>41238.41</td>\n",
              "      <td>959.99</td>\n",
              "    </tr>\n",
              "    <tr>\n",
              "      <th>2020-11-28</th>\n",
              "      <td>671.39</td>\n",
              "      <td>15.37</td>\n",
              "    </tr>\n",
              "    <tr>\n",
              "      <th>2020-11-30</th>\n",
              "      <td>42990.03</td>\n",
              "      <td>967.34</td>\n",
              "    </tr>\n",
              "  </tbody>\n",
              "</table>\n",
              "<p>2011 rows × 2 columns</p>\n",
              "</div>"
            ],
            "text/plain": [
              "            sale_dollars  volume_sold_liters\n",
              "date                                        \n",
              "2012-01-03      15105.42              403.23\n",
              "2012-01-04       8984.70              251.53\n",
              "2012-01-05      18980.12              511.03\n",
              "2012-01-09      12762.83              341.10\n",
              "2012-01-10       8932.77              239.97\n",
              "...                  ...                 ...\n",
              "2020-11-24      64408.16             1486.42\n",
              "2020-11-25      14321.38              324.33\n",
              "2020-11-27      41238.41              959.99\n",
              "2020-11-28        671.39               15.37\n",
              "2020-11-30      42990.03              967.34\n",
              "\n",
              "[2011 rows x 2 columns]"
            ]
          },
          "metadata": {
            "tags": []
          },
          "execution_count": 27
        }
      ]
    },
    {
      "cell_type": "code",
      "metadata": {
        "colab": {
          "base_uri": "https://localhost:8080/"
        },
        "id": "hK8_axarnU2q",
        "outputId": "7ad1778f-ff34-462c-e388-db084dd27b20"
      },
      "source": [
        "#Testing if my data is trend stationary using the Dicky Fuller Statistical Test\n",
        "from statsmodels.tsa.stattools import adfuller\n",
        "results = adfuller(df_arima['sale_dollars'])\n",
        "print(results)"
      ],
      "execution_count": 29,
      "outputs": [
        {
          "output_type": "stream",
          "text": [
            "(-3.0012966088207875, 0.034773490619154475, 24, 1986, {'1%': -3.4336469649065298, '5%': -2.862996415949189, '10%': -2.5675453345421984}, 42848.40868224585)\n"
          ],
          "name": "stdout"
        }
      ]
    },
    {
      "cell_type": "markdown",
      "metadata": {
        "id": "YlBWVZx8vmUr"
      },
      "source": [
        "Dicky Fuller Test tells us a few things\n",
        "1. There is a high likelyhood that the data is stationary because the test statistic (0th value) of the tuple is negative\n",
        "2. The p value (1st value) of the tuple is less than 0.05 meaning we can safely reject the null hypothesis, reject the notion that the data is not stationary\n",
        "3. The critical values contained within the dictionary within the tuple further support that the data is stationary given that I am using a test statisti of 5%"
      ]
    },
    {
      "cell_type": "code",
      "metadata": {
        "id": "lJOSzYkUAcyS"
      },
      "source": [
        "# using train_test_split making sure that my data is not shuffled since it is time series\n",
        "from sklearn.model_selection import train_test_split\n",
        "X = df_arima.index\n",
        "y= df_arima\n",
        "\n",
        "X_train, X_test, y_train, y_test = train_test_split(X, y,test_size=test_size, shuffle= False)"
      ],
      "execution_count": 30,
      "outputs": []
    },
    {
      "cell_type": "code",
      "metadata": {
        "colab": {
          "base_uri": "https://localhost:8080/",
          "height": 501
        },
        "id": "IMBSLPl6gKQM",
        "outputId": "55e8b32a-325c-4957-e63a-14f4baf50c64"
      },
      "source": [
        "#determine the model order by plotting the acf and pacf\n",
        "from statsmodels.graphics.tsaplots import plot_acf, plot_pacf\n",
        "\n",
        "# Create figure\n",
        "fig, (ax1, ax2) = plt.subplots(2,1, figsize=(12,8))\n",
        "\n",
        "# Plot the ACF of df\n",
        "plot_acf(y_train['sale_dollars'], lags=20, zero=False, ax=ax1)\n",
        "\n",
        "# Plot the PACF of df\n",
        "plot_pacf(y_train['sale_dollars'], lags=20, zero=False, ax=ax2)\n",
        "\n",
        "plt.show()"
      ],
      "execution_count": 60,
      "outputs": [
        {
          "output_type": "display_data",
          "data": {
            "image/png": "[encoded data removed]",
            "text/plain": [
              "<Figure size 864x576 with 2 Axes>"
            ]
          },
          "metadata": {
            "tags": []
          }
        }
      ]
    },
    {
      "cell_type": "code",
      "metadata": {
        "colab": {
          "base_uri": "https://localhost:8080/"
        },
        "id": "wxSbTwLuk1sk",
        "outputId": "dca8862e-1c64-4bcc-afd0-2665369e22a7"
      },
      "source": [
        "# it is not clear what the order model should be so I will be using the aic and bic to determine this\n",
        "# Create empty list to store search results\n",
        "order_aic_bic=[]\n",
        "\n",
        "# Loop over p values from 0-3\n",
        "for p in range(5):\n",
        "  # Loop over q values from 0-3\n",
        "    for q in range(5):\n",
        "      \t# create and fit ARMA(p,q) model\n",
        "        model = SARIMAX(y_train['sale_dollars'], order=(p,0,q))\n",
        "        results = model.fit()\n",
        "\n",
        "        # Append order and results tuple\n",
        "        order_aic_bic.append((p,q,results.aic, results.bic))"
      ],
      "execution_count": 69,
      "outputs": [
        {
          "output_type": "stream",
          "text": [
            "/usr/local/lib/python3.7/dist-packages/statsmodels/tsa/base/tsa_model.py:219: ValueWarning: A date index has been provided, but it has no associated frequency information and so will be ignored when e.g. forecasting.\n",
            "  ' ignored when e.g. forecasting.', ValueWarning)\n",
            "/usr/local/lib/python3.7/dist-packages/statsmodels/tsa/base/tsa_model.py:219: ValueWarning: A date index has been provided, but it has no associated frequency information and so will be ignored when e.g. forecasting.\n",
            "  ' ignored when e.g. forecasting.', ValueWarning)\n",
            "/usr/local/lib/python3.7/dist-packages/statsmodels/tsa/base/tsa_model.py:219: ValueWarning: A date index has been provided, but it has no associated frequency information and so will be ignored when e.g. forecasting.\n",
            "  ' ignored when e.g. forecasting.', ValueWarning)\n",
            "/usr/local/lib/python3.7/dist-packages/statsmodels/tsa/base/tsa_model.py:219: ValueWarning: A date index has been provided, but it has no associated frequency information and so will be ignored when e.g. forecasting.\n",
            "  ' ignored when e.g. forecasting.', ValueWarning)\n",
            "/usr/local/lib/python3.7/dist-packages/statsmodels/tsa/base/tsa_model.py:219: ValueWarning: A date index has been provided, but it has no associated frequency information and so will be ignored when e.g. forecasting.\n",
            "  ' ignored when e.g. forecasting.', ValueWarning)\n",
            "/usr/local/lib/python3.7/dist-packages/statsmodels/tsa/base/tsa_model.py:219: ValueWarning: A date index has been provided, but it has no associated frequency information and so will be ignored when e.g. forecasting.\n",
            "  ' ignored when e.g. forecasting.', ValueWarning)\n",
            "/usr/local/lib/python3.7/dist-packages/statsmodels/tsa/base/tsa_model.py:219: ValueWarning: A date index has been provided, but it has no associated frequency information and so will be ignored when e.g. forecasting.\n",
            "  ' ignored when e.g. forecasting.', ValueWarning)\n",
            "/usr/local/lib/python3.7/dist-packages/statsmodels/tsa/base/tsa_model.py:219: ValueWarning: A date index has been provided, but it has no associated frequency information and so will be ignored when e.g. forecasting.\n",
            "  ' ignored when e.g. forecasting.', ValueWarning)\n",
            "/usr/local/lib/python3.7/dist-packages/statsmodels/tsa/statespace/sarimax.py:949: UserWarning: Non-stationary starting autoregressive parameters found. Using zeros as starting parameters.\n",
            "  warn('Non-stationary starting autoregressive parameters'\n",
            "/usr/local/lib/python3.7/dist-packages/statsmodels/tsa/base/tsa_model.py:219: ValueWarning: A date index has been provided, but it has no associated frequency information and so will be ignored when e.g. forecasting.\n",
            "  ' ignored when e.g. forecasting.', ValueWarning)\n",
            "/usr/local/lib/python3.7/dist-packages/statsmodels/tsa/base/tsa_model.py:219: ValueWarning: A date index has been provided, but it has no associated frequency information and so will be ignored when e.g. forecasting.\n",
            "  ' ignored when e.g. forecasting.', ValueWarning)\n",
            "/usr/local/lib/python3.7/dist-packages/statsmodels/tsa/base/tsa_model.py:219: ValueWarning: A date index has been provided, but it has no associated frequency information and so will be ignored when e.g. forecasting.\n",
            "  ' ignored when e.g. forecasting.', ValueWarning)\n",
            "/usr/local/lib/python3.7/dist-packages/statsmodels/tsa/base/tsa_model.py:219: ValueWarning: A date index has been provided, but it has no associated frequency information and so will be ignored when e.g. forecasting.\n",
            "  ' ignored when e.g. forecasting.', ValueWarning)\n",
            "/usr/local/lib/python3.7/dist-packages/statsmodels/tsa/base/tsa_model.py:219: ValueWarning: A date index has been provided, but it has no associated frequency information and so will be ignored when e.g. forecasting.\n",
            "  ' ignored when e.g. forecasting.', ValueWarning)\n",
            "/usr/local/lib/python3.7/dist-packages/statsmodels/tsa/statespace/sarimax.py:961: UserWarning: Non-invertible starting MA parameters found. Using zeros as starting parameters.\n",
            "  warn('Non-invertible starting MA parameters found.'\n",
            "/usr/local/lib/python3.7/dist-packages/statsmodels/tsa/base/tsa_model.py:219: ValueWarning: A date index has been provided, but it has no associated frequency information and so will be ignored when e.g. forecasting.\n",
            "  ' ignored when e.g. forecasting.', ValueWarning)\n",
            "/usr/local/lib/python3.7/dist-packages/statsmodels/tsa/base/tsa_model.py:219: ValueWarning: A date index has been provided, but it has no associated frequency information and so will be ignored when e.g. forecasting.\n",
            "  ' ignored when e.g. forecasting.', ValueWarning)\n",
            "/usr/local/lib/python3.7/dist-packages/statsmodels/tsa/base/tsa_model.py:219: ValueWarning: A date index has been provided, but it has no associated frequency information and so will be ignored when e.g. forecasting.\n",
            "  ' ignored when e.g. forecasting.', ValueWarning)\n",
            "/usr/local/lib/python3.7/dist-packages/statsmodels/tsa/base/tsa_model.py:219: ValueWarning: A date index has been provided, but it has no associated frequency information and so will be ignored when e.g. forecasting.\n",
            "  ' ignored when e.g. forecasting.', ValueWarning)\n",
            "/usr/local/lib/python3.7/dist-packages/statsmodels/tsa/base/tsa_model.py:219: ValueWarning: A date index has been provided, but it has no associated frequency information and so will be ignored when e.g. forecasting.\n",
            "  ' ignored when e.g. forecasting.', ValueWarning)\n",
            "/usr/local/lib/python3.7/dist-packages/statsmodels/tsa/base/tsa_model.py:219: ValueWarning: A date index has been provided, but it has no associated frequency information and so will be ignored when e.g. forecasting.\n",
            "  ' ignored when e.g. forecasting.', ValueWarning)\n",
            "/usr/local/lib/python3.7/dist-packages/statsmodels/base/model.py:512: ConvergenceWarning: Maximum Likelihood optimization failed to converge. Check mle_retvals\n",
            "  \"Check mle_retvals\", ConvergenceWarning)\n",
            "/usr/local/lib/python3.7/dist-packages/statsmodels/tsa/base/tsa_model.py:219: ValueWarning: A date index has been provided, but it has no associated frequency information and so will be ignored when e.g. forecasting.\n",
            "  ' ignored when e.g. forecasting.', ValueWarning)\n",
            "/usr/local/lib/python3.7/dist-packages/statsmodels/tsa/base/tsa_model.py:219: ValueWarning: A date index has been provided, but it has no associated frequency information and so will be ignored when e.g. forecasting.\n",
            "  ' ignored when e.g. forecasting.', ValueWarning)\n",
            "/usr/local/lib/python3.7/dist-packages/statsmodels/tsa/base/tsa_model.py:219: ValueWarning: A date index has been provided, but it has no associated frequency information and so will be ignored when e.g. forecasting.\n",
            "  ' ignored when e.g. forecasting.', ValueWarning)\n",
            "/usr/local/lib/python3.7/dist-packages/statsmodels/tsa/base/tsa_model.py:219: ValueWarning: A date index has been provided, but it has no associated frequency information and so will be ignored when e.g. forecasting.\n",
            "  ' ignored when e.g. forecasting.', ValueWarning)\n",
            "/usr/local/lib/python3.7/dist-packages/statsmodels/base/model.py:512: ConvergenceWarning: Maximum Likelihood optimization failed to converge. Check mle_retvals\n",
            "  \"Check mle_retvals\", ConvergenceWarning)\n",
            "/usr/local/lib/python3.7/dist-packages/statsmodels/tsa/base/tsa_model.py:219: ValueWarning: A date index has been provided, but it has no associated frequency information and so will be ignored when e.g. forecasting.\n",
            "  ' ignored when e.g. forecasting.', ValueWarning)\n",
            "/usr/local/lib/python3.7/dist-packages/statsmodels/base/model.py:512: ConvergenceWarning: Maximum Likelihood optimization failed to converge. Check mle_retvals\n",
            "  \"Check mle_retvals\", ConvergenceWarning)\n",
            "/usr/local/lib/python3.7/dist-packages/statsmodels/tsa/base/tsa_model.py:219: ValueWarning: A date index has been provided, but it has no associated frequency information and so will be ignored when e.g. forecasting.\n",
            "  ' ignored when e.g. forecasting.', ValueWarning)\n",
            "/usr/local/lib/python3.7/dist-packages/statsmodels/base/model.py:512: ConvergenceWarning: Maximum Likelihood optimization failed to converge. Check mle_retvals\n",
            "  \"Check mle_retvals\", ConvergenceWarning)\n"
          ],
          "name": "stderr"
        }
      ]
    },
    {
      "cell_type": "code",
      "metadata": {
        "colab": {
          "base_uri": "https://localhost:8080/"
        },
        "id": "sylX2bQisTJr",
        "outputId": "02138311-aa13-41a6-c115-2e7f14c99c4d"
      },
      "source": [
        "#For order values that may cause errors\n",
        "# Loop over p values from 0-2\n",
        "for p in range(3):\n",
        "    # Loop over q values from 0-2\n",
        "    for q in range(3):\n",
        "      \n",
        "        try:\n",
        "            # create and fit ARMA(p,q) model\n",
        "            model = SARIMAX(y_train['sale_dollars'], order=(p,0,q))\n",
        "            results = model.fit()\n",
        "            \n",
        "            # Print order and results\n",
        "            print(p, q, results.aic, results.bic)\n",
        "            \n",
        "        except:\n",
        "            print(p, q, None, None)     "
      ],
      "execution_count": 80,
      "outputs": [
        {
          "output_type": "stream",
          "text": [
            "/usr/local/lib/python3.7/dist-packages/statsmodels/tsa/base/tsa_model.py:219: ValueWarning: A date index has been provided, but it has no associated frequency information and so will be ignored when e.g. forecasting.\n",
            "  ' ignored when e.g. forecasting.', ValueWarning)\n",
            "/usr/local/lib/python3.7/dist-packages/statsmodels/tsa/base/tsa_model.py:219: ValueWarning: A date index has been provided, but it has no associated frequency information and so will be ignored when e.g. forecasting.\n",
            "  ' ignored when e.g. forecasting.', ValueWarning)\n",
            "/usr/local/lib/python3.7/dist-packages/statsmodels/tsa/base/tsa_model.py:219: ValueWarning: A date index has been provided, but it has no associated frequency information and so will be ignored when e.g. forecasting.\n",
            "  ' ignored when e.g. forecasting.', ValueWarning)\n"
          ],
          "name": "stderr"
        },
        {
          "output_type": "stream",
          "text": [
            "0 0 37515.11482194797 37520.49756839771\n",
            "0 1 36771.4380701135 36782.203563012976\n",
            "0 2 36481.94690524609 36498.09514459531\n",
            "1 0 35383.12777551754 35393.893268417014\n"
          ],
          "name": "stdout"
        },
        {
          "output_type": "stream",
          "text": [
            "/usr/local/lib/python3.7/dist-packages/statsmodels/tsa/base/tsa_model.py:219: ValueWarning: A date index has been provided, but it has no associated frequency information and so will be ignored when e.g. forecasting.\n",
            "  ' ignored when e.g. forecasting.', ValueWarning)\n",
            "/usr/local/lib/python3.7/dist-packages/statsmodels/tsa/base/tsa_model.py:219: ValueWarning: A date index has been provided, but it has no associated frequency information and so will be ignored when e.g. forecasting.\n",
            "  ' ignored when e.g. forecasting.', ValueWarning)\n"
          ],
          "name": "stderr"
        },
        {
          "output_type": "stream",
          "text": [
            "1 1 34808.0115829221 34824.15982227132\n"
          ],
          "name": "stdout"
        },
        {
          "output_type": "stream",
          "text": [
            "/usr/local/lib/python3.7/dist-packages/statsmodels/tsa/base/tsa_model.py:219: ValueWarning: A date index has been provided, but it has no associated frequency information and so will be ignored when e.g. forecasting.\n",
            "  ' ignored when e.g. forecasting.', ValueWarning)\n",
            "/usr/local/lib/python3.7/dist-packages/statsmodels/tsa/statespace/sarimax.py:949: UserWarning: Non-stationary starting autoregressive parameters found. Using zeros as starting parameters.\n",
            "  warn('Non-stationary starting autoregressive parameters'\n"
          ],
          "name": "stderr"
        },
        {
          "output_type": "stream",
          "text": [
            "1 2 34776.10981656778 34797.64080236674\n",
            "2 0 35052.68299638231 35068.83123573153\n"
          ],
          "name": "stdout"
        },
        {
          "output_type": "stream",
          "text": [
            "/usr/local/lib/python3.7/dist-packages/statsmodels/tsa/base/tsa_model.py:219: ValueWarning: A date index has been provided, but it has no associated frequency information and so will be ignored when e.g. forecasting.\n",
            "  ' ignored when e.g. forecasting.', ValueWarning)\n",
            "/usr/local/lib/python3.7/dist-packages/statsmodels/tsa/base/tsa_model.py:219: ValueWarning: A date index has been provided, but it has no associated frequency information and so will be ignored when e.g. forecasting.\n",
            "  ' ignored when e.g. forecasting.', ValueWarning)\n"
          ],
          "name": "stderr"
        },
        {
          "output_type": "stream",
          "text": [
            "2 1 34756.261591244416 34777.79257704337\n"
          ],
          "name": "stdout"
        },
        {
          "output_type": "stream",
          "text": [
            "/usr/local/lib/python3.7/dist-packages/statsmodels/tsa/base/tsa_model.py:219: ValueWarning: A date index has been provided, but it has no associated frequency information and so will be ignored when e.g. forecasting.\n",
            "  ' ignored when e.g. forecasting.', ValueWarning)\n",
            "/usr/local/lib/python3.7/dist-packages/statsmodels/tsa/statespace/sarimax.py:961: UserWarning: Non-invertible starting MA parameters found. Using zeros as starting parameters.\n",
            "  warn('Non-invertible starting MA parameters found.'\n"
          ],
          "name": "stderr"
        },
        {
          "output_type": "stream",
          "text": [
            "2 2 34797.8149957093 34824.72872795799\n"
          ],
          "name": "stdout"
        }
      ]
    },
    {
      "cell_type": "code",
      "metadata": {
        "colab": {
          "base_uri": "https://localhost:8080/"
        },
        "id": "_ZNlJMqemnSQ",
        "outputId": "96f68557-8d68-4e98-e7e0-c501e84e8f2c"
      },
      "source": [
        "#Make dataframe of model order\n",
        "order_df = pd.DataFrame(order_aic_bic, columns=['p','q','aic','bic'])\n",
        "\n",
        "#sort by aic\n",
        "print(order_df.sort_values('aic').head())\n",
        "\n",
        "#sort by bic\n",
        "print(order_df.sort_values('bic').head())\n",
        "\n",
        "p = 4\n",
        "q = 3\n",
        "\n",
        "#p = order_aic_bic['p'].min('aic')\n",
        "#q = order_aic_bic['q'].min('aic')\n",
        "print('for our model the order value for p is :',p,'q is :',q)"
      ],
      "execution_count": 76,
      "outputs": [
        {
          "output_type": "stream",
          "text": [
            "    p  q           aic           bic\n",
            "23  4  3  34606.735904  34649.797875\n",
            "24  4  4  34610.500424  34658.945142\n",
            "19  3  4  34631.989876  34675.051848\n",
            "18  3  3  34687.135543  34724.814768\n",
            "22  4  2  34713.708455  34751.387681\n",
            "    p  q           aic           bic\n",
            "23  4  3  34606.735904  34649.797875\n",
            "24  4  4  34610.500424  34658.945142\n",
            "19  3  4  34631.989876  34675.051848\n",
            "18  3  3  34687.135543  34724.814768\n",
            "22  4  2  34713.708455  34751.387681\n",
            "for our model the order value for p is : 4 q is : 3\n"
          ],
          "name": "stdout"
        }
      ]
    },
    {
      "cell_type": "code",
      "metadata": {
        "id": "yvydV3UwfVSC",
        "colab": {
          "base_uri": "https://localhost:8080/"
        },
        "outputId": "2c62e757-fafe-4f46-917f-3d86f0c34d00"
      },
      "source": [
        "# Fit an ARMA model to the data\n",
        "model = ARMA(y_train['sale_dollars'], order=(p,q), exog=y_train['volume_sold_liters'])\n",
        "res = model.fit()\n",
        "\n",
        "# Print out summary information on the fit\n",
        "print(res.summary())\n",
        "\n",
        "# Print out the estimate for the constant and for theta\n",
        "print(\"When the true theta=-0.9, the estimate of theta (and the constant) are:\")\n",
        "print(res.params)"
      ],
      "execution_count": 77,
      "outputs": [
        {
          "output_type": "stream",
          "text": [
            "/usr/local/lib/python3.7/dist-packages/statsmodels/tsa/base/tsa_model.py:219: ValueWarning: A date index has been provided, but it has no associated frequency information and so will be ignored when e.g. forecasting.\n",
            "  ' ignored when e.g. forecasting.', ValueWarning)\n",
            "/usr/local/lib/python3.7/dist-packages/statsmodels/base/model.py:512: ConvergenceWarning: Maximum Likelihood optimization failed to converge. Check mle_retvals\n",
            "  \"Check mle_retvals\", ConvergenceWarning)\n"
          ],
          "name": "stderr"
        },
        {
          "output_type": "stream",
          "text": [
            "                              ARMA Model Results                              \n",
            "==============================================================================\n",
            "Dep. Variable:           sale_dollars   No. Observations:                 1608\n",
            "Model:                     ARMA(4, 3)   Log Likelihood              -13856.692\n",
            "Method:                       css-mle   S.D. of innovations           1330.955\n",
            "Date:                Fri, 06 Aug 2021   AIC                          27733.384\n",
            "Time:                        13:33:07   BIC                          27787.212\n",
            "Sample:                             0   HQIC                         27753.367\n",
            "                                                                              \n",
            "======================================================================================\n",
            "                         coef    std err          z      P>|z|      [0.025      0.975]\n",
            "--------------------------------------------------------------------------------------\n",
            "const               -383.0937      1.101   -348.098      0.000    -385.251    -380.937\n",
            "volume_sold_liters    40.5702      0.117    348.098      0.000      40.342      40.799\n",
            "ar.L1.sale_dollars     0.4224   3.46e-06   1.22e+05      0.000       0.422       0.422\n",
            "ar.L2.sale_dollars    -0.0183   5.16e-07  -3.55e+04      0.000      -0.018      -0.018\n",
            "ar.L3.sale_dollars     0.7089   1.68e-06   4.22e+05      0.000       0.709       0.709\n",
            "ar.L4.sale_dollars    -0.1130   8.75e-07  -1.29e+05      0.000      -0.113      -0.113\n",
            "ma.L1.sale_dollars    -0.2039      0.015    -13.207      0.000      -0.234      -0.174\n",
            "ma.L2.sale_dollars     0.0708      0.016      4.335      0.000       0.039       0.103\n",
            "ma.L3.sale_dollars    -0.7879      0.016    -49.428      0.000      -0.819      -0.757\n",
            "                                    Roots                                    \n",
            "=============================================================================\n",
            "                  Real          Imaginary           Modulus         Frequency\n",
            "-----------------------------------------------------------------------------\n",
            "AR.1            1.0000           -0.0000j            1.0000           -0.0000\n",
            "AR.2           -0.5165           -1.0660j            1.1846           -0.3218\n",
            "AR.3           -0.5165           +1.0660j            1.1846            0.3218\n",
            "AR.4            6.3049           -0.0000j            6.3049           -0.0000\n",
            "MA.1            1.0316           -0.0000j            1.0316           -0.0000\n",
            "MA.2           -0.4709           -1.0043j            1.1092           -0.3198\n",
            "MA.3           -0.4709           +1.0043j            1.1092            0.3198\n",
            "-----------------------------------------------------------------------------\n",
            "When the true theta=-0.9, the estimate of theta (and the constant) are:\n",
            "const                -383.093683\n",
            "volume_sold_liters     40.570200\n",
            "ar.L1.sale_dollars      0.422416\n",
            "ar.L2.sale_dollars     -0.018313\n",
            "ar.L3.sale_dollars      0.708931\n",
            "ar.L4.sale_dollars     -0.113034\n",
            "ma.L1.sale_dollars     -0.203933\n",
            "ma.L2.sale_dollars      0.070775\n",
            "ma.L3.sale_dollars     -0.787948\n",
            "dtype: float64\n"
          ],
          "name": "stdout"
        }
      ]
    },
    {
      "cell_type": "code",
      "metadata": {
        "colab": {
          "base_uri": "https://localhost:8080/"
        },
        "id": "i6vDZt8XhA_E",
        "outputId": "e96d7413-56ba-425f-a6fe-d0d6ed0bd4f3"
      },
      "source": [
        "from statsmodels.tsa.statespace.sarimax import SARIMAX\n",
        "# Fit an SARIMA model to the data\n",
        "model = SARIMAX(y_train['sale_dollars'], order=(p,0,q), trend = 'c')\n",
        "                #,exog=y_train['volume_sold_liters'])\n",
        "results = model.fit()\n",
        "\n",
        "# Print out summary information on the fit\n",
        "print(results.summary())\n",
        "\n",
        "# Print out the estimate for the constant and for theta\n",
        "print(\"When the true theta=-0.9, the estimate of theta (and the constant) are:\")\n",
        "print(results.params)\n",
        "\n"
      ],
      "execution_count": 78,
      "outputs": [
        {
          "output_type": "stream",
          "text": [
            "/usr/local/lib/python3.7/dist-packages/statsmodels/tsa/base/tsa_model.py:219: ValueWarning: A date index has been provided, but it has no associated frequency information and so will be ignored when e.g. forecasting.\n",
            "  ' ignored when e.g. forecasting.', ValueWarning)\n"
          ],
          "name": "stderr"
        },
        {
          "output_type": "stream",
          "text": [
            "                           Statespace Model Results                           \n",
            "==============================================================================\n",
            "Dep. Variable:           sale_dollars   No. Observations:                 1608\n",
            "Model:               SARIMAX(4, 0, 3)   Log Likelihood              -17322.519\n",
            "Date:                Fri, 06 Aug 2021   AIC                          34663.038\n",
            "Time:                        13:33:10   BIC                          34711.483\n",
            "Sample:                             0   HQIC                         34681.023\n",
            "                               - 1608                                         \n",
            "Covariance Type:                  opg                                         \n",
            "==============================================================================\n",
            "                 coef    std err          z      P>|z|      [0.025      0.975]\n",
            "------------------------------------------------------------------------------\n",
            "intercept   9024.4336   1782.275      5.063      0.000    5531.239    1.25e+04\n",
            "ar.L1          0.4964      0.056      8.797      0.000       0.386       0.607\n",
            "ar.L2         -0.4618      0.060     -7.714      0.000      -0.579      -0.344\n",
            "ar.L3          0.4337      0.061      7.160      0.000       0.315       0.552\n",
            "ar.L4          0.1729      0.031      5.503      0.000       0.111       0.234\n",
            "ma.L1         -0.2623      0.053     -4.974      0.000      -0.366      -0.159\n",
            "ma.L2          0.6230      0.053     11.650      0.000       0.518       0.728\n",
            "ma.L3         -0.4265      0.056     -7.601      0.000      -0.536      -0.317\n",
            "sigma2      1.361e+08      0.272   5.01e+08      0.000    1.36e+08    1.36e+08\n",
            "===================================================================================\n",
            "Ljung-Box (Q):                      428.33   Jarque-Bera (JB):              1178.14\n",
            "Prob(Q):                              0.00   Prob(JB):                         0.00\n",
            "Heteroskedasticity (H):               2.59   Skew:                             0.89\n",
            "Prob(H) (two-sided):                  0.00   Kurtosis:                         6.80\n",
            "===================================================================================\n",
            "\n",
            "Warnings:\n",
            "[1] Covariance matrix calculated using the outer product of gradients (complex-step).\n",
            "[2] Covariance matrix is singular or near-singular, with condition number 7.25e+23. Standard errors may be unstable.\n",
            "When the true theta=-0.9, the estimate of theta (and the constant) are:\n",
            "intercept    9.024434e+03\n",
            "ar.L1        4.964370e-01\n",
            "ar.L2       -4.618080e-01\n",
            "ar.L3        4.336727e-01\n",
            "ar.L4        1.728668e-01\n",
            "ma.L1       -2.622929e-01\n",
            "ma.L2        6.230491e-01\n",
            "ma.L3       -4.264869e-01\n",
            "sigma2       1.361133e+08\n",
            "dtype: float64\n"
          ],
          "name": "stdout"
        }
      ]
    },
    {
      "cell_type": "code",
      "metadata": {
        "colab": {
          "base_uri": "https://localhost:8080/",
          "height": 268
        },
        "id": "MjqwCdEwjPjF",
        "outputId": "ca3c27b1-69d9-4116-fd2d-a9deb2e879dc"
      },
      "source": [
        "# make an insample prediction of last 30 days\n",
        "forecast = results.get_prediction(start=-30)\n",
        "mean_forecast = forecast.predicted_mean\n",
        "confidence_intervals = forecast.conf_int()\n",
        "#print(confidence_intervals)\n",
        "lower_limits = confidence_intervals.loc[:,'lower sale_dollars']\n",
        "upper_limits = confidence_intervals.loc[:,'upper sale_dollars']\n",
        "\n",
        "#plot values\n",
        "plt.figure()\n",
        "#plt.plot(y_train.index, y_train['sale_dollars'])\n",
        "#plot prediction\n",
        "\n",
        "plt.plot(mean_forecast.index,mean_forecast.values, color ='red',label='forecast')\n",
        "\n",
        "#fill uncertainty area\n",
        "plt.fill_between(lower_limits.index, lower_limits, upper_limits, color='pink')\n",
        "plt.show()"
      ],
      "execution_count": 54,
      "outputs": [
        {
          "output_type": "display_data",
          "data": {
            "image/png": "[encoded data removed]",
            "text/plain": [
              "<Figure size 432x288 with 1 Axes>"
            ]
          },
          "metadata": {
            "tags": []
          }
        }
      ]
    },
    {
      "cell_type": "code",
      "metadata": {
        "colab": {
          "base_uri": "https://localhost:8080/",
          "height": 303
        },
        "id": "KoZ3ifKxkXMS",
        "outputId": "d1578d7a-eae8-4aeb-cf10-d922870a94ff"
      },
      "source": [
        "#Creating a 30 day forecast\n",
        "forecast =results.get_forecast(steps=30)\n",
        "mean_forecast = forecast.predicted_mean\n",
        "confidence_intervals = forecast.conf_int()\n",
        "lower_limits = confidence_intervals.loc[:,'lower sale_dollars']\n",
        "upper_limits = confidence_intervals.loc[:,'upper sale_dollars']\n",
        "\n",
        "#plot prediction\n",
        "plt.figure()\n",
        "plt.plot(mean_forecast.index,mean_forecast.values, color ='purple',label='forecast')\n",
        "\n",
        "#fill uncertainty area\n",
        "plt.fill_between(lower_limits.index, lower_limits, upper_limits, color='blue')\n",
        "plt.show()"
      ],
      "execution_count": 79,
      "outputs": [
        {
          "output_type": "stream",
          "text": [
            "/usr/local/lib/python3.7/dist-packages/statsmodels/tsa/base/tsa_model.py:576: ValueWarning: No supported index is available. Prediction results will be given with an integer index beginning at `start`.\n",
            "  ValueWarning)\n"
          ],
          "name": "stderr"
        },
        {
          "output_type": "display_data",
          "data": {
            "image/png": "[encoded data removed]",
            "text/plain": [
              "<Figure size 432x288 with 1 Axes>"
            ]
          },
          "metadata": {
            "tags": []
          }
        }
      ]
    },
    {
      "cell_type": "code",
      "metadata": {
        "colab": {
          "base_uri": "https://localhost:8080/",
          "height": 417
        },
        "id": "RQ7dIh2nt1JE",
        "outputId": "c9bb6a3c-45b7-47c5-b67f-bcdf9c38b5f6"
      },
      "source": [
        "#verifying model performance\n",
        "# Fit model\n",
        "import numpy as np\n",
        "\n",
        "model = SARIMAX(y_train['sale_dollars'], order=(p,0,q))\n",
        "results = model.fit()\n",
        "\n",
        "# Calculate the mean absolute error from residuals\n",
        "mae = np.mean(np.abs(results.resid))\n",
        "\n",
        "# Print mean absolute error\n",
        "print(mae)\n",
        "\n",
        "# Make plot of time series for comparison\n",
        "y_train['sale_dollars'].plot()\n",
        "plt.show()"
      ],
      "execution_count": 82,
      "outputs": [
        {
          "output_type": "stream",
          "text": [
            "/usr/local/lib/python3.7/dist-packages/statsmodels/tsa/base/tsa_model.py:219: ValueWarning: A date index has been provided, but it has no associated frequency information and so will be ignored when e.g. forecasting.\n",
            "  ' ignored when e.g. forecasting.', ValueWarning)\n",
            "/usr/local/lib/python3.7/dist-packages/statsmodels/tsa/statespace/sarimax.py:949: UserWarning: Non-stationary starting autoregressive parameters found. Using zeros as starting parameters.\n",
            "  warn('Non-stationary starting autoregressive parameters'\n",
            "/usr/local/lib/python3.7/dist-packages/statsmodels/tsa/statespace/sarimax.py:961: UserWarning: Non-invertible starting MA parameters found. Using zeros as starting parameters.\n",
            "  warn('Non-invertible starting MA parameters found.'\n"
          ],
          "name": "stderr"
        },
        {
          "output_type": "stream",
          "text": [
            "8780.935879006476\n"
          ],
          "name": "stdout"
        },
        {
          "output_type": "display_data",
          "data": {
            "image/png": "[encoded data removed]",
            "text/plain": [
              "<Figure size 432x288 with 1 Axes>"
            ]
          },
          "metadata": {
            "tags": []
          }
        }
      ]
    },
    {
      "cell_type": "code",
      "metadata": {
        "colab": {
          "base_uri": "https://localhost:8080/",
          "height": 654
        },
        "id": "9xWvSEjqug55",
        "outputId": "303716dd-0964-4fce-f7d6-4b313290e49a"
      },
      "source": [
        "results.plot_diagnostics()\n",
        "\n",
        "import matplotlib.pyplot as plt\n",
        "fig = plt.gcf()\n",
        "fig.set_size_inches(18.5, 10.5)\n",
        "plt.show()\n"
      ],
      "execution_count": 86,
      "outputs": [
        {
          "output_type": "display_data",
          "data": {
            "image/png": "[encoded data removed]",
            "text/plain": [
              "<Figure size 1332x756 with 4 Axes>"
            ]
          },
          "metadata": {
            "tags": []
          }
        }
      ]
    }
  ]
}