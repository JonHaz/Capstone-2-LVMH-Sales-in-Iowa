{
  "nbformat": 4,
  "nbformat_minor": 0,
  "metadata": {
    "colab": {
      "name": "LVMH Capstone Two - Modeling",
      "provenance": [],
      "mount_file_id": "1m9Gcr1SUo1XvEbGjsJSsEkU5UUr4cNRn",
      "authorship_tag": "ABX9TyNxUPtS/utwTpNJzXazAgG8",
      "include_colab_link": true
    },
    "kernelspec": {
      "name": "python3",
      "display_name": "Python 3"
    },
    "language_info": {
      "name": "python"
    }
  },
  "cells": [
    {
      "cell_type": "markdown",
      "metadata": {
        "id": "view-in-github",
        "colab_type": "text"
      },
      "source": [
        "<a href=\"https://colab.research.google.com/github/JonHaz/Capstone-2-LVMH-Sales-in-Iowa/blob/main/LVMH_Capstone_Two_Modeling.ipynb\" target=\"_parent\"><img src=\"https://colab.research.google.com/assets/colab-badge.svg\" alt=\"Open In Colab\"/></a>"
      ]
    },
    {
      "cell_type": "markdown",
      "metadata": {
        "id": "VwmZqIj0aZ41"
      },
      "source": [
        "In this notebook I will be testing out different machine learning models to predict sales\n",
        "\n",
        "*   ARIMA\n",
        "*   Linear Regression\n",
        "*   Random Forest Regression\n",
        "*   XGBoost\n",
        "*   Long Short Term Memory\n",
        "\n",
        "My game plan is to\n",
        "\n",
        "\n",
        "*   split the data into train and test\n",
        "*   create a pipeline\n",
        "*   perform 5 fold cross validation\n",
        "*   use gradient boosting to determine what learning rate has the best accuracy\n",
        "*   Random Search to determine what is a good enough parameter"
      ]
    },
    {
      "cell_type": "markdown",
      "metadata": {
        "id": "iHTaXV3FLXJD"
      },
      "source": [
        "Limit the number of unique values in my dataset by grouping them\n",
        "\n",
        "Replace a category with the average "
      ]
    },
    {
      "cell_type": "code",
      "metadata": {
        "id": "Qt41gVgqaNoM",
        "colab": {
          "base_uri": "https://localhost:8080/"
        },
        "outputId": "d31f776f-ee83-4611-f73a-42162ca2bc92"
      },
      "source": [
        "#Packages I will be using\n",
        "import pandas as pd\n",
        "from datetime import datetime, timedelta\n",
        "from scipy import stats\n",
        "\n",
        "import matplotlib.pyplot as plt\n",
        "import seaborn as sns\n",
        "\n",
        "from sklearn.preprocessing import StandardScaler\n",
        "from sklearn.datasets import make_classification\n",
        "from sklearn.model_selection import train_test_split\n",
        "from sklearn.pipeline import Pipeline\n",
        "from sklearn.model_selection import cross_val_score\n",
        "\n",
        "from statsmodels.tsa.arima_model import ARMA\n",
        "from sklearn.metrics import mean_squared_error\n",
        "\n",
        "from sklearn.linear_model import Ridge\n",
        "from sklearn.preprocessing import PolynomialFeatures\n",
        "#https://github.com/srpraveen97/Electrical_Demand_Toronto/blob/main/Jupyter%20Notebooks/LinearModel_TimeSeries.ipynb\n",
        "\n",
        "from sklearn.model_selection import cross_val_score\n",
        "from sklearn.ensemble import RandomForestClassifier"
      ],
      "execution_count": 1,
      "outputs": [
        {
          "output_type": "stream",
          "text": [
            "/usr/local/lib/python3.7/dist-packages/statsmodels/tools/_testing.py:19: FutureWarning: pandas.util.testing is deprecated. Use the functions in the public API at pandas.testing instead.\n",
            "  import pandas.util.testing as tm\n"
          ],
          "name": "stderr"
        }
      ]
    },
    {
      "cell_type": "code",
      "metadata": {
        "id": "HSsa7uYSapp0",
        "colab": {
          "base_uri": "https://localhost:8080/"
        },
        "outputId": "37eeafcc-d380-41a5-d33b-3c463c70412a"
      },
      "source": [
        "# I am establishing a connection to my Sandbox within BigQuery so that I can run SQL queries to interact with the data here within Google Collab\n",
        "from google.colab import auth\n",
        "auth.authenticate_user()\n",
        "print('Authenticated')\n"
      ],
      "execution_count": 3,
      "outputs": [
        {
          "output_type": "stream",
          "text": [
            "Authenticated\n"
          ],
          "name": "stdout"
        }
      ]
    },
    {
      "cell_type": "code",
      "metadata": {
        "id": "xbrj131xa3je"
      },
      "source": [
        "# Save output in a variable `df`\n",
        "%%bigquery --project storied-sound-253213 df\n",
        "SELECT *\n",
        "FROM `bigquery-public-data.iowa_liquor_sales.sales`\n",
        "WHERE vendor_number = '420'"
      ],
      "execution_count": 4,
      "outputs": []
    },
    {
      "cell_type": "code",
      "metadata": {
        "colab": {
          "base_uri": "https://localhost:8080/"
        },
        "id": "jPsjJojmJpmQ",
        "outputId": "b2c26d35-4e1c-4691-9890-d818545a355f"
      },
      "source": [
        "df.nunique()"
      ],
      "execution_count": 5,
      "outputs": [
        {
          "output_type": "execute_result",
          "data": {
            "text/plain": [
              "invoice_and_item_number    260666\n",
              "date                         2011\n",
              "store_number                 2185\n",
              "store_name                   2314\n",
              "address                      3183\n",
              "city                          722\n",
              "zip_code                      452\n",
              "store_location               1772\n",
              "county_number                 108\n",
              "county                        199\n",
              "category                       17\n",
              "category_name                  19\n",
              "vendor_number                   1\n",
              "vendor_name                     2\n",
              "item_number                   181\n",
              "item_description              166\n",
              "pack                           11\n",
              "bottle_volume_ml               17\n",
              "state_bottle_cost             174\n",
              "state_bottle_retail           179\n",
              "bottles_sold                   97\n",
              "sale_dollars                 1859\n",
              "volume_sold_liters            210\n",
              "volume_sold_gallons           253\n",
              "dtype: int64"
            ]
          },
          "metadata": {
            "tags": []
          },
          "execution_count": 5
        }
      ]
    },
    {
      "cell_type": "code",
      "metadata": {
        "id": "gMz0XcD0a4ko"
      },
      "source": [
        "#applying a little data cleaning\n",
        "#changing data types for 'date', 'pack', 'bottle_volume_ml'\n",
        "df['date'] = pd.to_datetime(df['date'])\n",
        "add_cat = ['pack', 'bottle_volume_ml']\n",
        "df[add_cat] = df[add_cat].astype(str)\n",
        "#removing fields that are unique identifiers, are redundant, or have more than 100 unique options\n",
        "# ['invoice_and_item_number' , 'vendor_number','vendor_name', 'store_name', 'address','item_description', 'item_number', 'store_number', 'city', 'zip_code', 'store_location', 'county_number', 'county']\n",
        "remove_cat = ['invoice_and_item_number' , 'vendor_number','vendor_name', 'store_name', 'address','item_description', 'item_number', 'store_number', 'city', 'zip_code', 'store_location', 'county_number', 'county']\n",
        "df_cat = df.drop(columns=remove_cat)"
      ],
      "execution_count": 6,
      "outputs": []
    },
    {
      "cell_type": "code",
      "metadata": {
        "id": "A7SQSwKma-8Q"
      },
      "source": [
        "# select object type columns\n",
        "dfo=df_cat.select_dtypes(include=['object']) \n",
        "df = pd.concat([df.drop(dfo, axis=1), pd.get_dummies(dfo)], axis=1)"
      ],
      "execution_count": 7,
      "outputs": []
    },
    {
      "cell_type": "code",
      "metadata": {
        "id": "oGPRorx-bDFL"
      },
      "source": [
        "# lets move the field 'invoice_and_item_number' to the index\n",
        "df = df.set_index('invoice_and_item_number')\n",
        "\n",
        "# creating a series of dates\n",
        "df_date = df['date']\n",
        "\n",
        "# dropping columns so that the data can be scaled\n",
        "cat = ['date','store_number',\t'store_name',\t'address',\t'city',\t'zip_code',\t'store_location',\t'county_number',\t'county',\t'vendor_number',\t'vendor_name',\t'item_number',\t'item_description']\n",
        "df_scaled = df.drop(columns=cat)"
      ],
      "execution_count": 8,
      "outputs": []
    },
    {
      "cell_type": "code",
      "metadata": {
        "colab": {
          "base_uri": "https://localhost:8080/"
        },
        "id": "fu27mGcHUjt7",
        "outputId": "6e388700-713e-41d0-a2c3-f392bab3d34d"
      },
      "source": [
        "print(df.nunique())\n",
        "print(df['county_number'].unique())"
      ],
      "execution_count": 9,
      "outputs": [
        {
          "output_type": "stream",
          "text": [
            "date                    2011\n",
            "store_number            2185\n",
            "store_name              2314\n",
            "address                 3183\n",
            "city                     722\n",
            "                        ... \n",
            "bottle_volume_ml_603       2\n",
            "bottle_volume_ml_750       2\n",
            "bottle_volume_ml_800       2\n",
            "bottle_volume_ml_850       2\n",
            "bottle_volume_ml_900       2\n",
            "Length: 83, dtype: int64\n",
            "['07' '52' '77' '57' '8' '86' '90' '97' '71' '67' '70' '94' '51' '85' '17'\n",
            " '79' '31' '11' '63' '75' '82' None '44' '42' '30' '73' '9' '56' '88' '25'\n",
            " '08' '48' '91' '78' '50' '92' '45' '7' '14' '93' '29' '21' '62' '23' '6'\n",
            " '95' '64' '34' '33' '47' '40' '04' '96' '43' '24' '09' '83' '69' '55'\n",
            " '20' '84' '3' '4' '58' '98' '10' '22' '32' '53' '59' '61' '60' '15' '65'\n",
            " '18' '49' '74' '28' '68' '02' '16' '5' '46' '99' '03' '27' '37' '06' '19'\n",
            " '66' '35' '87' '81' '54' '72' '13' '76' '38' '01' '05' '12' '39' '41'\n",
            " '36' '80' '89' '1' '2' '26']\n"
          ],
          "name": "stdout"
        }
      ]
    },
    {
      "cell_type": "code",
      "metadata": {
        "id": "oSxkIaJnlnjc"
      },
      "source": [
        "# I created a lookup table in Google Sheets that grouped county number by district per the Iowa Department of Transportation\n",
        "# I am importing that googlesheet and creating a dataframe\n",
        "\n",
        "!pip install --upgrade -q gspread\n",
        "\n",
        "import gspread\n",
        "import pandas as pd\n",
        "from google.colab import auth\n",
        "from oauth2client.client import GoogleCredentials\n",
        "\n",
        "auth.authenticate_user()\n",
        "gc = gspread.authorize(GoogleCredentials.get_application_default())\n",
        "\n",
        "worksheet = gc.open('Districts Iowa Department of Transportation').sheet1\n",
        "rows = worksheet.get_all_values()\n",
        "district = pd.DataFrame.from_records(rows)"
      ],
      "execution_count": 10,
      "outputs": []
    },
    {
      "cell_type": "code",
      "metadata": {
        "colab": {
          "base_uri": "https://localhost:8080/",
          "height": 204
        },
        "id": "qmNH1XHpkWoE",
        "outputId": "1782a891-8942-4e7d-f160-145098e7ebcf"
      },
      "source": [
        "#formatting the new data frame\n",
        "column = ['count_number', 'district']\n",
        "district.set_axis(column, axis=1, inplace=True)\n",
        "district = district.drop(0)\n",
        "district.head()"
      ],
      "execution_count": 11,
      "outputs": [
        {
          "output_type": "execute_result",
          "data": {
            "text/html": [
              "<div>\n",
              "<style scoped>\n",
              "    .dataframe tbody tr th:only-of-type {\n",
              "        vertical-align: middle;\n",
              "    }\n",
              "\n",
              "    .dataframe tbody tr th {\n",
              "        vertical-align: top;\n",
              "    }\n",
              "\n",
              "    .dataframe thead th {\n",
              "        text-align: right;\n",
              "    }\n",
              "</style>\n",
              "<table border=\"1\" class=\"dataframe\">\n",
              "  <thead>\n",
              "    <tr style=\"text-align: right;\">\n",
              "      <th></th>\n",
              "      <th>count_number</th>\n",
              "      <th>district</th>\n",
              "    </tr>\n",
              "  </thead>\n",
              "  <tbody>\n",
              "    <tr>\n",
              "      <th>1</th>\n",
              "      <td>1</td>\n",
              "      <td>3</td>\n",
              "    </tr>\n",
              "    <tr>\n",
              "      <th>2</th>\n",
              "      <td>2</td>\n",
              "      <td>3</td>\n",
              "    </tr>\n",
              "    <tr>\n",
              "      <th>3</th>\n",
              "      <td>3</td>\n",
              "      <td>3</td>\n",
              "    </tr>\n",
              "    <tr>\n",
              "      <th>4</th>\n",
              "      <td>4</td>\n",
              "      <td>3</td>\n",
              "    </tr>\n",
              "    <tr>\n",
              "      <th>5</th>\n",
              "      <td>5</td>\n",
              "      <td>2</td>\n",
              "    </tr>\n",
              "  </tbody>\n",
              "</table>\n",
              "</div>"
            ],
            "text/plain": [
              "  count_number district\n",
              "1            1        3\n",
              "2            2        3\n",
              "3            3        3\n",
              "4            4        3\n",
              "5            5        2"
            ]
          },
          "metadata": {
            "tags": []
          },
          "execution_count": 11
        }
      ]
    },
    {
      "cell_type": "code",
      "metadata": {
        "colab": {
          "base_uri": "https://localhost:8080/"
        },
        "id": "bwMySydkolCx",
        "outputId": "a94e5b89-bf89-49ae-9b31-d3c263af5f2a"
      },
      "source": [
        "#merged the district df with my existing df\n",
        "new_df =df.merge(district,left_on='county_number', right_on='count_number')\n",
        "\n",
        "new_df.columns"
      ],
      "execution_count": 12,
      "outputs": [
        {
          "output_type": "execute_result",
          "data": {
            "text/plain": [
              "Index(['date', 'store_number', 'store_name', 'address', 'city', 'zip_code',\n",
              "       'store_location', 'county_number', 'county', 'vendor_number',\n",
              "       'vendor_name', 'item_number', 'item_description', 'state_bottle_cost',\n",
              "       'state_bottle_retail', 'bottles_sold', 'sale_dollars',\n",
              "       'volume_sold_liters', 'volume_sold_gallons', 'category_1012200',\n",
              "       'category_1012210', 'category_1012300', 'category_1022200',\n",
              "       'category_1032000', 'category_1032080', 'category_1032100',\n",
              "       'category_1032200', 'category_1052010', 'category_1052100',\n",
              "       'category_1062050', 'category_1062200', 'category_1082100',\n",
              "       'category_1082900', 'category_1700000', 'category_1701100',\n",
              "       'category_1901200', 'category_name_BARBADOS RUM',\n",
              "       'category_name_DECANTERS & SPECIALTY PACKAGES',\n",
              "       'category_name_IMPORTED GRAPE BRANDIES', 'category_name_IMPORTED VODKA',\n",
              "       'category_name_IMPORTED VODKA - MISC', 'category_name_IRISH WHISKIES',\n",
              "       'category_name_Imported Brandies',\n",
              "       'category_name_Imported Flavored Vodka', 'category_name_Imported Vodka',\n",
              "       'category_name_Imported Vodkas',\n",
              "       'category_name_MISC. IMPORTED CORDIALS & LIQUEURS',\n",
              "       'category_name_PUERTO RICO & VIRGIN ISLANDS RUM',\n",
              "       'category_name_SCOTCH WHISKIES', 'category_name_SINGLE MALT SCOTCH',\n",
              "       'category_name_Scotch Whiskies', 'category_name_Single Malt Scotch',\n",
              "       'category_name_Special Order Items',\n",
              "       'category_name_Temporary &  Specialty Packages',\n",
              "       'category_name_Temporary & Specialty Packages', 'pack_1', 'pack_10',\n",
              "       'pack_12', 'pack_2', 'pack_24', 'pack_3', 'pack_4', 'pack_48', 'pack_6',\n",
              "       'pack_8', 'pack_96', 'bottle_volume_ml_100', 'bottle_volume_ml_1000',\n",
              "       'bottle_volume_ml_1200', 'bottle_volume_ml_1500',\n",
              "       'bottle_volume_ml_1750', 'bottle_volume_ml_200',\n",
              "       'bottle_volume_ml_2250', 'bottle_volume_ml_2550',\n",
              "       'bottle_volume_ml_375', 'bottle_volume_ml_400', 'bottle_volume_ml_50',\n",
              "       'bottle_volume_ml_600', 'bottle_volume_ml_603', 'bottle_volume_ml_750',\n",
              "       'bottle_volume_ml_800', 'bottle_volume_ml_850', 'bottle_volume_ml_900',\n",
              "       'count_number', 'district'],\n",
              "      dtype='object')"
            ]
          },
          "metadata": {
            "tags": []
          },
          "execution_count": 12
        }
      ]
    },
    {
      "cell_type": "code",
      "metadata": {
        "colab": {
          "base_uri": "https://localhost:8080/"
        },
        "id": "ldRiSORcqQ4-",
        "outputId": "911f2b7e-71a2-460b-c4f0-6b308b44ae38"
      },
      "source": [
        "#adding new columns\n",
        "new_df['year'] = pd.DatetimeIndex(new_df['date']).year\n",
        "new_df['month'] = pd.DatetimeIndex(new_df['date']).month\n",
        "new_df['week'] = pd.DatetimeIndex(new_df['date']).week"
      ],
      "execution_count": 13,
      "outputs": [
        {
          "output_type": "stream",
          "text": [
            "/usr/local/lib/python3.7/dist-packages/ipykernel_launcher.py:4: FutureWarning: weekofyear and week have been deprecated, please use DatetimeIndex.isocalendar().week instead, which returns a Series.  To exactly reproduce the behavior of week and weekofyear and return an Index, you may call pd.Int64Index(idx.isocalendar().week)\n",
            "  after removing the cwd from sys.path.\n"
          ],
          "name": "stderr"
        }
      ]
    },
    {
      "cell_type": "code",
      "metadata": {
        "colab": {
          "base_uri": "https://localhost:8080/"
        },
        "id": "3UySrbOI2K3o",
        "outputId": "c6e41527-660c-495e-ac69-6182d14308e4"
      },
      "source": [
        "new_df.columns"
      ],
      "execution_count": 14,
      "outputs": [
        {
          "output_type": "execute_result",
          "data": {
            "text/plain": [
              "Index(['date', 'store_number', 'store_name', 'address', 'city', 'zip_code',\n",
              "       'store_location', 'county_number', 'county', 'vendor_number',\n",
              "       'vendor_name', 'item_number', 'item_description', 'state_bottle_cost',\n",
              "       'state_bottle_retail', 'bottles_sold', 'sale_dollars',\n",
              "       'volume_sold_liters', 'volume_sold_gallons', 'category_1012200',\n",
              "       'category_1012210', 'category_1012300', 'category_1022200',\n",
              "       'category_1032000', 'category_1032080', 'category_1032100',\n",
              "       'category_1032200', 'category_1052010', 'category_1052100',\n",
              "       'category_1062050', 'category_1062200', 'category_1082100',\n",
              "       'category_1082900', 'category_1700000', 'category_1701100',\n",
              "       'category_1901200', 'category_name_BARBADOS RUM',\n",
              "       'category_name_DECANTERS & SPECIALTY PACKAGES',\n",
              "       'category_name_IMPORTED GRAPE BRANDIES', 'category_name_IMPORTED VODKA',\n",
              "       'category_name_IMPORTED VODKA - MISC', 'category_name_IRISH WHISKIES',\n",
              "       'category_name_Imported Brandies',\n",
              "       'category_name_Imported Flavored Vodka', 'category_name_Imported Vodka',\n",
              "       'category_name_Imported Vodkas',\n",
              "       'category_name_MISC. IMPORTED CORDIALS & LIQUEURS',\n",
              "       'category_name_PUERTO RICO & VIRGIN ISLANDS RUM',\n",
              "       'category_name_SCOTCH WHISKIES', 'category_name_SINGLE MALT SCOTCH',\n",
              "       'category_name_Scotch Whiskies', 'category_name_Single Malt Scotch',\n",
              "       'category_name_Special Order Items',\n",
              "       'category_name_Temporary &  Specialty Packages',\n",
              "       'category_name_Temporary & Specialty Packages', 'pack_1', 'pack_10',\n",
              "       'pack_12', 'pack_2', 'pack_24', 'pack_3', 'pack_4', 'pack_48', 'pack_6',\n",
              "       'pack_8', 'pack_96', 'bottle_volume_ml_100', 'bottle_volume_ml_1000',\n",
              "       'bottle_volume_ml_1200', 'bottle_volume_ml_1500',\n",
              "       'bottle_volume_ml_1750', 'bottle_volume_ml_200',\n",
              "       'bottle_volume_ml_2250', 'bottle_volume_ml_2550',\n",
              "       'bottle_volume_ml_375', 'bottle_volume_ml_400', 'bottle_volume_ml_50',\n",
              "       'bottle_volume_ml_600', 'bottle_volume_ml_603', 'bottle_volume_ml_750',\n",
              "       'bottle_volume_ml_800', 'bottle_volume_ml_850', 'bottle_volume_ml_900',\n",
              "       'count_number', 'district', 'year', 'month', 'week'],\n",
              "      dtype='object')"
            ]
          },
          "metadata": {
            "tags": []
          },
          "execution_count": 14
        }
      ]
    },
    {
      "cell_type": "code",
      "metadata": {
        "id": "RjrYjoipuTRg"
      },
      "source": [
        "sales_district_year = new_df.groupby(['district','year'])['sale_dollars'].agg('sum')\n",
        "sales_district_month = new_df.groupby(['district','month'])['sale_dollars'].agg('sum')\n",
        "sales_district_week = new_df.groupby(['district','week'])['sale_dollars'].agg('sum')\n",
        "#sales_district.sort_values(ascending=True).head()\n",
        "sales_district_year = sales_district_year.reset_index(level='district')\n",
        "sales_district_month = sales_district_month.reset_index(level='district')\n",
        "sales_district_week = sales_district_week.reset_index(level='district')"
      ],
      "execution_count": 15,
      "outputs": []
    },
    {
      "cell_type": "code",
      "metadata": {
        "colab": {
          "base_uri": "https://localhost:8080/",
          "height": 235
        },
        "id": "sX_JSInPAmwt",
        "outputId": "e3b56300-8a2a-4fe7-e9ec-bfc23fcb9b9d"
      },
      "source": [
        "sales_district_week.head()"
      ],
      "execution_count": 16,
      "outputs": [
        {
          "output_type": "execute_result",
          "data": {
            "text/html": [
              "<div>\n",
              "<style scoped>\n",
              "    .dataframe tbody tr th:only-of-type {\n",
              "        vertical-align: middle;\n",
              "    }\n",
              "\n",
              "    .dataframe tbody tr th {\n",
              "        vertical-align: top;\n",
              "    }\n",
              "\n",
              "    .dataframe thead th {\n",
              "        text-align: right;\n",
              "    }\n",
              "</style>\n",
              "<table border=\"1\" class=\"dataframe\">\n",
              "  <thead>\n",
              "    <tr style=\"text-align: right;\">\n",
              "      <th></th>\n",
              "      <th>district</th>\n",
              "      <th>sale_dollars</th>\n",
              "    </tr>\n",
              "    <tr>\n",
              "      <th>week</th>\n",
              "      <th></th>\n",
              "      <th></th>\n",
              "    </tr>\n",
              "  </thead>\n",
              "  <tbody>\n",
              "    <tr>\n",
              "      <th>1</th>\n",
              "      <td>1</td>\n",
              "      <td>5201.05</td>\n",
              "    </tr>\n",
              "    <tr>\n",
              "      <th>2</th>\n",
              "      <td>1</td>\n",
              "      <td>6410.62</td>\n",
              "    </tr>\n",
              "    <tr>\n",
              "      <th>3</th>\n",
              "      <td>1</td>\n",
              "      <td>6130.21</td>\n",
              "    </tr>\n",
              "    <tr>\n",
              "      <th>4</th>\n",
              "      <td>1</td>\n",
              "      <td>6650.12</td>\n",
              "    </tr>\n",
              "    <tr>\n",
              "      <th>5</th>\n",
              "      <td>1</td>\n",
              "      <td>6674.88</td>\n",
              "    </tr>\n",
              "  </tbody>\n",
              "</table>\n",
              "</div>"
            ],
            "text/plain": [
              "     district  sale_dollars\n",
              "week                       \n",
              "1           1       5201.05\n",
              "2           1       6410.62\n",
              "3           1       6130.21\n",
              "4           1       6650.12\n",
              "5           1       6674.88"
            ]
          },
          "metadata": {
            "tags": []
          },
          "execution_count": 16
        }
      ]
    },
    {
      "cell_type": "markdown",
      "metadata": {
        "id": "9mDtvhBsFcfk"
      },
      "source": [
        "Weekly sales throughout a calendar year"
      ]
    },
    {
      "cell_type": "code",
      "metadata": {
        "colab": {
          "base_uri": "https://localhost:8080/",
          "height": 322
        },
        "id": "at4gpGUKpblS",
        "outputId": "f1378036-5eba-447a-c510-6a86cccc0eb0"
      },
      "source": [
        "plt.figure(figsize=(20,5))\n",
        "x = sales_district_week.index\n",
        "y = sales_district_week['sale_dollars']\n",
        "hue = sales_district_week['district']\n",
        "\n",
        "sns.barplot(x=x, y=y)"
      ],
      "execution_count": 17,
      "outputs": [
        {
          "output_type": "execute_result",
          "data": {
            "text/plain": [
              "<matplotlib.axes._subplots.AxesSubplot at 0x7fa51ff4dd90>"
            ]
          },
          "metadata": {
            "tags": []
          },
          "execution_count": 17
        },
        {
          "output_type": "display_data",
          "data": {
            "image/png": "[encoded data removed]",
            "text/plain": [
              "<Figure size 1440x360 with 1 Axes>"
            ]
          },
          "metadata": {
            "tags": [],
            "needs_background": "light"
          }
        }
      ]
    },
    {
      "cell_type": "code",
      "metadata": {
        "colab": {
          "base_uri": "https://localhost:8080/",
          "height": 235
        },
        "id": "hxmBwq9K35to",
        "outputId": "6bf1c24e-506f-4ca4-9906-fc90c6f699bf"
      },
      "source": [
        "sales_district_year.head()"
      ],
      "execution_count": 18,
      "outputs": [
        {
          "output_type": "execute_result",
          "data": {
            "text/html": [
              "<div>\n",
              "<style scoped>\n",
              "    .dataframe tbody tr th:only-of-type {\n",
              "        vertical-align: middle;\n",
              "    }\n",
              "\n",
              "    .dataframe tbody tr th {\n",
              "        vertical-align: top;\n",
              "    }\n",
              "\n",
              "    .dataframe thead th {\n",
              "        text-align: right;\n",
              "    }\n",
              "</style>\n",
              "<table border=\"1\" class=\"dataframe\">\n",
              "  <thead>\n",
              "    <tr style=\"text-align: right;\">\n",
              "      <th></th>\n",
              "      <th>district</th>\n",
              "      <th>sale_dollars</th>\n",
              "    </tr>\n",
              "    <tr>\n",
              "      <th>year</th>\n",
              "      <th></th>\n",
              "      <th></th>\n",
              "    </tr>\n",
              "  </thead>\n",
              "  <tbody>\n",
              "    <tr>\n",
              "      <th>2012</th>\n",
              "      <td>1</td>\n",
              "      <td>42745.55</td>\n",
              "    </tr>\n",
              "    <tr>\n",
              "      <th>2013</th>\n",
              "      <td>1</td>\n",
              "      <td>42995.90</td>\n",
              "    </tr>\n",
              "    <tr>\n",
              "      <th>2014</th>\n",
              "      <td>1</td>\n",
              "      <td>45753.00</td>\n",
              "    </tr>\n",
              "    <tr>\n",
              "      <th>2015</th>\n",
              "      <td>1</td>\n",
              "      <td>41908.83</td>\n",
              "    </tr>\n",
              "    <tr>\n",
              "      <th>2016</th>\n",
              "      <td>1</td>\n",
              "      <td>52867.27</td>\n",
              "    </tr>\n",
              "  </tbody>\n",
              "</table>\n",
              "</div>"
            ],
            "text/plain": [
              "     district  sale_dollars\n",
              "year                       \n",
              "2012        1      42745.55\n",
              "2013        1      42995.90\n",
              "2014        1      45753.00\n",
              "2015        1      41908.83\n",
              "2016        1      52867.27"
            ]
          },
          "metadata": {
            "tags": []
          },
          "execution_count": 18
        }
      ]
    },
    {
      "cell_type": "code",
      "metadata": {
        "colab": {
          "base_uri": "https://localhost:8080/",
          "height": 341
        },
        "id": "YsUaPm4isAux",
        "outputId": "50a4ee74-34c6-43a2-ba82-7cd728b2bf56"
      },
      "source": [
        "\n",
        "plt.figure(figsize=(20,5))\n",
        "\n",
        "sns.set_theme(style=\"darkgrid\")\n",
        "x = sales_district_year['district']\n",
        "y = sales_district_year['sale_dollars']\n",
        "hue = sales_district_year.index\n",
        "ax = sns.barplot(y=y, x=x, hue=hue, palette='Blues')\n",
        "\n",
        "ax.set(xlabel='Districts', ylabel='Millions')"
      ],
      "execution_count": 19,
      "outputs": [
        {
          "output_type": "execute_result",
          "data": {
            "text/plain": [
              "[Text(0, 0.5, 'Millions'), Text(0.5, 0, 'Districts')]"
            ]
          },
          "metadata": {
            "tags": []
          },
          "execution_count": 19
        },
        {
          "output_type": "display_data",
          "data": {
            "image/png": "[encoded data removed]",
            "text/plain": [
              "<Figure size 1440x360 with 1 Axes>"
            ]
          },
          "metadata": {
            "tags": [],
            "needs_background": "light"
          }
        }
      ]
    },
    {
      "cell_type": "markdown",
      "metadata": {
        "id": "cJExdmhU9wJe"
      },
      "source": [
        "By plotting sales by ditrict over the years we can see that there is year over year sales growth."
      ]
    },
    {
      "cell_type": "code",
      "metadata": {
        "colab": {
          "base_uri": "https://localhost:8080/",
          "height": 341
        },
        "id": "yajhwmuI8mlF",
        "outputId": "73a66543-81fc-4977-f6fe-6cf9bcb7adee"
      },
      "source": [
        "plt.figure(figsize=(20,5))\n",
        "\n",
        "sns.set_theme(style=\"darkgrid\")\n",
        "x = sales_district_month['district']\n",
        "y = sales_district_month['sale_dollars']\n",
        "hue = sales_district_month.index\n",
        "ax = sns.barplot(y=y, x=x, hue=hue, palette='Purples')\n",
        "\n",
        "ax.set(xlabel='Districts', ylabel='Millions')"
      ],
      "execution_count": 20,
      "outputs": [
        {
          "output_type": "execute_result",
          "data": {
            "text/plain": [
              "[Text(0, 0.5, 'Millions'), Text(0.5, 0, 'Districts')]"
            ]
          },
          "metadata": {
            "tags": []
          },
          "execution_count": 20
        },
        {
          "output_type": "display_data",
          "data": {
            "image/png": "[encoded data removed]",
            "text/plain": [
              "<Figure size 1440x360 with 1 Axes>"
            ]
          },
          "metadata": {
            "tags": []
          }
        }
      ]
    },
    {
      "cell_type": "markdown",
      "metadata": {
        "id": "CdD6w6QB-AAB"
      },
      "source": [
        "Showing sales by month by distict shows that for some regions there is a seasonal trend"
      ]
    },
    {
      "cell_type": "code",
      "metadata": {
        "id": "PJ6FiH1vbJIY"
      },
      "source": [
        "#Using StandardScaler to normalize my data\n",
        "scaler = StandardScaler()\n",
        "scaler.fit(df_scaled)\n",
        "\n",
        "#joining df_scaled to df_date on their indexes which is \"invoice_and_item_number\"\n",
        "df = df_scaled.join(df_date, lsuffix='_df_scaled', rsuffix='_df_date')\n",
        "\n",
        "#ordering the data by date\n",
        "df = df.sort_values(by='date')\n"
      ],
      "execution_count": 21,
      "outputs": []
    },
    {
      "cell_type": "code",
      "metadata": {
        "id": "i-He9gpxbamR"
      },
      "source": [
        "#establishing what my independent and dependent variable should be\n",
        "X = df.loc[:,df.columns!=\"sale_dollars\"]\n",
        "y = df['sale_dollars']\n",
        "test_size = 0.2\n",
        "date_col = df.date"
      ],
      "execution_count": 22,
      "outputs": []
    },
    {
      "cell_type": "code",
      "metadata": {
        "id": "mNet7sIRbmas"
      },
      "source": [
        "# using train_test_split making sure that my data is not shuffled since it is time series\n",
        "from sklearn.model_selection import train_test_split\n",
        "X_train, X_test, y_train, y_test = train_test_split(X, y,test_size=test_size, shuffle= False)"
      ],
      "execution_count": 23,
      "outputs": []
    },
    {
      "cell_type": "markdown",
      "metadata": {
        "id": "00Ki1CV3jc-i"
      },
      "source": [
        "Now that we have our data training data we can begin applying different models"
      ]
    },
    {
      "cell_type": "markdown",
      "metadata": {
        "id": "cbh0XrkcfVs7"
      },
      "source": [
        "ARIMA Model"
      ]
    },
    {
      "cell_type": "code",
      "metadata": {
        "id": "kJBtHdzmstdp",
        "colab": {
          "base_uri": "https://localhost:8080/",
          "height": 374
        },
        "outputId": "9e0f1e6a-9561-4f14-9fce-bfdb1f6ab83e"
      },
      "source": [
        "# I don not need all of these fields for an ARIMA Model so I going to create a new dataset\n",
        "df.head()\n"
      ],
      "execution_count": 24,
      "outputs": [
        {
          "output_type": "execute_result",
          "data": {
            "text/html": [
              "<div>\n",
              "<style scoped>\n",
              "    .dataframe tbody tr th:only-of-type {\n",
              "        vertical-align: middle;\n",
              "    }\n",
              "\n",
              "    .dataframe tbody tr th {\n",
              "        vertical-align: top;\n",
              "    }\n",
              "\n",
              "    .dataframe thead th {\n",
              "        text-align: right;\n",
              "    }\n",
              "</style>\n",
              "<table border=\"1\" class=\"dataframe\">\n",
              "  <thead>\n",
              "    <tr style=\"text-align: right;\">\n",
              "      <th></th>\n",
              "      <th>state_bottle_cost</th>\n",
              "      <th>state_bottle_retail</th>\n",
              "      <th>bottles_sold</th>\n",
              "      <th>sale_dollars</th>\n",
              "      <th>volume_sold_liters</th>\n",
              "      <th>volume_sold_gallons</th>\n",
              "      <th>category_1012200</th>\n",
              "      <th>category_1012210</th>\n",
              "      <th>category_1012300</th>\n",
              "      <th>category_1022200</th>\n",
              "      <th>category_1032000</th>\n",
              "      <th>category_1032080</th>\n",
              "      <th>category_1032100</th>\n",
              "      <th>category_1032200</th>\n",
              "      <th>category_1052010</th>\n",
              "      <th>category_1052100</th>\n",
              "      <th>category_1062050</th>\n",
              "      <th>category_1062200</th>\n",
              "      <th>category_1082100</th>\n",
              "      <th>category_1082900</th>\n",
              "      <th>category_1700000</th>\n",
              "      <th>category_1701100</th>\n",
              "      <th>category_1901200</th>\n",
              "      <th>category_name_BARBADOS RUM</th>\n",
              "      <th>category_name_DECANTERS &amp; SPECIALTY PACKAGES</th>\n",
              "      <th>category_name_IMPORTED GRAPE BRANDIES</th>\n",
              "      <th>category_name_IMPORTED VODKA</th>\n",
              "      <th>category_name_IMPORTED VODKA - MISC</th>\n",
              "      <th>category_name_IRISH WHISKIES</th>\n",
              "      <th>category_name_Imported Brandies</th>\n",
              "      <th>category_name_Imported Flavored Vodka</th>\n",
              "      <th>category_name_Imported Vodka</th>\n",
              "      <th>category_name_Imported Vodkas</th>\n",
              "      <th>category_name_MISC. IMPORTED CORDIALS &amp; LIQUEURS</th>\n",
              "      <th>category_name_PUERTO RICO &amp; VIRGIN ISLANDS RUM</th>\n",
              "      <th>category_name_SCOTCH WHISKIES</th>\n",
              "      <th>category_name_SINGLE MALT SCOTCH</th>\n",
              "      <th>category_name_Scotch Whiskies</th>\n",
              "      <th>category_name_Single Malt Scotch</th>\n",
              "      <th>category_name_Special Order Items</th>\n",
              "      <th>category_name_Temporary &amp;  Specialty Packages</th>\n",
              "      <th>category_name_Temporary &amp; Specialty Packages</th>\n",
              "      <th>pack_1</th>\n",
              "      <th>pack_10</th>\n",
              "      <th>pack_12</th>\n",
              "      <th>pack_2</th>\n",
              "      <th>pack_24</th>\n",
              "      <th>pack_3</th>\n",
              "      <th>pack_4</th>\n",
              "      <th>pack_48</th>\n",
              "      <th>pack_6</th>\n",
              "      <th>pack_8</th>\n",
              "      <th>pack_96</th>\n",
              "      <th>bottle_volume_ml_100</th>\n",
              "      <th>bottle_volume_ml_1000</th>\n",
              "      <th>bottle_volume_ml_1200</th>\n",
              "      <th>bottle_volume_ml_1500</th>\n",
              "      <th>bottle_volume_ml_1750</th>\n",
              "      <th>bottle_volume_ml_200</th>\n",
              "      <th>bottle_volume_ml_2250</th>\n",
              "      <th>bottle_volume_ml_2550</th>\n",
              "      <th>bottle_volume_ml_375</th>\n",
              "      <th>bottle_volume_ml_400</th>\n",
              "      <th>bottle_volume_ml_50</th>\n",
              "      <th>bottle_volume_ml_600</th>\n",
              "      <th>bottle_volume_ml_603</th>\n",
              "      <th>bottle_volume_ml_750</th>\n",
              "      <th>bottle_volume_ml_800</th>\n",
              "      <th>bottle_volume_ml_850</th>\n",
              "      <th>bottle_volume_ml_900</th>\n",
              "      <th>date</th>\n",
              "    </tr>\n",
              "    <tr>\n",
              "      <th>invoice_and_item_number</th>\n",
              "      <th></th>\n",
              "      <th></th>\n",
              "      <th></th>\n",
              "      <th></th>\n",
              "      <th></th>\n",
              "      <th></th>\n",
              "      <th></th>\n",
              "      <th></th>\n",
              "      <th></th>\n",
              "      <th></th>\n",
              "      <th></th>\n",
              "      <th></th>\n",
              "      <th></th>\n",
              "      <th></th>\n",
              "      <th></th>\n",
              "      <th></th>\n",
              "      <th></th>\n",
              "      <th></th>\n",
              "      <th></th>\n",
              "      <th></th>\n",
              "      <th></th>\n",
              "      <th></th>\n",
              "      <th></th>\n",
              "      <th></th>\n",
              "      <th></th>\n",
              "      <th></th>\n",
              "      <th></th>\n",
              "      <th></th>\n",
              "      <th></th>\n",
              "      <th></th>\n",
              "      <th></th>\n",
              "      <th></th>\n",
              "      <th></th>\n",
              "      <th></th>\n",
              "      <th></th>\n",
              "      <th></th>\n",
              "      <th></th>\n",
              "      <th></th>\n",
              "      <th></th>\n",
              "      <th></th>\n",
              "      <th></th>\n",
              "      <th></th>\n",
              "      <th></th>\n",
              "      <th></th>\n",
              "      <th></th>\n",
              "      <th></th>\n",
              "      <th></th>\n",
              "      <th></th>\n",
              "      <th></th>\n",
              "      <th></th>\n",
              "      <th></th>\n",
              "      <th></th>\n",
              "      <th></th>\n",
              "      <th></th>\n",
              "      <th></th>\n",
              "      <th></th>\n",
              "      <th></th>\n",
              "      <th></th>\n",
              "      <th></th>\n",
              "      <th></th>\n",
              "      <th></th>\n",
              "      <th></th>\n",
              "      <th></th>\n",
              "      <th></th>\n",
              "      <th></th>\n",
              "      <th></th>\n",
              "      <th></th>\n",
              "      <th></th>\n",
              "      <th></th>\n",
              "      <th></th>\n",
              "      <th></th>\n",
              "    </tr>\n",
              "  </thead>\n",
              "  <tbody>\n",
              "    <tr>\n",
              "      <th>S03397600134</th>\n",
              "      <td>23.60</td>\n",
              "      <td>35.40</td>\n",
              "      <td>1</td>\n",
              "      <td>35.40</td>\n",
              "      <td>0.60</td>\n",
              "      <td>0.16</td>\n",
              "      <td>0</td>\n",
              "      <td>0</td>\n",
              "      <td>0</td>\n",
              "      <td>0</td>\n",
              "      <td>0</td>\n",
              "      <td>0</td>\n",
              "      <td>0</td>\n",
              "      <td>0</td>\n",
              "      <td>1</td>\n",
              "      <td>0</td>\n",
              "      <td>0</td>\n",
              "      <td>0</td>\n",
              "      <td>0</td>\n",
              "      <td>0</td>\n",
              "      <td>0</td>\n",
              "      <td>0</td>\n",
              "      <td>0</td>\n",
              "      <td>0</td>\n",
              "      <td>0</td>\n",
              "      <td>1</td>\n",
              "      <td>0</td>\n",
              "      <td>0</td>\n",
              "      <td>0</td>\n",
              "      <td>0</td>\n",
              "      <td>0</td>\n",
              "      <td>0</td>\n",
              "      <td>0</td>\n",
              "      <td>0</td>\n",
              "      <td>0</td>\n",
              "      <td>0</td>\n",
              "      <td>0</td>\n",
              "      <td>0</td>\n",
              "      <td>0</td>\n",
              "      <td>0</td>\n",
              "      <td>0</td>\n",
              "      <td>0</td>\n",
              "      <td>0</td>\n",
              "      <td>1</td>\n",
              "      <td>0</td>\n",
              "      <td>0</td>\n",
              "      <td>0</td>\n",
              "      <td>0</td>\n",
              "      <td>0</td>\n",
              "      <td>0</td>\n",
              "      <td>0</td>\n",
              "      <td>0</td>\n",
              "      <td>0</td>\n",
              "      <td>0</td>\n",
              "      <td>0</td>\n",
              "      <td>0</td>\n",
              "      <td>0</td>\n",
              "      <td>0</td>\n",
              "      <td>0</td>\n",
              "      <td>0</td>\n",
              "      <td>0</td>\n",
              "      <td>0</td>\n",
              "      <td>0</td>\n",
              "      <td>0</td>\n",
              "      <td>1</td>\n",
              "      <td>0</td>\n",
              "      <td>0</td>\n",
              "      <td>0</td>\n",
              "      <td>0</td>\n",
              "      <td>0</td>\n",
              "      <td>2012-01-03</td>\n",
              "    </tr>\n",
              "    <tr>\n",
              "      <th>S03411000114</th>\n",
              "      <td>11.49</td>\n",
              "      <td>17.24</td>\n",
              "      <td>1</td>\n",
              "      <td>17.24</td>\n",
              "      <td>0.38</td>\n",
              "      <td>0.10</td>\n",
              "      <td>0</td>\n",
              "      <td>0</td>\n",
              "      <td>0</td>\n",
              "      <td>0</td>\n",
              "      <td>0</td>\n",
              "      <td>0</td>\n",
              "      <td>0</td>\n",
              "      <td>0</td>\n",
              "      <td>1</td>\n",
              "      <td>0</td>\n",
              "      <td>0</td>\n",
              "      <td>0</td>\n",
              "      <td>0</td>\n",
              "      <td>0</td>\n",
              "      <td>0</td>\n",
              "      <td>0</td>\n",
              "      <td>0</td>\n",
              "      <td>0</td>\n",
              "      <td>0</td>\n",
              "      <td>1</td>\n",
              "      <td>0</td>\n",
              "      <td>0</td>\n",
              "      <td>0</td>\n",
              "      <td>0</td>\n",
              "      <td>0</td>\n",
              "      <td>0</td>\n",
              "      <td>0</td>\n",
              "      <td>0</td>\n",
              "      <td>0</td>\n",
              "      <td>0</td>\n",
              "      <td>0</td>\n",
              "      <td>0</td>\n",
              "      <td>0</td>\n",
              "      <td>0</td>\n",
              "      <td>0</td>\n",
              "      <td>0</td>\n",
              "      <td>0</td>\n",
              "      <td>0</td>\n",
              "      <td>1</td>\n",
              "      <td>0</td>\n",
              "      <td>0</td>\n",
              "      <td>0</td>\n",
              "      <td>0</td>\n",
              "      <td>0</td>\n",
              "      <td>0</td>\n",
              "      <td>0</td>\n",
              "      <td>0</td>\n",
              "      <td>0</td>\n",
              "      <td>0</td>\n",
              "      <td>0</td>\n",
              "      <td>0</td>\n",
              "      <td>0</td>\n",
              "      <td>0</td>\n",
              "      <td>0</td>\n",
              "      <td>0</td>\n",
              "      <td>1</td>\n",
              "      <td>0</td>\n",
              "      <td>0</td>\n",
              "      <td>0</td>\n",
              "      <td>0</td>\n",
              "      <td>0</td>\n",
              "      <td>0</td>\n",
              "      <td>0</td>\n",
              "      <td>0</td>\n",
              "      <td>2012-01-03</td>\n",
              "    </tr>\n",
              "    <tr>\n",
              "      <th>S03404500039</th>\n",
              "      <td>23.31</td>\n",
              "      <td>34.96</td>\n",
              "      <td>1</td>\n",
              "      <td>34.96</td>\n",
              "      <td>0.75</td>\n",
              "      <td>0.20</td>\n",
              "      <td>0</td>\n",
              "      <td>0</td>\n",
              "      <td>0</td>\n",
              "      <td>0</td>\n",
              "      <td>0</td>\n",
              "      <td>0</td>\n",
              "      <td>0</td>\n",
              "      <td>0</td>\n",
              "      <td>0</td>\n",
              "      <td>0</td>\n",
              "      <td>0</td>\n",
              "      <td>0</td>\n",
              "      <td>0</td>\n",
              "      <td>1</td>\n",
              "      <td>0</td>\n",
              "      <td>0</td>\n",
              "      <td>0</td>\n",
              "      <td>0</td>\n",
              "      <td>0</td>\n",
              "      <td>0</td>\n",
              "      <td>0</td>\n",
              "      <td>0</td>\n",
              "      <td>0</td>\n",
              "      <td>0</td>\n",
              "      <td>0</td>\n",
              "      <td>0</td>\n",
              "      <td>0</td>\n",
              "      <td>1</td>\n",
              "      <td>0</td>\n",
              "      <td>0</td>\n",
              "      <td>0</td>\n",
              "      <td>0</td>\n",
              "      <td>0</td>\n",
              "      <td>0</td>\n",
              "      <td>0</td>\n",
              "      <td>0</td>\n",
              "      <td>0</td>\n",
              "      <td>0</td>\n",
              "      <td>1</td>\n",
              "      <td>0</td>\n",
              "      <td>0</td>\n",
              "      <td>0</td>\n",
              "      <td>0</td>\n",
              "      <td>0</td>\n",
              "      <td>0</td>\n",
              "      <td>0</td>\n",
              "      <td>0</td>\n",
              "      <td>0</td>\n",
              "      <td>0</td>\n",
              "      <td>0</td>\n",
              "      <td>0</td>\n",
              "      <td>0</td>\n",
              "      <td>0</td>\n",
              "      <td>0</td>\n",
              "      <td>0</td>\n",
              "      <td>0</td>\n",
              "      <td>0</td>\n",
              "      <td>0</td>\n",
              "      <td>0</td>\n",
              "      <td>0</td>\n",
              "      <td>1</td>\n",
              "      <td>0</td>\n",
              "      <td>0</td>\n",
              "      <td>0</td>\n",
              "      <td>2012-01-03</td>\n",
              "    </tr>\n",
              "    <tr>\n",
              "      <th>S03406300082</th>\n",
              "      <td>8.38</td>\n",
              "      <td>12.58</td>\n",
              "      <td>1</td>\n",
              "      <td>12.58</td>\n",
              "      <td>0.38</td>\n",
              "      <td>0.10</td>\n",
              "      <td>0</td>\n",
              "      <td>0</td>\n",
              "      <td>0</td>\n",
              "      <td>0</td>\n",
              "      <td>0</td>\n",
              "      <td>0</td>\n",
              "      <td>0</td>\n",
              "      <td>0</td>\n",
              "      <td>1</td>\n",
              "      <td>0</td>\n",
              "      <td>0</td>\n",
              "      <td>0</td>\n",
              "      <td>0</td>\n",
              "      <td>0</td>\n",
              "      <td>0</td>\n",
              "      <td>0</td>\n",
              "      <td>0</td>\n",
              "      <td>0</td>\n",
              "      <td>0</td>\n",
              "      <td>1</td>\n",
              "      <td>0</td>\n",
              "      <td>0</td>\n",
              "      <td>0</td>\n",
              "      <td>0</td>\n",
              "      <td>0</td>\n",
              "      <td>0</td>\n",
              "      <td>0</td>\n",
              "      <td>0</td>\n",
              "      <td>0</td>\n",
              "      <td>0</td>\n",
              "      <td>0</td>\n",
              "      <td>0</td>\n",
              "      <td>0</td>\n",
              "      <td>0</td>\n",
              "      <td>0</td>\n",
              "      <td>0</td>\n",
              "      <td>0</td>\n",
              "      <td>0</td>\n",
              "      <td>0</td>\n",
              "      <td>0</td>\n",
              "      <td>1</td>\n",
              "      <td>0</td>\n",
              "      <td>0</td>\n",
              "      <td>0</td>\n",
              "      <td>0</td>\n",
              "      <td>0</td>\n",
              "      <td>0</td>\n",
              "      <td>0</td>\n",
              "      <td>0</td>\n",
              "      <td>0</td>\n",
              "      <td>0</td>\n",
              "      <td>0</td>\n",
              "      <td>0</td>\n",
              "      <td>0</td>\n",
              "      <td>0</td>\n",
              "      <td>1</td>\n",
              "      <td>0</td>\n",
              "      <td>0</td>\n",
              "      <td>0</td>\n",
              "      <td>0</td>\n",
              "      <td>0</td>\n",
              "      <td>0</td>\n",
              "      <td>0</td>\n",
              "      <td>0</td>\n",
              "      <td>2012-01-03</td>\n",
              "    </tr>\n",
              "    <tr>\n",
              "      <th>S03408300083</th>\n",
              "      <td>23.31</td>\n",
              "      <td>34.96</td>\n",
              "      <td>3</td>\n",
              "      <td>104.88</td>\n",
              "      <td>2.25</td>\n",
              "      <td>0.59</td>\n",
              "      <td>0</td>\n",
              "      <td>0</td>\n",
              "      <td>0</td>\n",
              "      <td>0</td>\n",
              "      <td>0</td>\n",
              "      <td>0</td>\n",
              "      <td>0</td>\n",
              "      <td>0</td>\n",
              "      <td>0</td>\n",
              "      <td>0</td>\n",
              "      <td>0</td>\n",
              "      <td>0</td>\n",
              "      <td>0</td>\n",
              "      <td>1</td>\n",
              "      <td>0</td>\n",
              "      <td>0</td>\n",
              "      <td>0</td>\n",
              "      <td>0</td>\n",
              "      <td>0</td>\n",
              "      <td>0</td>\n",
              "      <td>0</td>\n",
              "      <td>0</td>\n",
              "      <td>0</td>\n",
              "      <td>0</td>\n",
              "      <td>0</td>\n",
              "      <td>0</td>\n",
              "      <td>0</td>\n",
              "      <td>1</td>\n",
              "      <td>0</td>\n",
              "      <td>0</td>\n",
              "      <td>0</td>\n",
              "      <td>0</td>\n",
              "      <td>0</td>\n",
              "      <td>0</td>\n",
              "      <td>0</td>\n",
              "      <td>0</td>\n",
              "      <td>0</td>\n",
              "      <td>0</td>\n",
              "      <td>1</td>\n",
              "      <td>0</td>\n",
              "      <td>0</td>\n",
              "      <td>0</td>\n",
              "      <td>0</td>\n",
              "      <td>0</td>\n",
              "      <td>0</td>\n",
              "      <td>0</td>\n",
              "      <td>0</td>\n",
              "      <td>0</td>\n",
              "      <td>0</td>\n",
              "      <td>0</td>\n",
              "      <td>0</td>\n",
              "      <td>0</td>\n",
              "      <td>0</td>\n",
              "      <td>0</td>\n",
              "      <td>0</td>\n",
              "      <td>0</td>\n",
              "      <td>0</td>\n",
              "      <td>0</td>\n",
              "      <td>0</td>\n",
              "      <td>0</td>\n",
              "      <td>1</td>\n",
              "      <td>0</td>\n",
              "      <td>0</td>\n",
              "      <td>0</td>\n",
              "      <td>2012-01-03</td>\n",
              "    </tr>\n",
              "  </tbody>\n",
              "</table>\n",
              "</div>"
            ],
            "text/plain": [
              "                         state_bottle_cost  ...       date\n",
              "invoice_and_item_number                     ...           \n",
              "S03397600134                         23.60  ... 2012-01-03\n",
              "S03411000114                         11.49  ... 2012-01-03\n",
              "S03404500039                         23.31  ... 2012-01-03\n",
              "S03406300082                          8.38  ... 2012-01-03\n",
              "S03408300083                         23.31  ... 2012-01-03\n",
              "\n",
              "[5 rows x 71 columns]"
            ]
          },
          "metadata": {
            "tags": []
          },
          "execution_count": 24
        }
      ]
    },
    {
      "cell_type": "code",
      "metadata": {
        "colab": {
          "base_uri": "https://localhost:8080/",
          "height": 450
        },
        "id": "2Yffz694rgcX",
        "outputId": "acd7aa1c-0533-481e-9724-29adcc7ba3d8"
      },
      "source": [
        "df_arima = df.reset_index()[['date','sale_dollars','volume_sold_liters']].groupby('date')[['sale_dollars','volume_sold_liters']].sum()\n",
        "\n",
        "df_arima"
      ],
      "execution_count": 25,
      "outputs": [
        {
          "output_type": "execute_result",
          "data": {
            "text/html": [
              "<div>\n",
              "<style scoped>\n",
              "    .dataframe tbody tr th:only-of-type {\n",
              "        vertical-align: middle;\n",
              "    }\n",
              "\n",
              "    .dataframe tbody tr th {\n",
              "        vertical-align: top;\n",
              "    }\n",
              "\n",
              "    .dataframe thead th {\n",
              "        text-align: right;\n",
              "    }\n",
              "</style>\n",
              "<table border=\"1\" class=\"dataframe\">\n",
              "  <thead>\n",
              "    <tr style=\"text-align: right;\">\n",
              "      <th></th>\n",
              "      <th>sale_dollars</th>\n",
              "      <th>volume_sold_liters</th>\n",
              "    </tr>\n",
              "    <tr>\n",
              "      <th>date</th>\n",
              "      <th></th>\n",
              "      <th></th>\n",
              "    </tr>\n",
              "  </thead>\n",
              "  <tbody>\n",
              "    <tr>\n",
              "      <th>2012-01-03</th>\n",
              "      <td>15105.42</td>\n",
              "      <td>403.23</td>\n",
              "    </tr>\n",
              "    <tr>\n",
              "      <th>2012-01-04</th>\n",
              "      <td>8984.70</td>\n",
              "      <td>251.53</td>\n",
              "    </tr>\n",
              "    <tr>\n",
              "      <th>2012-01-05</th>\n",
              "      <td>18980.12</td>\n",
              "      <td>511.03</td>\n",
              "    </tr>\n",
              "    <tr>\n",
              "      <th>2012-01-09</th>\n",
              "      <td>12762.83</td>\n",
              "      <td>341.10</td>\n",
              "    </tr>\n",
              "    <tr>\n",
              "      <th>2012-01-10</th>\n",
              "      <td>8932.77</td>\n",
              "      <td>239.97</td>\n",
              "    </tr>\n",
              "    <tr>\n",
              "      <th>...</th>\n",
              "      <td>...</td>\n",
              "      <td>...</td>\n",
              "    </tr>\n",
              "    <tr>\n",
              "      <th>2020-11-24</th>\n",
              "      <td>64408.16</td>\n",
              "      <td>1486.42</td>\n",
              "    </tr>\n",
              "    <tr>\n",
              "      <th>2020-11-25</th>\n",
              "      <td>14321.38</td>\n",
              "      <td>324.33</td>\n",
              "    </tr>\n",
              "    <tr>\n",
              "      <th>2020-11-27</th>\n",
              "      <td>41238.41</td>\n",
              "      <td>959.99</td>\n",
              "    </tr>\n",
              "    <tr>\n",
              "      <th>2020-11-28</th>\n",
              "      <td>671.39</td>\n",
              "      <td>15.37</td>\n",
              "    </tr>\n",
              "    <tr>\n",
              "      <th>2020-11-30</th>\n",
              "      <td>42990.03</td>\n",
              "      <td>967.34</td>\n",
              "    </tr>\n",
              "  </tbody>\n",
              "</table>\n",
              "<p>2011 rows × 2 columns</p>\n",
              "</div>"
            ],
            "text/plain": [
              "            sale_dollars  volume_sold_liters\n",
              "date                                        \n",
              "2012-01-03      15105.42              403.23\n",
              "2012-01-04       8984.70              251.53\n",
              "2012-01-05      18980.12              511.03\n",
              "2012-01-09      12762.83              341.10\n",
              "2012-01-10       8932.77              239.97\n",
              "...                  ...                 ...\n",
              "2020-11-24      64408.16             1486.42\n",
              "2020-11-25      14321.38              324.33\n",
              "2020-11-27      41238.41              959.99\n",
              "2020-11-28        671.39               15.37\n",
              "2020-11-30      42990.03              967.34\n",
              "\n",
              "[2011 rows x 2 columns]"
            ]
          },
          "metadata": {
            "tags": []
          },
          "execution_count": 25
        }
      ]
    },
    {
      "cell_type": "code",
      "metadata": {
        "colab": {
          "base_uri": "https://localhost:8080/"
        },
        "id": "hK8_axarnU2q",
        "outputId": "43900d65-4eb5-4be7-ff03-4531e452f44f"
      },
      "source": [
        "#Testing if my data is trend stationary using the Dicky Fuller Statistical Test\n",
        "from statsmodels.tsa.stattools import adfuller\n",
        "results = adfuller(df_arima['sale_dollars'])\n",
        "print(results)"
      ],
      "execution_count": 26,
      "outputs": [
        {
          "output_type": "stream",
          "text": [
            "(-3.001296608820788, 0.03477349061915443, 24, 1986, {'1%': -3.4336469649065298, '5%': -2.862996415949189, '10%': -2.5675453345421984}, 42848.40868224585)\n"
          ],
          "name": "stdout"
        }
      ]
    },
    {
      "cell_type": "markdown",
      "metadata": {
        "id": "YlBWVZx8vmUr"
      },
      "source": [
        "Dicky Fuller Test tells us a few things\n",
        "1. There is a high likelyhood that the data is stationary because the test statistic (0th value) of the tuple is negative\n",
        "2. The p value (1st value) of the tuple is less than 0.05 meaning we can safely reject the null hypothesis, reject the notion that the data is not stationary\n",
        "3. The critical values contained within the dictionary within the tuple further support that the data is stationary given that I am using a test statisti of 5%"
      ]
    },
    {
      "cell_type": "code",
      "metadata": {
        "id": "lJOSzYkUAcyS"
      },
      "source": [
        "# using train_test_split making sure that my data is not shuffled since it is time series\n",
        "from sklearn.model_selection import train_test_split\n",
        "X = df_arima.index\n",
        "y= df_arima\n",
        "\n",
        "X_train, X_test, y_train, y_test = train_test_split(X, y,test_size=test_size, shuffle= False)"
      ],
      "execution_count": 27,
      "outputs": []
    },
    {
      "cell_type": "code",
      "metadata": {
        "colab": {
          "base_uri": "https://localhost:8080/",
          "height": 268
        },
        "id": "mrLxFupF02_m",
        "outputId": "9b8ed88d-2078-4641-9eed-4c3da391d7e9"
      },
      "source": [
        "plt.plot(y_train.index,y_train['sale_dollars'].diff())\n",
        "plt.show()"
      ],
      "execution_count": 28,
      "outputs": [
        {
          "output_type": "display_data",
          "data": {
            "image/png": "[encoded data removed]",
            "text/plain": [
              "<Figure size 432x288 with 1 Axes>"
            ]
          },
          "metadata": {
            "tags": []
          }
        }
      ]
    },
    {
      "cell_type": "code",
      "metadata": {
        "colab": {
          "base_uri": "https://localhost:8080/",
          "height": 501
        },
        "id": "IMBSLPl6gKQM",
        "outputId": "c6c3348b-1fbc-418b-b081-4052716f51bb"
      },
      "source": [
        "#determine the model order by plotting the acf and pacf\n",
        "from statsmodels.graphics.tsaplots import plot_acf, plot_pacf\n",
        "\n",
        "# Create figure\n",
        "fig, (ax1, ax2) = plt.subplots(2,1, figsize=(12,8))\n",
        "\n",
        "# Plot the ACF of df\n",
        "plot_acf(y_train['sale_dollars'], lags=20, zero=False, ax=ax1)\n",
        "\n",
        "# Plot the PACF of df\n",
        "plot_pacf(y_train['sale_dollars'], lags=20, zero=False, ax=ax2)\n",
        "\n",
        "plt.show()"
      ],
      "execution_count": 33,
      "outputs": [
        {
          "output_type": "display_data",
          "data": {
            "image/png": "[encoded data removed]",
            "text/plain": [
              "<Figure size 864x576 with 2 Axes>"
            ]
          },
          "metadata": {
            "tags": []
          }
        }
      ]
    },
    {
      "cell_type": "code",
      "metadata": {
        "colab": {
          "base_uri": "https://localhost:8080/"
        },
        "id": "wxSbTwLuk1sk",
        "outputId": "dab13960-c983-440e-d4a6-3e56823ef80c"
      },
      "source": [
        "# it is not clear what the order model should be so I will be using the aic and bic to determine this\n",
        "\n",
        "from statsmodels.tsa.statespace.sarimax import SARIMAX\n",
        "\n",
        "# Create empty list to store search results\n",
        "order_aic_bic=[]\n",
        "\n",
        "# Loop over p values\n",
        "for p in range(10):\n",
        "  # Loop over q values\n",
        "    for q in range(10):\n",
        "      \t# create and fit ARMA(p,q) model\n",
        "        model = SARIMAX(y_train['sale_dollars'], order=(p,2,q))\n",
        "        results = model.fit()\n",
        "\n",
        "        # Append order and results tuple\n",
        "        order_aic_bic.append((p,q,results.aic, results.bic))"
      ],
      "execution_count": 34,
      "outputs": [
        {
          "output_type": "stream",
          "text": [
            "/usr/local/lib/python3.7/dist-packages/statsmodels/tsa/base/tsa_model.py:219: ValueWarning: A date index has been provided, but it has no associated frequency information and so will be ignored when e.g. forecasting.\n",
            "  ' ignored when e.g. forecasting.', ValueWarning)\n",
            "/usr/local/lib/python3.7/dist-packages/statsmodels/tsa/base/tsa_model.py:219: ValueWarning: A date index has been provided, but it has no associated frequency information and so will be ignored when e.g. forecasting.\n",
            "  ' ignored when e.g. forecasting.', ValueWarning)\n",
            "/usr/local/lib/python3.7/dist-packages/statsmodels/tsa/statespace/sarimax.py:961: UserWarning: Non-invertible starting MA parameters found. Using zeros as starting parameters.\n",
            "  warn('Non-invertible starting MA parameters found.'\n",
            "/usr/local/lib/python3.7/dist-packages/statsmodels/tsa/base/tsa_model.py:219: ValueWarning: A date index has been provided, but it has no associated frequency information and so will be ignored when e.g. forecasting.\n",
            "  ' ignored when e.g. forecasting.', ValueWarning)\n",
            "/usr/local/lib/python3.7/dist-packages/statsmodels/tsa/base/tsa_model.py:219: ValueWarning: A date index has been provided, but it has no associated frequency information and so will be ignored when e.g. forecasting.\n",
            "  ' ignored when e.g. forecasting.', ValueWarning)\n",
            "/usr/local/lib/python3.7/dist-packages/statsmodels/tsa/base/tsa_model.py:219: ValueWarning: A date index has been provided, but it has no associated frequency information and so will be ignored when e.g. forecasting.\n",
            "  ' ignored when e.g. forecasting.', ValueWarning)\n",
            "/usr/local/lib/python3.7/dist-packages/statsmodels/tsa/base/tsa_model.py:219: ValueWarning: A date index has been provided, but it has no associated frequency information and so will be ignored when e.g. forecasting.\n",
            "  ' ignored when e.g. forecasting.', ValueWarning)\n",
            "/usr/local/lib/python3.7/dist-packages/statsmodels/base/model.py:512: ConvergenceWarning: Maximum Likelihood optimization failed to converge. Check mle_retvals\n",
            "  \"Check mle_retvals\", ConvergenceWarning)\n",
            "/usr/local/lib/python3.7/dist-packages/statsmodels/tsa/base/tsa_model.py:219: ValueWarning: A date index has been provided, but it has no associated frequency information and so will be ignored when e.g. forecasting.\n",
            "  ' ignored when e.g. forecasting.', ValueWarning)\n",
            "/usr/local/lib/python3.7/dist-packages/statsmodels/base/model.py:512: ConvergenceWarning: Maximum Likelihood optimization failed to converge. Check mle_retvals\n",
            "  \"Check mle_retvals\", ConvergenceWarning)\n",
            "/usr/local/lib/python3.7/dist-packages/statsmodels/tsa/base/tsa_model.py:219: ValueWarning: A date index has been provided, but it has no associated frequency information and so will be ignored when e.g. forecasting.\n",
            "  ' ignored when e.g. forecasting.', ValueWarning)\n",
            "/usr/local/lib/python3.7/dist-packages/statsmodels/tsa/base/tsa_model.py:219: ValueWarning: A date index has been provided, but it has no associated frequency information and so will be ignored when e.g. forecasting.\n",
            "  ' ignored when e.g. forecasting.', ValueWarning)\n",
            "/usr/local/lib/python3.7/dist-packages/statsmodels/tsa/base/tsa_model.py:219: ValueWarning: A date index has been provided, but it has no associated frequency information and so will be ignored when e.g. forecasting.\n",
            "  ' ignored when e.g. forecasting.', ValueWarning)\n",
            "/usr/local/lib/python3.7/dist-packages/statsmodels/tsa/base/tsa_model.py:219: ValueWarning: A date index has been provided, but it has no associated frequency information and so will be ignored when e.g. forecasting.\n",
            "  ' ignored when e.g. forecasting.', ValueWarning)\n",
            "/usr/local/lib/python3.7/dist-packages/statsmodels/tsa/base/tsa_model.py:219: ValueWarning: A date index has been provided, but it has no associated frequency information and so will be ignored when e.g. forecasting.\n",
            "  ' ignored when e.g. forecasting.', ValueWarning)\n",
            "/usr/local/lib/python3.7/dist-packages/statsmodels/tsa/base/tsa_model.py:219: ValueWarning: A date index has been provided, but it has no associated frequency information and so will be ignored when e.g. forecasting.\n",
            "  ' ignored when e.g. forecasting.', ValueWarning)\n",
            "/usr/local/lib/python3.7/dist-packages/statsmodels/tsa/base/tsa_model.py:219: ValueWarning: A date index has been provided, but it has no associated frequency information and so will be ignored when e.g. forecasting.\n",
            "  ' ignored when e.g. forecasting.', ValueWarning)\n",
            "/usr/local/lib/python3.7/dist-packages/statsmodels/base/model.py:512: ConvergenceWarning: Maximum Likelihood optimization failed to converge. Check mle_retvals\n",
            "  \"Check mle_retvals\", ConvergenceWarning)\n",
            "/usr/local/lib/python3.7/dist-packages/statsmodels/tsa/base/tsa_model.py:219: ValueWarning: A date index has been provided, but it has no associated frequency information and so will be ignored when e.g. forecasting.\n",
            "  ' ignored when e.g. forecasting.', ValueWarning)\n",
            "/usr/local/lib/python3.7/dist-packages/statsmodels/tsa/base/tsa_model.py:219: ValueWarning: A date index has been provided, but it has no associated frequency information and so will be ignored when e.g. forecasting.\n",
            "  ' ignored when e.g. forecasting.', ValueWarning)\n",
            "/usr/local/lib/python3.7/dist-packages/statsmodels/tsa/base/tsa_model.py:219: ValueWarning: A date index has been provided, but it has no associated frequency information and so will be ignored when e.g. forecasting.\n",
            "  ' ignored when e.g. forecasting.', ValueWarning)\n",
            "/usr/local/lib/python3.7/dist-packages/statsmodels/tsa/base/tsa_model.py:219: ValueWarning: A date index has been provided, but it has no associated frequency information and so will be ignored when e.g. forecasting.\n",
            "  ' ignored when e.g. forecasting.', ValueWarning)\n",
            "/usr/local/lib/python3.7/dist-packages/statsmodels/tsa/base/tsa_model.py:219: ValueWarning: A date index has been provided, but it has no associated frequency information and so will be ignored when e.g. forecasting.\n",
            "  ' ignored when e.g. forecasting.', ValueWarning)\n",
            "/usr/local/lib/python3.7/dist-packages/statsmodels/tsa/base/tsa_model.py:219: ValueWarning: A date index has been provided, but it has no associated frequency information and so will be ignored when e.g. forecasting.\n",
            "  ' ignored when e.g. forecasting.', ValueWarning)\n",
            "/usr/local/lib/python3.7/dist-packages/statsmodels/tsa/base/tsa_model.py:219: ValueWarning: A date index has been provided, but it has no associated frequency information and so will be ignored when e.g. forecasting.\n",
            "  ' ignored when e.g. forecasting.', ValueWarning)\n",
            "/usr/local/lib/python3.7/dist-packages/statsmodels/tsa/base/tsa_model.py:219: ValueWarning: A date index has been provided, but it has no associated frequency information and so will be ignored when e.g. forecasting.\n",
            "  ' ignored when e.g. forecasting.', ValueWarning)\n",
            "/usr/local/lib/python3.7/dist-packages/statsmodels/tsa/base/tsa_model.py:219: ValueWarning: A date index has been provided, but it has no associated frequency information and so will be ignored when e.g. forecasting.\n",
            "  ' ignored when e.g. forecasting.', ValueWarning)\n",
            "/usr/local/lib/python3.7/dist-packages/statsmodels/tsa/base/tsa_model.py:219: ValueWarning: A date index has been provided, but it has no associated frequency information and so will be ignored when e.g. forecasting.\n",
            "  ' ignored when e.g. forecasting.', ValueWarning)\n",
            "/usr/local/lib/python3.7/dist-packages/statsmodels/tsa/base/tsa_model.py:219: ValueWarning: A date index has been provided, but it has no associated frequency information and so will be ignored when e.g. forecasting.\n",
            "  ' ignored when e.g. forecasting.', ValueWarning)\n",
            "/usr/local/lib/python3.7/dist-packages/statsmodels/base/model.py:512: ConvergenceWarning: Maximum Likelihood optimization failed to converge. Check mle_retvals\n",
            "  \"Check mle_retvals\", ConvergenceWarning)\n",
            "/usr/local/lib/python3.7/dist-packages/statsmodels/tsa/base/tsa_model.py:219: ValueWarning: A date index has been provided, but it has no associated frequency information and so will be ignored when e.g. forecasting.\n",
            "  ' ignored when e.g. forecasting.', ValueWarning)\n",
            "/usr/local/lib/python3.7/dist-packages/statsmodels/base/model.py:512: ConvergenceWarning: Maximum Likelihood optimization failed to converge. Check mle_retvals\n",
            "  \"Check mle_retvals\", ConvergenceWarning)\n",
            "/usr/local/lib/python3.7/dist-packages/statsmodels/tsa/base/tsa_model.py:219: ValueWarning: A date index has been provided, but it has no associated frequency information and so will be ignored when e.g. forecasting.\n",
            "  ' ignored when e.g. forecasting.', ValueWarning)\n",
            "/usr/local/lib/python3.7/dist-packages/statsmodels/base/model.py:512: ConvergenceWarning: Maximum Likelihood optimization failed to converge. Check mle_retvals\n",
            "  \"Check mle_retvals\", ConvergenceWarning)\n",
            "/usr/local/lib/python3.7/dist-packages/statsmodels/tsa/base/tsa_model.py:219: ValueWarning: A date index has been provided, but it has no associated frequency information and so will be ignored when e.g. forecasting.\n",
            "  ' ignored when e.g. forecasting.', ValueWarning)\n",
            "/usr/local/lib/python3.7/dist-packages/statsmodels/base/model.py:512: ConvergenceWarning: Maximum Likelihood optimization failed to converge. Check mle_retvals\n",
            "  \"Check mle_retvals\", ConvergenceWarning)\n",
            "/usr/local/lib/python3.7/dist-packages/statsmodels/tsa/base/tsa_model.py:219: ValueWarning: A date index has been provided, but it has no associated frequency information and so will be ignored when e.g. forecasting.\n",
            "  ' ignored when e.g. forecasting.', ValueWarning)\n",
            "/usr/local/lib/python3.7/dist-packages/statsmodels/base/model.py:512: ConvergenceWarning: Maximum Likelihood optimization failed to converge. Check mle_retvals\n",
            "  \"Check mle_retvals\", ConvergenceWarning)\n",
            "/usr/local/lib/python3.7/dist-packages/statsmodels/tsa/base/tsa_model.py:219: ValueWarning: A date index has been provided, but it has no associated frequency information and so will be ignored when e.g. forecasting.\n",
            "  ' ignored when e.g. forecasting.', ValueWarning)\n",
            "/usr/local/lib/python3.7/dist-packages/statsmodels/base/model.py:512: ConvergenceWarning: Maximum Likelihood optimization failed to converge. Check mle_retvals\n",
            "  \"Check mle_retvals\", ConvergenceWarning)\n",
            "/usr/local/lib/python3.7/dist-packages/statsmodels/tsa/base/tsa_model.py:219: ValueWarning: A date index has been provided, but it has no associated frequency information and so will be ignored when e.g. forecasting.\n",
            "  ' ignored when e.g. forecasting.', ValueWarning)\n",
            "/usr/local/lib/python3.7/dist-packages/statsmodels/tsa/base/tsa_model.py:219: ValueWarning: A date index has been provided, but it has no associated frequency information and so will be ignored when e.g. forecasting.\n",
            "  ' ignored when e.g. forecasting.', ValueWarning)\n",
            "/usr/local/lib/python3.7/dist-packages/statsmodels/tsa/base/tsa_model.py:219: ValueWarning: A date index has been provided, but it has no associated frequency information and so will be ignored when e.g. forecasting.\n",
            "  ' ignored when e.g. forecasting.', ValueWarning)\n",
            "/usr/local/lib/python3.7/dist-packages/statsmodels/tsa/base/tsa_model.py:219: ValueWarning: A date index has been provided, but it has no associated frequency information and so will be ignored when e.g. forecasting.\n",
            "  ' ignored when e.g. forecasting.', ValueWarning)\n",
            "/usr/local/lib/python3.7/dist-packages/statsmodels/tsa/base/tsa_model.py:219: ValueWarning: A date index has been provided, but it has no associated frequency information and so will be ignored when e.g. forecasting.\n",
            "  ' ignored when e.g. forecasting.', ValueWarning)\n",
            "/usr/local/lib/python3.7/dist-packages/statsmodels/base/model.py:512: ConvergenceWarning: Maximum Likelihood optimization failed to converge. Check mle_retvals\n",
            "  \"Check mle_retvals\", ConvergenceWarning)\n",
            "/usr/local/lib/python3.7/dist-packages/statsmodels/tsa/base/tsa_model.py:219: ValueWarning: A date index has been provided, but it has no associated frequency information and so will be ignored when e.g. forecasting.\n",
            "  ' ignored when e.g. forecasting.', ValueWarning)\n",
            "/usr/local/lib/python3.7/dist-packages/statsmodels/base/model.py:512: ConvergenceWarning: Maximum Likelihood optimization failed to converge. Check mle_retvals\n",
            "  \"Check mle_retvals\", ConvergenceWarning)\n",
            "/usr/local/lib/python3.7/dist-packages/statsmodels/tsa/base/tsa_model.py:219: ValueWarning: A date index has been provided, but it has no associated frequency information and so will be ignored when e.g. forecasting.\n",
            "  ' ignored when e.g. forecasting.', ValueWarning)\n",
            "/usr/local/lib/python3.7/dist-packages/statsmodels/base/model.py:512: ConvergenceWarning: Maximum Likelihood optimization failed to converge. Check mle_retvals\n",
            "  \"Check mle_retvals\", ConvergenceWarning)\n",
            "/usr/local/lib/python3.7/dist-packages/statsmodels/tsa/base/tsa_model.py:219: ValueWarning: A date index has been provided, but it has no associated frequency information and so will be ignored when e.g. forecasting.\n",
            "  ' ignored when e.g. forecasting.', ValueWarning)\n",
            "/usr/local/lib/python3.7/dist-packages/statsmodels/base/model.py:512: ConvergenceWarning: Maximum Likelihood optimization failed to converge. Check mle_retvals\n",
            "  \"Check mle_retvals\", ConvergenceWarning)\n",
            "/usr/local/lib/python3.7/dist-packages/statsmodels/tsa/base/tsa_model.py:219: ValueWarning: A date index has been provided, but it has no associated frequency information and so will be ignored when e.g. forecasting.\n",
            "  ' ignored when e.g. forecasting.', ValueWarning)\n",
            "/usr/local/lib/python3.7/dist-packages/statsmodels/base/model.py:512: ConvergenceWarning: Maximum Likelihood optimization failed to converge. Check mle_retvals\n",
            "  \"Check mle_retvals\", ConvergenceWarning)\n",
            "/usr/local/lib/python3.7/dist-packages/statsmodels/tsa/base/tsa_model.py:219: ValueWarning: A date index has been provided, but it has no associated frequency information and so will be ignored when e.g. forecasting.\n",
            "  ' ignored when e.g. forecasting.', ValueWarning)\n",
            "/usr/local/lib/python3.7/dist-packages/statsmodels/base/model.py:512: ConvergenceWarning: Maximum Likelihood optimization failed to converge. Check mle_retvals\n",
            "  \"Check mle_retvals\", ConvergenceWarning)\n",
            "/usr/local/lib/python3.7/dist-packages/statsmodels/tsa/base/tsa_model.py:219: ValueWarning: A date index has been provided, but it has no associated frequency information and so will be ignored when e.g. forecasting.\n",
            "  ' ignored when e.g. forecasting.', ValueWarning)\n",
            "/usr/local/lib/python3.7/dist-packages/statsmodels/tsa/base/tsa_model.py:219: ValueWarning: A date index has been provided, but it has no associated frequency information and so will be ignored when e.g. forecasting.\n",
            "  ' ignored when e.g. forecasting.', ValueWarning)\n",
            "/usr/local/lib/python3.7/dist-packages/statsmodels/tsa/base/tsa_model.py:219: ValueWarning: A date index has been provided, but it has no associated frequency information and so will be ignored when e.g. forecasting.\n",
            "  ' ignored when e.g. forecasting.', ValueWarning)\n",
            "/usr/local/lib/python3.7/dist-packages/statsmodels/tsa/base/tsa_model.py:219: ValueWarning: A date index has been provided, but it has no associated frequency information and so will be ignored when e.g. forecasting.\n",
            "  ' ignored when e.g. forecasting.', ValueWarning)\n",
            "/usr/local/lib/python3.7/dist-packages/statsmodels/tsa/base/tsa_model.py:219: ValueWarning: A date index has been provided, but it has no associated frequency information and so will be ignored when e.g. forecasting.\n",
            "  ' ignored when e.g. forecasting.', ValueWarning)\n",
            "/usr/local/lib/python3.7/dist-packages/statsmodels/base/model.py:512: ConvergenceWarning: Maximum Likelihood optimization failed to converge. Check mle_retvals\n",
            "  \"Check mle_retvals\", ConvergenceWarning)\n",
            "/usr/local/lib/python3.7/dist-packages/statsmodels/tsa/base/tsa_model.py:219: ValueWarning: A date index has been provided, but it has no associated frequency information and so will be ignored when e.g. forecasting.\n",
            "  ' ignored when e.g. forecasting.', ValueWarning)\n",
            "/usr/local/lib/python3.7/dist-packages/statsmodels/base/model.py:512: ConvergenceWarning: Maximum Likelihood optimization failed to converge. Check mle_retvals\n",
            "  \"Check mle_retvals\", ConvergenceWarning)\n",
            "/usr/local/lib/python3.7/dist-packages/statsmodels/tsa/base/tsa_model.py:219: ValueWarning: A date index has been provided, but it has no associated frequency information and so will be ignored when e.g. forecasting.\n",
            "  ' ignored when e.g. forecasting.', ValueWarning)\n",
            "/usr/local/lib/python3.7/dist-packages/statsmodels/base/model.py:512: ConvergenceWarning: Maximum Likelihood optimization failed to converge. Check mle_retvals\n",
            "  \"Check mle_retvals\", ConvergenceWarning)\n",
            "/usr/local/lib/python3.7/dist-packages/statsmodels/tsa/base/tsa_model.py:219: ValueWarning: A date index has been provided, but it has no associated frequency information and so will be ignored when e.g. forecasting.\n",
            "  ' ignored when e.g. forecasting.', ValueWarning)\n",
            "/usr/local/lib/python3.7/dist-packages/statsmodels/base/model.py:512: ConvergenceWarning: Maximum Likelihood optimization failed to converge. Check mle_retvals\n",
            "  \"Check mle_retvals\", ConvergenceWarning)\n",
            "/usr/local/lib/python3.7/dist-packages/statsmodels/tsa/base/tsa_model.py:219: ValueWarning: A date index has been provided, but it has no associated frequency information and so will be ignored when e.g. forecasting.\n",
            "  ' ignored when e.g. forecasting.', ValueWarning)\n",
            "/usr/local/lib/python3.7/dist-packages/statsmodels/base/model.py:512: ConvergenceWarning: Maximum Likelihood optimization failed to converge. Check mle_retvals\n",
            "  \"Check mle_retvals\", ConvergenceWarning)\n",
            "/usr/local/lib/python3.7/dist-packages/statsmodels/tsa/base/tsa_model.py:219: ValueWarning: A date index has been provided, but it has no associated frequency information and so will be ignored when e.g. forecasting.\n",
            "  ' ignored when e.g. forecasting.', ValueWarning)\n",
            "/usr/local/lib/python3.7/dist-packages/statsmodels/base/model.py:512: ConvergenceWarning: Maximum Likelihood optimization failed to converge. Check mle_retvals\n",
            "  \"Check mle_retvals\", ConvergenceWarning)\n",
            "/usr/local/lib/python3.7/dist-packages/statsmodels/tsa/base/tsa_model.py:219: ValueWarning: A date index has been provided, but it has no associated frequency information and so will be ignored when e.g. forecasting.\n",
            "  ' ignored when e.g. forecasting.', ValueWarning)\n",
            "/usr/local/lib/python3.7/dist-packages/statsmodels/tsa/base/tsa_model.py:219: ValueWarning: A date index has been provided, but it has no associated frequency information and so will be ignored when e.g. forecasting.\n",
            "  ' ignored when e.g. forecasting.', ValueWarning)\n",
            "/usr/local/lib/python3.7/dist-packages/statsmodels/tsa/statespace/sarimax.py:949: UserWarning: Non-stationary starting autoregressive parameters found. Using zeros as starting parameters.\n",
            "  warn('Non-stationary starting autoregressive parameters'\n",
            "/usr/local/lib/python3.7/dist-packages/statsmodels/tsa/base/tsa_model.py:219: ValueWarning: A date index has been provided, but it has no associated frequency information and so will be ignored when e.g. forecasting.\n",
            "  ' ignored when e.g. forecasting.', ValueWarning)\n",
            "/usr/local/lib/python3.7/dist-packages/statsmodels/tsa/base/tsa_model.py:219: ValueWarning: A date index has been provided, but it has no associated frequency information and so will be ignored when e.g. forecasting.\n",
            "  ' ignored when e.g. forecasting.', ValueWarning)\n",
            "/usr/local/lib/python3.7/dist-packages/statsmodels/base/model.py:512: ConvergenceWarning: Maximum Likelihood optimization failed to converge. Check mle_retvals\n",
            "  \"Check mle_retvals\", ConvergenceWarning)\n",
            "/usr/local/lib/python3.7/dist-packages/statsmodels/tsa/base/tsa_model.py:219: ValueWarning: A date index has been provided, but it has no associated frequency information and so will be ignored when e.g. forecasting.\n",
            "  ' ignored when e.g. forecasting.', ValueWarning)\n",
            "/usr/local/lib/python3.7/dist-packages/statsmodels/base/model.py:512: ConvergenceWarning: Maximum Likelihood optimization failed to converge. Check mle_retvals\n",
            "  \"Check mle_retvals\", ConvergenceWarning)\n",
            "/usr/local/lib/python3.7/dist-packages/statsmodels/tsa/base/tsa_model.py:219: ValueWarning: A date index has been provided, but it has no associated frequency information and so will be ignored when e.g. forecasting.\n",
            "  ' ignored when e.g. forecasting.', ValueWarning)\n",
            "/usr/local/lib/python3.7/dist-packages/statsmodels/base/model.py:512: ConvergenceWarning: Maximum Likelihood optimization failed to converge. Check mle_retvals\n",
            "  \"Check mle_retvals\", ConvergenceWarning)\n",
            "/usr/local/lib/python3.7/dist-packages/statsmodels/tsa/base/tsa_model.py:219: ValueWarning: A date index has been provided, but it has no associated frequency information and so will be ignored when e.g. forecasting.\n",
            "  ' ignored when e.g. forecasting.', ValueWarning)\n",
            "/usr/local/lib/python3.7/dist-packages/statsmodels/base/model.py:512: ConvergenceWarning: Maximum Likelihood optimization failed to converge. Check mle_retvals\n",
            "  \"Check mle_retvals\", ConvergenceWarning)\n",
            "/usr/local/lib/python3.7/dist-packages/statsmodels/tsa/base/tsa_model.py:219: ValueWarning: A date index has been provided, but it has no associated frequency information and so will be ignored when e.g. forecasting.\n",
            "  ' ignored when e.g. forecasting.', ValueWarning)\n",
            "/usr/local/lib/python3.7/dist-packages/statsmodels/base/model.py:512: ConvergenceWarning: Maximum Likelihood optimization failed to converge. Check mle_retvals\n",
            "  \"Check mle_retvals\", ConvergenceWarning)\n",
            "/usr/local/lib/python3.7/dist-packages/statsmodels/tsa/base/tsa_model.py:219: ValueWarning: A date index has been provided, but it has no associated frequency information and so will be ignored when e.g. forecasting.\n",
            "  ' ignored when e.g. forecasting.', ValueWarning)\n",
            "/usr/local/lib/python3.7/dist-packages/statsmodels/base/model.py:512: ConvergenceWarning: Maximum Likelihood optimization failed to converge. Check mle_retvals\n",
            "  \"Check mle_retvals\", ConvergenceWarning)\n",
            "/usr/local/lib/python3.7/dist-packages/statsmodels/tsa/base/tsa_model.py:219: ValueWarning: A date index has been provided, but it has no associated frequency information and so will be ignored when e.g. forecasting.\n",
            "  ' ignored when e.g. forecasting.', ValueWarning)\n",
            "/usr/local/lib/python3.7/dist-packages/statsmodels/base/model.py:512: ConvergenceWarning: Maximum Likelihood optimization failed to converge. Check mle_retvals\n",
            "  \"Check mle_retvals\", ConvergenceWarning)\n",
            "/usr/local/lib/python3.7/dist-packages/statsmodels/tsa/base/tsa_model.py:219: ValueWarning: A date index has been provided, but it has no associated frequency information and so will be ignored when e.g. forecasting.\n",
            "  ' ignored when e.g. forecasting.', ValueWarning)\n",
            "/usr/local/lib/python3.7/dist-packages/statsmodels/tsa/base/tsa_model.py:219: ValueWarning: A date index has been provided, but it has no associated frequency information and so will be ignored when e.g. forecasting.\n",
            "  ' ignored when e.g. forecasting.', ValueWarning)\n",
            "/usr/local/lib/python3.7/dist-packages/statsmodels/tsa/base/tsa_model.py:219: ValueWarning: A date index has been provided, but it has no associated frequency information and so will be ignored when e.g. forecasting.\n",
            "  ' ignored when e.g. forecasting.', ValueWarning)\n",
            "/usr/local/lib/python3.7/dist-packages/statsmodels/tsa/base/tsa_model.py:219: ValueWarning: A date index has been provided, but it has no associated frequency information and so will be ignored when e.g. forecasting.\n",
            "  ' ignored when e.g. forecasting.', ValueWarning)\n",
            "/usr/local/lib/python3.7/dist-packages/statsmodels/tsa/base/tsa_model.py:219: ValueWarning: A date index has been provided, but it has no associated frequency information and so will be ignored when e.g. forecasting.\n",
            "  ' ignored when e.g. forecasting.', ValueWarning)\n",
            "/usr/local/lib/python3.7/dist-packages/statsmodels/base/model.py:512: ConvergenceWarning: Maximum Likelihood optimization failed to converge. Check mle_retvals\n",
            "  \"Check mle_retvals\", ConvergenceWarning)\n",
            "/usr/local/lib/python3.7/dist-packages/statsmodels/tsa/base/tsa_model.py:219: ValueWarning: A date index has been provided, but it has no associated frequency information and so will be ignored when e.g. forecasting.\n",
            "  ' ignored when e.g. forecasting.', ValueWarning)\n",
            "/usr/local/lib/python3.7/dist-packages/statsmodels/base/model.py:512: ConvergenceWarning: Maximum Likelihood optimization failed to converge. Check mle_retvals\n",
            "  \"Check mle_retvals\", ConvergenceWarning)\n",
            "/usr/local/lib/python3.7/dist-packages/statsmodels/tsa/base/tsa_model.py:219: ValueWarning: A date index has been provided, but it has no associated frequency information and so will be ignored when e.g. forecasting.\n",
            "  ' ignored when e.g. forecasting.', ValueWarning)\n",
            "/usr/local/lib/python3.7/dist-packages/statsmodels/base/model.py:512: ConvergenceWarning: Maximum Likelihood optimization failed to converge. Check mle_retvals\n",
            "  \"Check mle_retvals\", ConvergenceWarning)\n",
            "/usr/local/lib/python3.7/dist-packages/statsmodels/tsa/base/tsa_model.py:219: ValueWarning: A date index has been provided, but it has no associated frequency information and so will be ignored when e.g. forecasting.\n",
            "  ' ignored when e.g. forecasting.', ValueWarning)\n",
            "/usr/local/lib/python3.7/dist-packages/statsmodels/base/model.py:512: ConvergenceWarning: Maximum Likelihood optimization failed to converge. Check mle_retvals\n",
            "  \"Check mle_retvals\", ConvergenceWarning)\n",
            "/usr/local/lib/python3.7/dist-packages/statsmodels/tsa/base/tsa_model.py:219: ValueWarning: A date index has been provided, but it has no associated frequency information and so will be ignored when e.g. forecasting.\n",
            "  ' ignored when e.g. forecasting.', ValueWarning)\n",
            "/usr/local/lib/python3.7/dist-packages/statsmodels/base/model.py:512: ConvergenceWarning: Maximum Likelihood optimization failed to converge. Check mle_retvals\n",
            "  \"Check mle_retvals\", ConvergenceWarning)\n",
            "/usr/local/lib/python3.7/dist-packages/statsmodels/tsa/base/tsa_model.py:219: ValueWarning: A date index has been provided, but it has no associated frequency information and so will be ignored when e.g. forecasting.\n",
            "  ' ignored when e.g. forecasting.', ValueWarning)\n",
            "/usr/local/lib/python3.7/dist-packages/statsmodels/base/model.py:512: ConvergenceWarning: Maximum Likelihood optimization failed to converge. Check mle_retvals\n",
            "  \"Check mle_retvals\", ConvergenceWarning)\n",
            "/usr/local/lib/python3.7/dist-packages/statsmodels/tsa/base/tsa_model.py:219: ValueWarning: A date index has been provided, but it has no associated frequency information and so will be ignored when e.g. forecasting.\n",
            "  ' ignored when e.g. forecasting.', ValueWarning)\n",
            "/usr/local/lib/python3.7/dist-packages/statsmodels/tsa/base/tsa_model.py:219: ValueWarning: A date index has been provided, but it has no associated frequency information and so will be ignored when e.g. forecasting.\n",
            "  ' ignored when e.g. forecasting.', ValueWarning)\n",
            "/usr/local/lib/python3.7/dist-packages/statsmodels/tsa/base/tsa_model.py:219: ValueWarning: A date index has been provided, but it has no associated frequency information and so will be ignored when e.g. forecasting.\n",
            "  ' ignored when e.g. forecasting.', ValueWarning)\n",
            "/usr/local/lib/python3.7/dist-packages/statsmodels/tsa/base/tsa_model.py:219: ValueWarning: A date index has been provided, but it has no associated frequency information and so will be ignored when e.g. forecasting.\n",
            "  ' ignored when e.g. forecasting.', ValueWarning)\n",
            "/usr/local/lib/python3.7/dist-packages/statsmodels/tsa/base/tsa_model.py:219: ValueWarning: A date index has been provided, but it has no associated frequency information and so will be ignored when e.g. forecasting.\n",
            "  ' ignored when e.g. forecasting.', ValueWarning)\n",
            "/usr/local/lib/python3.7/dist-packages/statsmodels/base/model.py:512: ConvergenceWarning: Maximum Likelihood optimization failed to converge. Check mle_retvals\n",
            "  \"Check mle_retvals\", ConvergenceWarning)\n",
            "/usr/local/lib/python3.7/dist-packages/statsmodels/tsa/base/tsa_model.py:219: ValueWarning: A date index has been provided, but it has no associated frequency information and so will be ignored when e.g. forecasting.\n",
            "  ' ignored when e.g. forecasting.', ValueWarning)\n",
            "/usr/local/lib/python3.7/dist-packages/statsmodels/base/model.py:512: ConvergenceWarning: Maximum Likelihood optimization failed to converge. Check mle_retvals\n",
            "  \"Check mle_retvals\", ConvergenceWarning)\n",
            "/usr/local/lib/python3.7/dist-packages/statsmodels/tsa/base/tsa_model.py:219: ValueWarning: A date index has been provided, but it has no associated frequency information and so will be ignored when e.g. forecasting.\n",
            "  ' ignored when e.g. forecasting.', ValueWarning)\n",
            "/usr/local/lib/python3.7/dist-packages/statsmodels/base/model.py:512: ConvergenceWarning: Maximum Likelihood optimization failed to converge. Check mle_retvals\n",
            "  \"Check mle_retvals\", ConvergenceWarning)\n",
            "/usr/local/lib/python3.7/dist-packages/statsmodels/tsa/base/tsa_model.py:219: ValueWarning: A date index has been provided, but it has no associated frequency information and so will be ignored when e.g. forecasting.\n",
            "  ' ignored when e.g. forecasting.', ValueWarning)\n",
            "/usr/local/lib/python3.7/dist-packages/statsmodels/base/model.py:512: ConvergenceWarning: Maximum Likelihood optimization failed to converge. Check mle_retvals\n",
            "  \"Check mle_retvals\", ConvergenceWarning)\n",
            "/usr/local/lib/python3.7/dist-packages/statsmodels/tsa/base/tsa_model.py:219: ValueWarning: A date index has been provided, but it has no associated frequency information and so will be ignored when e.g. forecasting.\n",
            "  ' ignored when e.g. forecasting.', ValueWarning)\n",
            "/usr/local/lib/python3.7/dist-packages/statsmodels/base/model.py:512: ConvergenceWarning: Maximum Likelihood optimization failed to converge. Check mle_retvals\n",
            "  \"Check mle_retvals\", ConvergenceWarning)\n",
            "/usr/local/lib/python3.7/dist-packages/statsmodels/tsa/base/tsa_model.py:219: ValueWarning: A date index has been provided, but it has no associated frequency information and so will be ignored when e.g. forecasting.\n",
            "  ' ignored when e.g. forecasting.', ValueWarning)\n",
            "/usr/local/lib/python3.7/dist-packages/statsmodels/base/model.py:512: ConvergenceWarning: Maximum Likelihood optimization failed to converge. Check mle_retvals\n",
            "  \"Check mle_retvals\", ConvergenceWarning)\n",
            "/usr/local/lib/python3.7/dist-packages/statsmodels/tsa/base/tsa_model.py:219: ValueWarning: A date index has been provided, but it has no associated frequency information and so will be ignored when e.g. forecasting.\n",
            "  ' ignored when e.g. forecasting.', ValueWarning)\n",
            "/usr/local/lib/python3.7/dist-packages/statsmodels/tsa/base/tsa_model.py:219: ValueWarning: A date index has been provided, but it has no associated frequency information and so will be ignored when e.g. forecasting.\n",
            "  ' ignored when e.g. forecasting.', ValueWarning)\n",
            "/usr/local/lib/python3.7/dist-packages/statsmodels/tsa/base/tsa_model.py:219: ValueWarning: A date index has been provided, but it has no associated frequency information and so will be ignored when e.g. forecasting.\n",
            "  ' ignored when e.g. forecasting.', ValueWarning)\n",
            "/usr/local/lib/python3.7/dist-packages/statsmodels/tsa/base/tsa_model.py:219: ValueWarning: A date index has been provided, but it has no associated frequency information and so will be ignored when e.g. forecasting.\n",
            "  ' ignored when e.g. forecasting.', ValueWarning)\n",
            "/usr/local/lib/python3.7/dist-packages/statsmodels/tsa/base/tsa_model.py:219: ValueWarning: A date index has been provided, but it has no associated frequency information and so will be ignored when e.g. forecasting.\n",
            "  ' ignored when e.g. forecasting.', ValueWarning)\n",
            "/usr/local/lib/python3.7/dist-packages/statsmodels/base/model.py:512: ConvergenceWarning: Maximum Likelihood optimization failed to converge. Check mle_retvals\n",
            "  \"Check mle_retvals\", ConvergenceWarning)\n",
            "/usr/local/lib/python3.7/dist-packages/statsmodels/tsa/base/tsa_model.py:219: ValueWarning: A date index has been provided, but it has no associated frequency information and so will be ignored when e.g. forecasting.\n",
            "  ' ignored when e.g. forecasting.', ValueWarning)\n",
            "/usr/local/lib/python3.7/dist-packages/statsmodels/base/model.py:512: ConvergenceWarning: Maximum Likelihood optimization failed to converge. Check mle_retvals\n",
            "  \"Check mle_retvals\", ConvergenceWarning)\n",
            "/usr/local/lib/python3.7/dist-packages/statsmodels/tsa/base/tsa_model.py:219: ValueWarning: A date index has been provided, but it has no associated frequency information and so will be ignored when e.g. forecasting.\n",
            "  ' ignored when e.g. forecasting.', ValueWarning)\n",
            "/usr/local/lib/python3.7/dist-packages/statsmodels/base/model.py:512: ConvergenceWarning: Maximum Likelihood optimization failed to converge. Check mle_retvals\n",
            "  \"Check mle_retvals\", ConvergenceWarning)\n",
            "/usr/local/lib/python3.7/dist-packages/statsmodels/tsa/base/tsa_model.py:219: ValueWarning: A date index has been provided, but it has no associated frequency information and so will be ignored when e.g. forecasting.\n",
            "  ' ignored when e.g. forecasting.', ValueWarning)\n",
            "/usr/local/lib/python3.7/dist-packages/statsmodels/base/model.py:512: ConvergenceWarning: Maximum Likelihood optimization failed to converge. Check mle_retvals\n",
            "  \"Check mle_retvals\", ConvergenceWarning)\n",
            "/usr/local/lib/python3.7/dist-packages/statsmodels/tsa/base/tsa_model.py:219: ValueWarning: A date index has been provided, but it has no associated frequency information and so will be ignored when e.g. forecasting.\n",
            "  ' ignored when e.g. forecasting.', ValueWarning)\n",
            "/usr/local/lib/python3.7/dist-packages/statsmodels/base/model.py:512: ConvergenceWarning: Maximum Likelihood optimization failed to converge. Check mle_retvals\n",
            "  \"Check mle_retvals\", ConvergenceWarning)\n",
            "/usr/local/lib/python3.7/dist-packages/statsmodels/tsa/base/tsa_model.py:219: ValueWarning: A date index has been provided, but it has no associated frequency information and so will be ignored when e.g. forecasting.\n",
            "  ' ignored when e.g. forecasting.', ValueWarning)\n",
            "/usr/local/lib/python3.7/dist-packages/statsmodels/base/model.py:512: ConvergenceWarning: Maximum Likelihood optimization failed to converge. Check mle_retvals\n",
            "  \"Check mle_retvals\", ConvergenceWarning)\n",
            "/usr/local/lib/python3.7/dist-packages/statsmodels/tsa/base/tsa_model.py:219: ValueWarning: A date index has been provided, but it has no associated frequency information and so will be ignored when e.g. forecasting.\n",
            "  ' ignored when e.g. forecasting.', ValueWarning)\n",
            "/usr/local/lib/python3.7/dist-packages/statsmodels/tsa/base/tsa_model.py:219: ValueWarning: A date index has been provided, but it has no associated frequency information and so will be ignored when e.g. forecasting.\n",
            "  ' ignored when e.g. forecasting.', ValueWarning)\n",
            "/usr/local/lib/python3.7/dist-packages/statsmodels/tsa/base/tsa_model.py:219: ValueWarning: A date index has been provided, but it has no associated frequency information and so will be ignored when e.g. forecasting.\n",
            "  ' ignored when e.g. forecasting.', ValueWarning)\n",
            "/usr/local/lib/python3.7/dist-packages/statsmodels/base/model.py:512: ConvergenceWarning: Maximum Likelihood optimization failed to converge. Check mle_retvals\n",
            "  \"Check mle_retvals\", ConvergenceWarning)\n",
            "/usr/local/lib/python3.7/dist-packages/statsmodels/tsa/base/tsa_model.py:219: ValueWarning: A date index has been provided, but it has no associated frequency information and so will be ignored when e.g. forecasting.\n",
            "  ' ignored when e.g. forecasting.', ValueWarning)\n",
            "/usr/local/lib/python3.7/dist-packages/statsmodels/tsa/base/tsa_model.py:219: ValueWarning: A date index has been provided, but it has no associated frequency information and so will be ignored when e.g. forecasting.\n",
            "  ' ignored when e.g. forecasting.', ValueWarning)\n",
            "/usr/local/lib/python3.7/dist-packages/statsmodels/tsa/base/tsa_model.py:219: ValueWarning: A date index has been provided, but it has no associated frequency information and so will be ignored when e.g. forecasting.\n",
            "  ' ignored when e.g. forecasting.', ValueWarning)\n",
            "/usr/local/lib/python3.7/dist-packages/statsmodels/base/model.py:512: ConvergenceWarning: Maximum Likelihood optimization failed to converge. Check mle_retvals\n",
            "  \"Check mle_retvals\", ConvergenceWarning)\n",
            "/usr/local/lib/python3.7/dist-packages/statsmodels/tsa/base/tsa_model.py:219: ValueWarning: A date index has been provided, but it has no associated frequency information and so will be ignored when e.g. forecasting.\n",
            "  ' ignored when e.g. forecasting.', ValueWarning)\n",
            "/usr/local/lib/python3.7/dist-packages/statsmodels/base/model.py:512: ConvergenceWarning: Maximum Likelihood optimization failed to converge. Check mle_retvals\n",
            "  \"Check mle_retvals\", ConvergenceWarning)\n",
            "/usr/local/lib/python3.7/dist-packages/statsmodels/tsa/base/tsa_model.py:219: ValueWarning: A date index has been provided, but it has no associated frequency information and so will be ignored when e.g. forecasting.\n",
            "  ' ignored when e.g. forecasting.', ValueWarning)\n",
            "/usr/local/lib/python3.7/dist-packages/statsmodels/base/model.py:512: ConvergenceWarning: Maximum Likelihood optimization failed to converge. Check mle_retvals\n",
            "  \"Check mle_retvals\", ConvergenceWarning)\n",
            "/usr/local/lib/python3.7/dist-packages/statsmodels/tsa/base/tsa_model.py:219: ValueWarning: A date index has been provided, but it has no associated frequency information and so will be ignored when e.g. forecasting.\n",
            "  ' ignored when e.g. forecasting.', ValueWarning)\n",
            "/usr/local/lib/python3.7/dist-packages/statsmodels/base/model.py:512: ConvergenceWarning: Maximum Likelihood optimization failed to converge. Check mle_retvals\n",
            "  \"Check mle_retvals\", ConvergenceWarning)\n",
            "/usr/local/lib/python3.7/dist-packages/statsmodels/tsa/base/tsa_model.py:219: ValueWarning: A date index has been provided, but it has no associated frequency information and so will be ignored when e.g. forecasting.\n",
            "  ' ignored when e.g. forecasting.', ValueWarning)\n",
            "/usr/local/lib/python3.7/dist-packages/statsmodels/base/model.py:512: ConvergenceWarning: Maximum Likelihood optimization failed to converge. Check mle_retvals\n",
            "  \"Check mle_retvals\", ConvergenceWarning)\n"
          ],
          "name": "stderr"
        }
      ]
    },
    {
      "cell_type": "code",
      "metadata": {
        "colab": {
          "base_uri": "https://localhost:8080/"
        },
        "id": "sylX2bQisTJr",
        "outputId": "46071910-286d-4a5c-89d9-e668c7ad8b29"
      },
      "source": [
        "#For order values that may cause errors\n",
        "# Loop over p values from 0-2\n",
        "#for p in range(3):\n",
        "    # Loop over q values from 0-2\n",
        "   # for q in range(3):\n",
        "      \n",
        "    #    try:\n",
        "            # create and fit ARMA(p,q) model\n",
        "     #       model = SARIMAX(y_train['sale_dollars'], order=(p,0,q))\n",
        "      #      results = model.fit()\n",
        "            \n",
        "            # Print order and results\n",
        "       #     print(p, q, results.aic, results.bic)\n",
        "            \n",
        "      #  except:\n",
        "      #      print(p, q, None, None)     "
      ],
      "execution_count": 35,
      "outputs": [
        {
          "output_type": "stream",
          "text": [
            "/usr/local/lib/python3.7/dist-packages/statsmodels/tsa/base/tsa_model.py:219: ValueWarning: A date index has been provided, but it has no associated frequency information and so will be ignored when e.g. forecasting.\n",
            "  ' ignored when e.g. forecasting.', ValueWarning)\n",
            "/usr/local/lib/python3.7/dist-packages/statsmodels/tsa/base/tsa_model.py:219: ValueWarning: A date index has been provided, but it has no associated frequency information and so will be ignored when e.g. forecasting.\n",
            "  ' ignored when e.g. forecasting.', ValueWarning)\n",
            "/usr/local/lib/python3.7/dist-packages/statsmodels/tsa/base/tsa_model.py:219: ValueWarning: A date index has been provided, but it has no associated frequency information and so will be ignored when e.g. forecasting.\n",
            "  ' ignored when e.g. forecasting.', ValueWarning)\n"
          ],
          "name": "stderr"
        },
        {
          "output_type": "stream",
          "text": [
            "0 0 37515.11482194797 37520.49756839771\n",
            "0 1 36771.438070113494 36782.20356301297\n",
            "0 2 36481.946905246186 36498.095144595405\n",
            "1 0 35383.12777551754 35393.893268417014\n"
          ],
          "name": "stdout"
        },
        {
          "output_type": "stream",
          "text": [
            "/usr/local/lib/python3.7/dist-packages/statsmodels/tsa/base/tsa_model.py:219: ValueWarning: A date index has been provided, but it has no associated frequency information and so will be ignored when e.g. forecasting.\n",
            "  ' ignored when e.g. forecasting.', ValueWarning)\n",
            "/usr/local/lib/python3.7/dist-packages/statsmodels/tsa/base/tsa_model.py:219: ValueWarning: A date index has been provided, but it has no associated frequency information and so will be ignored when e.g. forecasting.\n",
            "  ' ignored when e.g. forecasting.', ValueWarning)\n"
          ],
          "name": "stderr"
        },
        {
          "output_type": "stream",
          "text": [
            "1 1 34808.01158292976 34824.159822278976\n"
          ],
          "name": "stdout"
        },
        {
          "output_type": "stream",
          "text": [
            "/usr/local/lib/python3.7/dist-packages/statsmodels/tsa/base/tsa_model.py:219: ValueWarning: A date index has been provided, but it has no associated frequency information and so will be ignored when e.g. forecasting.\n",
            "  ' ignored when e.g. forecasting.', ValueWarning)\n",
            "/usr/local/lib/python3.7/dist-packages/statsmodels/tsa/statespace/sarimax.py:949: UserWarning: Non-stationary starting autoregressive parameters found. Using zeros as starting parameters.\n",
            "  warn('Non-stationary starting autoregressive parameters'\n"
          ],
          "name": "stderr"
        },
        {
          "output_type": "stream",
          "text": [
            "1 2 34776.10981713072 34797.64080292967\n",
            "2 0 35052.68299638235 35068.831235731566\n"
          ],
          "name": "stdout"
        },
        {
          "output_type": "stream",
          "text": [
            "/usr/local/lib/python3.7/dist-packages/statsmodels/tsa/base/tsa_model.py:219: ValueWarning: A date index has been provided, but it has no associated frequency information and so will be ignored when e.g. forecasting.\n",
            "  ' ignored when e.g. forecasting.', ValueWarning)\n",
            "/usr/local/lib/python3.7/dist-packages/statsmodels/tsa/base/tsa_model.py:219: ValueWarning: A date index has been provided, but it has no associated frequency information and so will be ignored when e.g. forecasting.\n",
            "  ' ignored when e.g. forecasting.', ValueWarning)\n"
          ],
          "name": "stderr"
        },
        {
          "output_type": "stream",
          "text": [
            "2 1 34760.159946983214 34781.69093278217\n"
          ],
          "name": "stdout"
        },
        {
          "output_type": "stream",
          "text": [
            "/usr/local/lib/python3.7/dist-packages/statsmodels/tsa/base/tsa_model.py:219: ValueWarning: A date index has been provided, but it has no associated frequency information and so will be ignored when e.g. forecasting.\n",
            "  ' ignored when e.g. forecasting.', ValueWarning)\n",
            "/usr/local/lib/python3.7/dist-packages/statsmodels/tsa/statespace/sarimax.py:961: UserWarning: Non-invertible starting MA parameters found. Using zeros as starting parameters.\n",
            "  warn('Non-invertible starting MA parameters found.'\n"
          ],
          "name": "stderr"
        },
        {
          "output_type": "stream",
          "text": [
            "2 2 34797.81499571579 34824.72872796448\n"
          ],
          "name": "stdout"
        }
      ]
    },
    {
      "cell_type": "code",
      "metadata": {
        "colab": {
          "base_uri": "https://localhost:8080/"
        },
        "id": "_ZNlJMqemnSQ",
        "outputId": "1a02ebbd-4c27-4f4a-bf14-14b0b208099a"
      },
      "source": [
        "#Make dataframe of model order\n",
        "order_df = pd.DataFrame(order_aic_bic, columns=['p','q','aic','bic'])\n",
        "\n",
        "#sort by aic\n",
        "print(order_df.sort_values('aic').head())\n",
        "\n",
        "#sort by bic\n",
        "print(order_df.sort_values('bic').head())\n",
        "\n",
        "#p = order_aic_bic['p'].min('aic')\n",
        "#q = order_aic_bic['q'].min('aic')\n"
      ],
      "execution_count": 36,
      "outputs": [
        {
          "output_type": "stream",
          "text": [
            "    p  q           aic           bic\n",
            "99  9  9  34484.155844  34586.404380\n",
            "89  8  9  34502.141082  34599.008116\n",
            "48  4  8  34515.664902  34585.624427\n",
            "98  9  8  34519.303116  34616.170150\n",
            "79  7  9  34525.976245  34617.461777\n",
            "    p  q           aic           bic\n",
            "48  4  8  34515.664902  34585.624427\n",
            "99  9  9  34484.155844  34586.404380\n",
            "89  8  9  34502.141082  34599.008116\n",
            "98  9  8  34519.303116  34616.170150\n",
            "79  7  9  34525.976245  34617.461777\n",
            "for our model the order value for p is : 3 q is : 3\n"
          ],
          "name": "stdout"
        }
      ]
    },
    {
      "cell_type": "code",
      "metadata": {
        "colab": {
          "base_uri": "https://localhost:8080/"
        },
        "id": "jrCuPaNT4AIl",
        "outputId": "3b4f22a7-b620-4a5e-b808-19976d53d52c"
      },
      "source": [
        "# Based on the above results the best values for p & q that optimize prediction would be (9,2,9)\n",
        "# But for explanability they are (4,2,8)\n",
        "p = 4\n",
        "q = 8\n",
        "print('for our model the order value for p is :',p,'q is :',q)"
      ],
      "execution_count": 46,
      "outputs": [
        {
          "output_type": "stream",
          "text": [
            "for our model the order value for p is : 4 q is : 8\n"
          ],
          "name": "stdout"
        }
      ]
    },
    {
      "cell_type": "code",
      "metadata": {
        "id": "yvydV3UwfVSC",
        "colab": {
          "base_uri": "https://localhost:8080/"
        },
        "outputId": "36b3d872-f51e-4de0-a3c7-775a7dc835e4"
      },
      "source": [
        "# Fit an ARMA model to the data\n",
        "model = ARMA(y_train['sale_dollars'], order=(p,q), exog=y_train['volume_sold_liters'])\n",
        "res = model.fit()\n",
        "\n",
        "# Print out summary information on the fit\n",
        "print(res.summary())\n",
        "\n",
        "# Print out the estimate for the constant and for theta\n",
        "print(\"When the true theta=-0.9, the estimate of theta (and the constant) are:\")\n",
        "print(res.params)"
      ],
      "execution_count": 47,
      "outputs": [
        {
          "output_type": "stream",
          "text": [
            "/usr/local/lib/python3.7/dist-packages/statsmodels/tsa/base/tsa_model.py:219: ValueWarning: A date index has been provided, but it has no associated frequency information and so will be ignored when e.g. forecasting.\n",
            "  ' ignored when e.g. forecasting.', ValueWarning)\n"
          ],
          "name": "stderr"
        },
        {
          "output_type": "stream",
          "text": [
            "                              ARMA Model Results                              \n",
            "==============================================================================\n",
            "Dep. Variable:           sale_dollars   No. Observations:                 1608\n",
            "Model:                     ARMA(4, 8)   Log Likelihood              -13845.581\n",
            "Method:                       css-mle   S.D. of innovations           1326.513\n",
            "Date:                Sat, 07 Aug 2021   AIC                          27721.162\n",
            "Time:                        18:32:23   BIC                          27801.903\n",
            "Sample:                             0   HQIC                         27751.136\n",
            "                                                                              \n",
            "======================================================================================\n",
            "                         coef    std err          z      P>|z|      [0.025      0.975]\n",
            "--------------------------------------------------------------------------------------\n",
            "const               -383.1043   3429.755     -0.112      0.911   -7105.301    6339.093\n",
            "volume_sold_liters    40.5575      0.131    309.449      0.000      40.301      40.814\n",
            "ar.L1.sale_dollars    -0.5363      1.179     -0.455      0.649      -2.848       1.775\n",
            "ar.L2.sale_dollars     0.6415      0.122      5.249      0.000       0.402       0.881\n",
            "ar.L3.sale_dollars     0.5860      1.093      0.536      0.592      -1.557       2.729\n",
            "ar.L4.sale_dollars     0.3080      0.149      2.066      0.039       0.016       0.600\n",
            "ma.L1.sale_dollars     0.7590      1.179      0.644      0.520      -1.553       3.071\n",
            "ma.L2.sale_dollars    -0.3795      0.294     -1.290      0.197      -0.956       0.197\n",
            "ma.L3.sale_dollars    -0.6531      0.926     -0.705      0.481      -2.469       1.163\n",
            "ma.L4.sale_dollars    -0.4835      0.356     -1.358      0.175      -1.182       0.215\n",
            "ma.L5.sale_dollars    -0.0112      0.109     -0.103      0.918      -0.225       0.202\n",
            "ma.L6.sale_dollars    -0.0046      0.183     -0.025      0.980      -0.364       0.355\n",
            "ma.L7.sale_dollars    -0.0879      0.034     -2.561      0.011      -0.155      -0.021\n",
            "ma.L8.sale_dollars     0.0014      0.173      0.008      0.993      -0.337       0.340\n",
            "                                    Roots                                    \n",
            "=============================================================================\n",
            "                  Real          Imaginary           Modulus         Frequency\n",
            "-----------------------------------------------------------------------------\n",
            "AR.1            1.0002           -0.0000j            1.0002           -0.0000\n",
            "AR.2           -1.0741           -0.0000j            1.0741           -0.5000\n",
            "AR.3           -0.9142           -1.4785j            1.7383           -0.3381\n",
            "AR.4           -0.9142           +1.4785j            1.7383            0.3381\n",
            "MA.1            1.0293           -0.0000j            1.0293           -0.0000\n",
            "MA.2           -0.5555           -1.1311j            1.2602           -0.3227\n",
            "MA.3           -0.5555           +1.1311j            1.2602            0.3227\n",
            "MA.4           -1.2723           -0.0000j            1.2723           -0.5000\n",
            "MA.5           -1.2174           -0.0000j            1.2174           -0.5000\n",
            "MA.6            1.2576           -1.7050j            2.1186           -0.1489\n",
            "MA.7            1.2576           +1.7050j            2.1186            0.1489\n",
            "MA.8           62.0866           -0.0000j           62.0866           -0.0000\n",
            "-----------------------------------------------------------------------------\n",
            "When the true theta=-0.9, the estimate of theta (and the constant) are:\n",
            "const                -383.104281\n",
            "volume_sold_liters     40.557532\n",
            "ar.L1.sale_dollars     -0.536307\n",
            "ar.L2.sale_dollars      0.641498\n",
            "ar.L3.sale_dollars      0.585994\n",
            "ar.L4.sale_dollars      0.308049\n",
            "ma.L1.sale_dollars      0.759015\n",
            "ma.L2.sale_dollars     -0.379516\n",
            "ma.L3.sale_dollars     -0.653140\n",
            "ma.L4.sale_dollars     -0.483528\n",
            "ma.L5.sale_dollars     -0.011205\n",
            "ma.L6.sale_dollars     -0.004644\n",
            "ma.L7.sale_dollars     -0.087923\n",
            "ma.L8.sale_dollars      0.001417\n",
            "dtype: float64\n"
          ],
          "name": "stdout"
        }
      ]
    },
    {
      "cell_type": "code",
      "metadata": {
        "colab": {
          "base_uri": "https://localhost:8080/"
        },
        "id": "i6vDZt8XhA_E",
        "outputId": "92527c0d-4bd8-4d68-cb16-794c1c02e465"
      },
      "source": [
        "\n",
        "# Fit an SARIMA model to the data\n",
        "model = SARIMAX(y_train['sale_dollars'], order=(p,2,q), trend = 'c')\n",
        "                #,exog=y_train['volume_sold_liters'])\n",
        "results = model.fit()\n",
        "\n",
        "# Print out summary information on the fit\n",
        "print(results.summary())\n",
        "\n",
        "# Print out the estimate for the constant and for theta\n",
        "print(\"When the true theta=-0.9, the estimate of theta (and the constant) are:\")\n",
        "print(results.params)\n",
        "\n"
      ],
      "execution_count": 48,
      "outputs": [
        {
          "output_type": "stream",
          "text": [
            "/usr/local/lib/python3.7/dist-packages/statsmodels/tsa/base/tsa_model.py:219: ValueWarning: A date index has been provided, but it has no associated frequency information and so will be ignored when e.g. forecasting.\n",
            "  ' ignored when e.g. forecasting.', ValueWarning)\n",
            "/usr/local/lib/python3.7/dist-packages/statsmodels/base/model.py:512: ConvergenceWarning: Maximum Likelihood optimization failed to converge. Check mle_retvals\n",
            "  \"Check mle_retvals\", ConvergenceWarning)\n"
          ],
          "name": "stderr"
        },
        {
          "output_type": "stream",
          "text": [
            "                           Statespace Model Results                           \n",
            "==============================================================================\n",
            "Dep. Variable:           sale_dollars   No. Observations:                 1608\n",
            "Model:               SARIMAX(4, 2, 8)   Log Likelihood              -17274.561\n",
            "Date:                Sat, 07 Aug 2021   AIC                          34577.122\n",
            "Time:                        18:32:39   BIC                          34652.463\n",
            "Sample:                             0   HQIC                         34605.094\n",
            "                               - 1608                                         \n",
            "Covariance Type:                  opg                                         \n",
            "==============================================================================\n",
            "                 coef    std err          z      P>|z|      [0.025      0.975]\n",
            "------------------------------------------------------------------------------\n",
            "intercept     21.5945      8.308      2.599      0.009       5.312      37.877\n",
            "ar.L1         -1.0264      0.065    -15.869      0.000      -1.153      -0.900\n",
            "ar.L2         -0.7915      0.103     -7.678      0.000      -0.994      -0.589\n",
            "ar.L3         -0.6451      0.098     -6.612      0.000      -0.836      -0.454\n",
            "ar.L4         -0.6780      0.062    -11.014      0.000      -0.799      -0.557\n",
            "ma.L1         -0.6603      0.070     -9.445      0.000      -0.797      -0.523\n",
            "ma.L2         -0.2943      0.079     -3.748      0.000      -0.448      -0.140\n",
            "ma.L3         -0.1588      0.080     -1.997      0.046      -0.315      -0.003\n",
            "ma.L4          0.1776      0.075      2.380      0.017       0.031       0.324\n",
            "ma.L5         -0.4629      0.077     -6.032      0.000      -0.613      -0.312\n",
            "ma.L6          0.2006      0.058      3.482      0.000       0.088       0.314\n",
            "ma.L7         -0.0541      0.043     -1.252      0.211      -0.139       0.031\n",
            "ma.L8          0.2696      0.030      9.017      0.000       0.211       0.328\n",
            "sigma2      1.466e+08   2.05e-07   7.16e+14      0.000    1.47e+08    1.47e+08\n",
            "===================================================================================\n",
            "Ljung-Box (Q):                      143.04   Jarque-Bera (JB):              1597.55\n",
            "Prob(Q):                              0.00   Prob(JB):                         0.00\n",
            "Heteroskedasticity (H):               2.03   Skew:                             0.92\n",
            "Prob(H) (two-sided):                  0.00   Kurtosis:                         7.52\n",
            "===================================================================================\n",
            "\n",
            "Warnings:\n",
            "[1] Covariance matrix calculated using the outer product of gradients (complex-step).\n",
            "[2] Covariance matrix is singular or near-singular, with condition number 7.79e+31. Standard errors may be unstable.\n",
            "When the true theta=-0.9, the estimate of theta (and the constant) are:\n",
            "intercept    2.159448e+01\n",
            "ar.L1       -1.026411e+00\n",
            "ar.L2       -7.915223e-01\n",
            "ar.L3       -6.451174e-01\n",
            "ar.L4       -6.780366e-01\n",
            "ma.L1       -6.602568e-01\n",
            "ma.L2       -2.943320e-01\n",
            "ma.L3       -1.588315e-01\n",
            "ma.L4        1.776297e-01\n",
            "ma.L5       -4.629073e-01\n",
            "ma.L6        2.006108e-01\n",
            "ma.L7       -5.406737e-02\n",
            "ma.L8        2.695508e-01\n",
            "sigma2       1.466292e+08\n",
            "dtype: float64\n"
          ],
          "name": "stdout"
        }
      ]
    },
    {
      "cell_type": "code",
      "metadata": {
        "colab": {
          "base_uri": "https://localhost:8080/",
          "height": 268
        },
        "id": "MjqwCdEwjPjF",
        "outputId": "21e8c7bc-5fba-468e-c1f9-c747ce9452e9"
      },
      "source": [
        "# make an insample prediction of last 30 days\n",
        "forecast = results.get_prediction(start=-30)\n",
        "mean_forecast = forecast.predicted_mean\n",
        "confidence_intervals = forecast.conf_int()\n",
        "#print(confidence_intervals)\n",
        "lower_limits = confidence_intervals.loc[:,'lower sale_dollars']\n",
        "upper_limits = confidence_intervals.loc[:,'upper sale_dollars']\n",
        "\n",
        "#plot values\n",
        "plt.figure()\n",
        "#plt.plot(y_train.index, y_train['sale_dollars'])\n",
        "#plot prediction\n",
        "\n",
        "plt.plot(mean_forecast.index,mean_forecast.values, color ='red',label='forecast')\n",
        "\n",
        "#fill uncertainty area\n",
        "plt.fill_between(lower_limits.index, lower_limits, upper_limits, color='pink')\n",
        "plt.show()"
      ],
      "execution_count": 49,
      "outputs": [
        {
          "output_type": "display_data",
          "data": {
            "image/png": "[encoded data removed]",
            "text/plain": [
              "<Figure size 432x288 with 1 Axes>"
            ]
          },
          "metadata": {
            "tags": []
          }
        }
      ]
    },
    {
      "cell_type": "code",
      "metadata": {
        "colab": {
          "base_uri": "https://localhost:8080/",
          "height": 324
        },
        "id": "KoZ3ifKxkXMS",
        "outputId": "fe395b0d-291e-4ca2-8825-cbdd3654b1d9"
      },
      "source": [
        "#Creating a 30 day forecast\n",
        "forecast =results.get_forecast(steps=30)\n",
        "mean_forecast = forecast.predicted_mean\n",
        "confidence_intervals = forecast.conf_int()\n",
        "lower_limits = confidence_intervals.loc[:,'lower sale_dollars']\n",
        "upper_limits = confidence_intervals.loc[:,'upper sale_dollars']\n",
        "\n",
        "#plot prediction\n",
        "plt.figure()\n",
        "plt.plot(mean_forecast.index,mean_forecast.values, color ='purple',label='forecast')\n",
        "\n",
        "#fill uncertainty area\n",
        "plt.fill_between(lower_limits.index, lower_limits, upper_limits, color='blue')\n",
        "plt.show()"
      ],
      "execution_count": 50,
      "outputs": [
        {
          "output_type": "stream",
          "text": [
            "/usr/local/lib/python3.7/dist-packages/statsmodels/tsa/base/tsa_model.py:576: ValueWarning: No supported index is available. Prediction results will be given with an integer index beginning at `start`.\n",
            "  ValueWarning)\n"
          ],
          "name": "stderr"
        },
        {
          "output_type": "display_data",
          "data": {
            "image/png": "[encoded data removed]",
            "text/plain": [
              "<Figure size 432x288 with 1 Axes>"
            ]
          },
          "metadata": {
            "tags": []
          }
        }
      ]
    },
    {
      "cell_type": "code",
      "metadata": {
        "colab": {
          "base_uri": "https://localhost:8080/",
          "height": 386
        },
        "id": "RQ7dIh2nt1JE",
        "outputId": "cbe77b71-0310-4ad0-f40e-eb274febc0b9"
      },
      "source": [
        "#verifying model performance\n",
        "# Fit model\n",
        "import numpy as np\n",
        "\n",
        "model = SARIMAX(y_train['sale_dollars'], order=(p,2,q))\n",
        "results = model.fit()\n",
        "\n",
        "# Calculate the mean absolute error from residuals\n",
        "mae = np.mean(np.abs(results.resid))\n",
        "\n",
        "# Print mean absolute error\n",
        "print(mae)\n",
        "\n",
        "# Make plot of time series for comparison\n",
        "y_train['sale_dollars'].plot()\n",
        "plt.show()"
      ],
      "execution_count": 51,
      "outputs": [
        {
          "output_type": "stream",
          "text": [
            "/usr/local/lib/python3.7/dist-packages/statsmodels/tsa/base/tsa_model.py:219: ValueWarning: A date index has been provided, but it has no associated frequency information and so will be ignored when e.g. forecasting.\n",
            "  ' ignored when e.g. forecasting.', ValueWarning)\n",
            "/usr/local/lib/python3.7/dist-packages/statsmodels/base/model.py:512: ConvergenceWarning: Maximum Likelihood optimization failed to converge. Check mle_retvals\n",
            "  \"Check mle_retvals\", ConvergenceWarning)\n"
          ],
          "name": "stderr"
        },
        {
          "output_type": "stream",
          "text": [
            "8103.301330679582\n"
          ],
          "name": "stdout"
        },
        {
          "output_type": "display_data",
          "data": {
            "image/png": "[encoded data removed]",
            "text/plain": [
              "<Figure size 432x288 with 1 Axes>"
            ]
          },
          "metadata": {
            "tags": []
          }
        }
      ]
    },
    {
      "cell_type": "code",
      "metadata": {
        "colab": {
          "base_uri": "https://localhost:8080/",
          "height": 647
        },
        "id": "9xWvSEjqug55",
        "outputId": "f3d95544-b51c-46c3-ab17-0af31d46d58f"
      },
      "source": [
        "results.plot_diagnostics()\n",
        "\n",
        "import matplotlib.pyplot as plt\n",
        "fig = plt.gcf()\n",
        "fig.set_size_inches(18.5, 10.5)\n",
        "plt.show()\n"
      ],
      "execution_count": 52,
      "outputs": [
        {
          "output_type": "display_data",
          "data": {
            "image/png": "[encoded data removed]",
            "text/plain": [
              "<Figure size 1332x756 with 4 Axes>"
            ]
          },
          "metadata": {
            "tags": []
          }
        }
      ]
    },
    {
      "cell_type": "markdown",
      "metadata": {
        "id": "Z_pTJhqOxjlk"
      },
      "source": [
        "Seeing as though the model isn't quite where I would like it, I will try to account for the seasonality of the dataset"
      ]
    },
    {
      "cell_type": "code",
      "metadata": {
        "colab": {
          "base_uri": "https://localhost:8080/",
          "height": 284
        },
        "id": "mZGJ5F_kzeyz",
        "outputId": "d733246c-9519-4ed6-84a5-9211094c16eb"
      },
      "source": [
        "# Create figure and subplot\n",
        "fig, ax1 = plt.subplots()\n",
        "\n",
        "# Plot the ACF on ax1\n",
        "plot_acf(y_train['sale_dollars'], lags=100, zero=False,  ax=ax1)\n",
        "\n",
        "# Show figure\n",
        "plt.show()"
      ],
      "execution_count": 58,
      "outputs": [
        {
          "output_type": "display_data",
          "data": {
            "image/png": "[encoded data removed]",
            "text/plain": [
              "<Figure size 432x288 with 1 Axes>"
            ]
          },
          "metadata": {
            "tags": []
          }
        }
      ]
    },
    {
      "cell_type": "code",
      "metadata": {
        "colab": {
          "base_uri": "https://localhost:8080/",
          "height": 298
        },
        "id": "ocRNw79axjGZ",
        "outputId": "0ae81855-bebc-45fb-baca-dcd07a616c84"
      },
      "source": [
        "# Import seasonal decompose\n",
        "from statsmodels.tsa.seasonal import seasonal_decompose\n",
        "\n",
        "# Perform additive decomposition\n",
        "decomp = seasonal_decompose(y_train['sale_dollars'], freq=20)\n",
        "\n",
        "# Plot decomposition\n",
        "decomp.plot()\n",
        "plt.show()"
      ],
      "execution_count": 59,
      "outputs": [
        {
          "output_type": "display_data",
          "data": {
            "image/png": "[encoded data removed]",
            "text/plain": [
              "<Figure size 432x288 with 4 Axes>"
            ]
          },
          "metadata": {
            "tags": []
          }
        }
      ]
    },
    {
      "cell_type": "code",
      "metadata": {
        "colab": {
          "base_uri": "https://localhost:8080/",
          "height": 284
        },
        "id": "wWEVt89f18KA",
        "outputId": "298ad042-4496-43b7-dcf1-602646001539"
      },
      "source": [
        "# Subtract the rolling mean\n",
        "seasonal = y_train\n",
        "\n",
        "seasonal = seasonal - seasonal.rolling(20).mean()\n",
        "\n",
        "# Drop the NaN values\n",
        "seasonal = seasonal.dropna()\n",
        "\n",
        "# Create figure and subplots\n",
        "fig, ax1 = plt.subplots()\n",
        "\n",
        "# Plot the ACF\n",
        "plot_acf(seasonal['sale_dollars'], lags=25, zero=False, ax=ax1)\n",
        "\n",
        "# Show figure\n",
        "plt.show()"
      ],
      "execution_count": 60,
      "outputs": [
        {
          "output_type": "display_data",
          "data": {
            "image/png": "[encoded data removed]",
            "text/plain": [
              "<Figure size 432x288 with 1 Axes>"
            ]
          },
          "metadata": {
            "tags": []
          }
        }
      ]
    },
    {
      "cell_type": "markdown",
      "metadata": {
        "id": "ULjorSS72Vzc"
      },
      "source": [
        "Things to try \n",
        "- taking the log value of the time series data\n",
        "- increasing the number of lags for p and q\n",
        "- a different model\n"
      ]
    }
  ]
}